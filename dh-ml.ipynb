{
 "cells": [
  {
   "cell_type": "code",
   "execution_count": 1,
   "metadata": {},
   "outputs": [],
   "source": [
    "import pandas as pd\n",
    "import numpy as np\n",
    "#import hvplot.pandas\n",
    "from collections import Counter\n",
    "from sklearn.feature_extraction.text import CountVectorizer"
   ]
  },
  {
   "cell_type": "code",
   "execution_count": 2,
   "metadata": {},
   "outputs": [],
   "source": [
    "df = pd.read_csv('./data/names_df.csv')\n",
    "df['Name'] = df.Name.str.strip('--')\n",
    "df['Number'] = df.Number.str.strip('L00').astype(np.int)\n",
    "df['Year'] = df.Year.str.strip('Y').astype(np.int)\n",
    "idx = df[df.Year == 88].index[0]\n",
    "df.at[idx, 'Year'] = 1888"
   ]
  },
  {
   "cell_type": "code",
   "execution_count": 3,
   "metadata": {},
   "outputs": [],
   "source": [
    "df['Sex'] = df.Sex.apply(lambda x: 0 if x=='F' else 1)\n",
    "df.drop(columns=['Year'], inplace=True)\n",
    "groups = df.groupby(['Sex', 'Name'], as_index=False).sum()\n",
    "group = df.groupby(['Name']).sum()\n",
    "group.drop(columns='Sex', inplace=True)"
   ]
  },
  {
   "cell_type": "code",
   "execution_count": 4,
   "metadata": {},
   "outputs": [],
   "source": [
    "male = groups[groups.Sex==1].drop(columns=['Sex'])\n",
    "male.set_index('Name', inplace=True)\n",
    "fem = groups[groups.Sex==0].drop(columns=['Sex'])\n",
    "fem.set_index('Name', inplace=True)"
   ]
  },
  {
   "cell_type": "code",
   "execution_count": 5,
   "metadata": {},
   "outputs": [
    {
     "data": {
      "text/html": [
       "<div>\n",
       "<style scoped>\n",
       "    .dataframe tbody tr th:only-of-type {\n",
       "        vertical-align: middle;\n",
       "    }\n",
       "\n",
       "    .dataframe tbody tr th {\n",
       "        vertical-align: top;\n",
       "    }\n",
       "\n",
       "    .dataframe thead th {\n",
       "        text-align: right;\n",
       "    }\n",
       "</style>\n",
       "<table border=\"1\" class=\"dataframe\">\n",
       "  <thead>\n",
       "    <tr style=\"text-align: right;\">\n",
       "      <th></th>\n",
       "      <th>Number</th>\n",
       "      <th>Male</th>\n",
       "      <th>Female</th>\n",
       "    </tr>\n",
       "    <tr>\n",
       "      <th>Name</th>\n",
       "      <th></th>\n",
       "      <th></th>\n",
       "      <th></th>\n",
       "    </tr>\n",
       "  </thead>\n",
       "  <tbody>\n",
       "    <tr>\n",
       "      <th>Aaban</th>\n",
       "      <td>107</td>\n",
       "      <td>107.0</td>\n",
       "      <td>0.0</td>\n",
       "    </tr>\n",
       "    <tr>\n",
       "      <th>Aabha</th>\n",
       "      <td>35</td>\n",
       "      <td>0.0</td>\n",
       "      <td>35.0</td>\n",
       "    </tr>\n",
       "    <tr>\n",
       "      <th>Aabid</th>\n",
       "      <td>10</td>\n",
       "      <td>10.0</td>\n",
       "      <td>0.0</td>\n",
       "    </tr>\n",
       "    <tr>\n",
       "      <th>Aabir</th>\n",
       "      <td>5</td>\n",
       "      <td>5.0</td>\n",
       "      <td>0.0</td>\n",
       "    </tr>\n",
       "    <tr>\n",
       "      <th>Aabriella</th>\n",
       "      <td>32</td>\n",
       "      <td>0.0</td>\n",
       "      <td>32.0</td>\n",
       "    </tr>\n",
       "  </tbody>\n",
       "</table>\n",
       "</div>"
      ],
      "text/plain": [
       "           Number   Male  Female\n",
       "Name                            \n",
       "Aaban         107  107.0     0.0\n",
       "Aabha          35    0.0    35.0\n",
       "Aabid          10   10.0     0.0\n",
       "Aabir           5    5.0     0.0\n",
       "Aabriella      32    0.0    32.0"
      ]
     },
     "execution_count": 5,
     "metadata": {},
     "output_type": "execute_result"
    }
   ],
   "source": [
    "%%time\n",
    "for name, row in group.iterrows():\n",
    "    total = row.Number\n",
    "    try: \n",
    "        n_male = male.at[name, 'Number']\n",
    "        group.loc[name, 'Male'] = int(n_male)\n",
    "    except:\n",
    "        group.loc[name, 'Male'] = 0\n",
    "        \n",
    "group['Female'] = group.Number - group.Male\n",
    "group.head()"
   ]
  },
  {
   "cell_type": "code",
   "execution_count": 6,
   "metadata": {},
   "outputs": [],
   "source": [
    "male_vect = CountVectorizer(analyzer='char_wb', ngram_range=(2,8))\n",
    "male_counts = male_vect.fit_transform(male.index)\n",
    "male_counts = male_counts.sum(axis=0).A1\n",
    "m_vocab = male_vect.get_feature_names()\n",
    "mdf = pd.Series(male_counts, index=m_vocab)\n",
    "\n",
    "fem_vect = CountVectorizer(analyzer='char_wb', ngram_range=(2,8))\n",
    "fem_counts = fem_vect.fit_transform(fem.index)\n",
    "fem_counts = fem_counts.sum(axis=0).A1\n",
    "f_vocab = fem_vect.get_feature_names()\n",
    "fdf = pd.Series(fem_counts, index=f_vocab)"
   ]
  },
  {
   "cell_type": "code",
   "execution_count": 7,
   "metadata": {},
   "outputs": [],
   "source": [
    "vocab = set(m_vocab) | set(f_vocab)\n",
    "vocab = sorted(vocab)"
   ]
  },
  {
   "cell_type": "code",
   "execution_count": 8,
   "metadata": {},
   "outputs": [
    {
     "name": "stdout",
     "output_type": "stream",
     "text": [
      "CPU times: user 18.9 s, sys: 43.8 ms, total: 19 s\n",
      "Wall time: 19 s\n"
     ]
    }
   ],
   "source": [
    "%%time\n",
    "\n",
    "d = dict()\n",
    "for v in vocab:\n",
    "    try:\n",
    "        m = mdf.loc[v]\n",
    "    except:\n",
    "        m = 0\n",
    "    try:\n",
    "        f = fdf.loc[v]\n",
    "    except:\n",
    "        f = 0\n",
    "        \n",
    "    d[v] = [m, f]"
   ]
  },
  {
   "cell_type": "code",
   "execution_count": 9,
   "metadata": {},
   "outputs": [],
   "source": [
    "p = pd.DataFrame.from_dict(d, orient='index', columns=['Male', 'Female'])"
   ]
  },
  {
   "cell_type": "code",
   "execution_count": 10,
   "metadata": {},
   "outputs": [],
   "source": [
    "p['p_male'] = p.Male / (p.Male + p.Female)\n",
    "p['p_female'] = p.Female / (p.Male + p.Female)"
   ]
  },
  {
   "cell_type": "code",
   "execution_count": 11,
   "metadata": {},
   "outputs": [
    {
     "data": {
      "text/html": [
       "<div>\n",
       "<style scoped>\n",
       "    .dataframe tbody tr th:only-of-type {\n",
       "        vertical-align: middle;\n",
       "    }\n",
       "\n",
       "    .dataframe tbody tr th {\n",
       "        vertical-align: top;\n",
       "    }\n",
       "\n",
       "    .dataframe thead th {\n",
       "        text-align: right;\n",
       "    }\n",
       "</style>\n",
       "<table border=\"1\" class=\"dataframe\">\n",
       "  <thead>\n",
       "    <tr style=\"text-align: right;\">\n",
       "      <th></th>\n",
       "      <th>Male</th>\n",
       "      <th>Female</th>\n",
       "      <th>p_male</th>\n",
       "      <th>p_female</th>\n",
       "    </tr>\n",
       "  </thead>\n",
       "  <tbody>\n",
       "    <tr>\n",
       "      <th>a</th>\n",
       "      <td>3682</td>\n",
       "      <td>7604</td>\n",
       "      <td>0.326245</td>\n",
       "      <td>0.673755</td>\n",
       "    </tr>\n",
       "    <tr>\n",
       "      <th>aa</th>\n",
       "      <td>157</td>\n",
       "      <td>257</td>\n",
       "      <td>0.379227</td>\n",
       "      <td>0.620773</td>\n",
       "    </tr>\n",
       "    <tr>\n",
       "      <th>aab</th>\n",
       "      <td>3</td>\n",
       "      <td>2</td>\n",
       "      <td>0.600000</td>\n",
       "      <td>0.400000</td>\n",
       "    </tr>\n",
       "    <tr>\n",
       "      <th>aaba</th>\n",
       "      <td>1</td>\n",
       "      <td>0</td>\n",
       "      <td>1.000000</td>\n",
       "      <td>0.000000</td>\n",
       "    </tr>\n",
       "    <tr>\n",
       "      <th>aaban</th>\n",
       "      <td>1</td>\n",
       "      <td>0</td>\n",
       "      <td>1.000000</td>\n",
       "      <td>0.000000</td>\n",
       "    </tr>\n",
       "  </tbody>\n",
       "</table>\n",
       "</div>"
      ],
      "text/plain": [
       "        Male  Female    p_male  p_female\n",
       " a      3682    7604  0.326245  0.673755\n",
       " aa      157     257  0.379227  0.620773\n",
       " aab       3       2  0.600000  0.400000\n",
       " aaba      1       0  1.000000  0.000000\n",
       " aaban     1       0  1.000000  0.000000"
      ]
     },
     "execution_count": 11,
     "metadata": {},
     "output_type": "execute_result"
    }
   ],
   "source": [
    "p.head()"
   ]
  },
  {
   "cell_type": "code",
   "execution_count": 12,
   "metadata": {},
   "outputs": [
    {
     "data": {
      "text/plain": [
       "[0.40857603790789565, 0.5914239620921043]"
      ]
     },
     "execution_count": 12,
     "metadata": {},
     "output_type": "execute_result"
    }
   ],
   "source": [
    "T = len(df.Sex)\n",
    "M = df.Sex.sum()\n",
    "F = T - M\n",
    "priors = [F/T, M/T]\n",
    "priors[::-1]"
   ]
  },
  {
   "cell_type": "code",
   "execution_count": 15,
   "metadata": {},
   "outputs": [],
   "source": [
    "from sklearn.model_selection import train_test_split, cross_val_score\n",
    "from sklearn.feature_extraction.text import CountVectorizer, TfidfTransformer\n",
    "from sklearn.naive_bayes import MultinomialNB, GaussianNB, ComplementNB\n",
    "from sklearn.linear_model import SGDClassifier, LogisticRegression, LogisticRegressionCV\n",
    "from sklearn.pipeline import Pipeline"
   ]
  },
  {
   "cell_type": "code",
   "execution_count": 16,
   "metadata": {},
   "outputs": [
    {
     "data": {
      "text/html": [
       "<div>\n",
       "<style scoped>\n",
       "    .dataframe tbody tr th:only-of-type {\n",
       "        vertical-align: middle;\n",
       "    }\n",
       "\n",
       "    .dataframe tbody tr th {\n",
       "        vertical-align: top;\n",
       "    }\n",
       "\n",
       "    .dataframe thead th {\n",
       "        text-align: right;\n",
       "    }\n",
       "</style>\n",
       "<table border=\"1\" class=\"dataframe\">\n",
       "  <thead>\n",
       "    <tr style=\"text-align: right;\">\n",
       "      <th></th>\n",
       "      <th>Name</th>\n",
       "      <th>Sex</th>\n",
       "      <th>Number</th>\n",
       "    </tr>\n",
       "  </thead>\n",
       "  <tbody>\n",
       "    <tr>\n",
       "      <th>0</th>\n",
       "      <td>Mary</td>\n",
       "      <td>0</td>\n",
       "      <td>7065</td>\n",
       "    </tr>\n",
       "    <tr>\n",
       "      <th>1</th>\n",
       "      <td>Anna</td>\n",
       "      <td>0</td>\n",
       "      <td>2604</td>\n",
       "    </tr>\n",
       "    <tr>\n",
       "      <th>2</th>\n",
       "      <td>Emma</td>\n",
       "      <td>0</td>\n",
       "      <td>2003</td>\n",
       "    </tr>\n",
       "    <tr>\n",
       "      <th>3</th>\n",
       "      <td>Elizabeth</td>\n",
       "      <td>0</td>\n",
       "      <td>1939</td>\n",
       "    </tr>\n",
       "    <tr>\n",
       "      <th>4</th>\n",
       "      <td>Minnie</td>\n",
       "      <td>0</td>\n",
       "      <td>1746</td>\n",
       "    </tr>\n",
       "  </tbody>\n",
       "</table>\n",
       "</div>"
      ],
      "text/plain": [
       "        Name  Sex  Number\n",
       "0       Mary    0    7065\n",
       "1       Anna    0    2604\n",
       "2       Emma    0    2003\n",
       "3  Elizabeth    0    1939\n",
       "4     Minnie    0    1746"
      ]
     },
     "execution_count": 16,
     "metadata": {},
     "output_type": "execute_result"
    }
   ],
   "source": [
    "df.head()"
   ]
  },
  {
   "cell_type": "code",
   "execution_count": 18,
   "metadata": {},
   "outputs": [],
   "source": [
    "y = df.Sex\n",
    "#X = df.loc[:, ['Name', 'Number']]\n",
    "X = df.Name"
   ]
  },
  {
   "cell_type": "code",
   "execution_count": 19,
   "metadata": {},
   "outputs": [],
   "source": [
    "X_train, X_test, y_train, y_test = train_test_split(X, y, test_size=0.20, random_state=33)"
   ]
  },
  {
   "cell_type": "code",
   "execution_count": 29,
   "metadata": {},
   "outputs": [
    {
     "name": "stdout",
     "output_type": "stream",
     "text": [
      "CPU times: user 1min 46s, sys: 8.83 s, total: 1min 54s\n",
      "Wall time: 1min 8s\n"
     ]
    }
   ],
   "source": [
    "%%time\n",
    "cwb_vectorizer = CountVectorizer(analyzer='char_wb', lowercase=False, ngram_range=(2,8))\n",
    "X_train_counts = cwb_vectorizer.fit_transform(X_train)\n",
    "\n",
    "model_mnb = MultinomialNB(alpha=0.001).fit(X_train_counts, y_train)\n",
    "\n",
    "X_test_counts = cwb_vectorizer.transform(X_test)\n",
    "\n",
    "cv_scores = cross_val_score(model_mnb, X_train_counts, y_train, cv=10)"
   ]
  },
  {
   "cell_type": "code",
   "execution_count": 30,
   "metadata": {},
   "outputs": [
    {
     "data": {
      "text/plain": [
       "(0.8927969282966126, 0.8930034567635445, 0.8929422690991278)"
      ]
     },
     "execution_count": 30,
     "metadata": {},
     "output_type": "execute_result"
    }
   ],
   "source": [
    "score = model_mnb.score(X_test_counts, y_test)\n",
    "\n",
    "score, np.mean(cv_scores), np.median(cv_scores)"
   ]
  },
  {
   "cell_type": "code",
   "execution_count": 32,
   "metadata": {},
   "outputs": [
    {
     "name": "stdout",
     "output_type": "stream",
     "text": [
      "CPU times: user 1min 48s, sys: 9.09 s, total: 1min 57s\n",
      "Wall time: 1min 11s\n"
     ]
    }
   ],
   "source": [
    "%%time\n",
    "cwb_vectorizer = CountVectorizer(analyzer='char_wb', lowercase=False, ngram_range=(2,10))\n",
    "X_train_counts = cwb_vectorizer.fit_transform(X_train)\n",
    "\n",
    "model_mnb = MultinomialNB(alpha=0.001).fit(X_train_counts, y_train)\n",
    "\n",
    "X_test_counts = cwb_vectorizer.transform(X_test)\n",
    "\n",
    "cv_scores2 = cross_val_score(model_mnb, X_train_counts, y_train, cv=10)"
   ]
  },
  {
   "cell_type": "code",
   "execution_count": 33,
   "metadata": {},
   "outputs": [
    {
     "data": {
      "text/plain": [
       "(0.8931840086456604, 0.8932658399811044, 0.8932312808089731)"
      ]
     },
     "execution_count": 33,
     "metadata": {},
     "output_type": "execute_result"
    }
   ],
   "source": [
    "score2 = model_mnb.score(X_test_counts, y_test)\n",
    "\n",
    "score2, np.mean(cv_scores2), np.median(cv_scores2)"
   ]
  },
  {
   "cell_type": "code",
   "execution_count": 34,
   "metadata": {},
   "outputs": [
    {
     "name": "stdout",
     "output_type": "stream",
     "text": [
      "CPU times: user 43.3 s, sys: 1.58 s, total: 44.8 s\n",
      "Wall time: 41.1 s\n"
     ]
    }
   ],
   "source": [
    "%%time\n",
    "mnb_pipe = Pipeline([\n",
    "    ('vect', CountVectorizer(analyzer='char_wb', lowercase=False, ngram_range=(2,10))),\n",
    "    ('clf', MultinomialNB(alpha=0.001)),\n",
    "])\n",
    "\n",
    "mnb_pipe.fit(X_train, y_train)"
   ]
  },
  {
   "cell_type": "code",
   "execution_count": 37,
   "metadata": {},
   "outputs": [
    {
     "data": {
      "text/plain": [
       "0.8931840086456604"
      ]
     },
     "execution_count": 37,
     "metadata": {},
     "output_type": "execute_result"
    }
   ],
   "source": [
    "score = model_mnb.score(X_test_counts, y_test)\n",
    "score"
   ]
  },
  {
   "cell_type": "code",
   "execution_count": 48,
   "metadata": {},
   "outputs": [
    {
     "data": {
      "text/plain": [
       "Pipeline(memory=None,\n",
       "     steps=[('vect', CountVectorizer(analyzer='char_wb', binary=False, decode_error='strict',\n",
       "        dtype=<class 'numpy.int64'>, encoding='utf-8', input='content',\n",
       "        lowercase=False, max_df=1.0, max_features=None, min_df=1,\n",
       "        ngram_range=(2, 10), preprocessor=None, stop_words=None,\n",
       "        ...ear_tf=False, use_idf=True)), ('clf', MultinomialNB(alpha=0.001, class_prior=None, fit_prior=True))])"
      ]
     },
     "execution_count": 48,
     "metadata": {},
     "output_type": "execute_result"
    }
   ],
   "source": [
    "mnb_pipe2 = Pipeline([\n",
    "    ('vect', CountVectorizer(analyzer='char_wb', lowercase=False, ngram_range=(2,10))),\n",
    "    ('tfidf', TfidfTransformer()),\n",
    "    ('clf', MultinomialNB(alpha=0.001)),\n",
    "])\n",
    "\n",
    "mnb_pipe2.fit(X_train, y_train)"
   ]
  },
  {
   "cell_type": "code",
   "execution_count": 49,
   "metadata": {},
   "outputs": [
    {
     "data": {
      "text/plain": [
       "0.8951427910831236"
      ]
     },
     "execution_count": 49,
     "metadata": {},
     "output_type": "execute_result"
    }
   ],
   "source": [
    "mnb_pipe2.score(X_test, y_test)"
   ]
  },
  {
   "cell_type": "code",
   "execution_count": 40,
   "metadata": {},
   "outputs": [
    {
     "name": "stdout",
     "output_type": "stream",
     "text": [
      "CPU times: user 49min 41s, sys: 4.19 s, total: 49min 45s\n",
      "Wall time: 47min 37s\n"
     ]
    }
   ],
   "source": [
    "%%time\n",
    "logrcv_pipe = Pipeline([\n",
    "    ('vect', CountVectorizer(analyzer='char_wb', lowercase=False, ngram_range=(2,10))),\n",
    "    ('logrCV', LogisticRegressionCV(cv=5, random_state=11, fit_intercept=False, max_iter=5000, n_jobs=-1)),\n",
    "])\n",
    "\n",
    "logrcv_pipe.fit(X_train, y_train)"
   ]
  },
  {
   "cell_type": "code",
   "execution_count": 41,
   "metadata": {},
   "outputs": [
    {
     "data": {
      "text/plain": [
       "0.9006164709183156"
      ]
     },
     "execution_count": 41,
     "metadata": {},
     "output_type": "execute_result"
    }
   ],
   "source": [
    "logrcv_pipe.score(X_test, y_test)"
   ]
  },
  {
   "cell_type": "code",
   "execution_count": 42,
   "metadata": {},
   "outputs": [
    {
     "name": "stdout",
     "output_type": "stream",
     "text": [
      "CPU times: user 12min 16s, sys: 6.79 s, total: 12min 23s\n",
      "Wall time: 17min 35s\n"
     ]
    }
   ],
   "source": [
    "%%time\n",
    "logrcv_pipe2 = Pipeline([\n",
    "    ('vect', CountVectorizer(analyzer='char_wb', lowercase=False, ngram_range=(2,10))),\n",
    "    ('tfidf', TfidfTransformer()),\n",
    "    ('logrCV', LogisticRegressionCV(cv=5, random_state=11, fit_intercept=False, max_iter=5000, n_jobs=-1)),\n",
    "])\n",
    "\n",
    "logrcv_pipe2.fit(X_train, y_train)"
   ]
  },
  {
   "cell_type": "code",
   "execution_count": 43,
   "metadata": {},
   "outputs": [
    {
     "data": {
      "text/plain": [
       "0.9006970044137551"
      ]
     },
     "execution_count": 43,
     "metadata": {},
     "output_type": "execute_result"
    }
   ],
   "source": [
    "logrcv_pipe2.score(X_test, y_test)"
   ]
  },
  {
   "cell_type": "code",
   "execution_count": 44,
   "metadata": {},
   "outputs": [
    {
     "name": "stdout",
     "output_type": "stream",
     "text": [
      "CPU times: user 31min 57s, sys: 4.65 s, total: 32min 1s\n",
      "Wall time: 45min 13s\n"
     ]
    }
   ],
   "source": [
    "%%time\n",
    "logrcv_pipe3 = Pipeline([\n",
    "    ('vect', CountVectorizer(analyzer='char_wb', lowercase=False, ngram_range=(2,10))),\n",
    "    ('tfidf', TfidfTransformer()),\n",
    "    ('logrCV', LogisticRegressionCV(cv=5, random_state=11, fit_intercept=True, max_iter=5000, n_jobs=-1)),\n",
    "])\n",
    "\n",
    "logrcv_pipe3.fit(X_train, y_train)"
   ]
  },
  {
   "cell_type": "code",
   "execution_count": 45,
   "metadata": {},
   "outputs": [
    {
     "data": {
      "text/plain": [
       "0.9006736237215308"
      ]
     },
     "execution_count": 45,
     "metadata": {},
     "output_type": "execute_result"
    }
   ],
   "source": [
    "logrcv_pipe3.score(X_test, y_test)"
   ]
  },
  {
   "cell_type": "code",
   "execution_count": 49,
   "metadata": {},
   "outputs": [
    {
     "name": "stdout",
     "output_type": "stream",
     "text": [
      "CPU times: user 10min 59s, sys: 6.77 s, total: 11min 6s\n",
      "Wall time: 31min 10s\n"
     ]
    }
   ],
   "source": [
    "%%time\n",
    "logrcv_pipe4 = Pipeline([\n",
    "    ('vect', CountVectorizer(analyzer='char_wb', lowercase=False, ngram_range=(2,10))),\n",
    "    ('tfidf', TfidfTransformer()),\n",
    "    ('logrCV', LogisticRegressionCV(cv=10, random_state=11, fit_intercept=False, max_iter=5000, n_jobs=-1)),\n",
    "])\n",
    "\n",
    "logrcv_pipe4.fit(X_train, y_train)"
   ]
  },
  {
   "cell_type": "code",
   "execution_count": 50,
   "metadata": {},
   "outputs": [
    {
     "data": {
      "text/plain": [
       "0.9006866129949888"
      ]
     },
     "execution_count": 50,
     "metadata": {},
     "output_type": "execute_result"
    }
   ],
   "source": [
    "logrcv_pipe4.score(X_test, y_test)"
   ]
  },
  {
   "cell_type": "code",
   "execution_count": 51,
   "metadata": {},
   "outputs": [
    {
     "name": "stdout",
     "output_type": "stream",
     "text": [
      "CPU times: user 13min 9s, sys: 6.76 s, total: 13min 16s\n",
      "Wall time: 19min 37s\n"
     ]
    }
   ],
   "source": [
    "%%time\n",
    "logrcv_pipe5 = Pipeline([\n",
    "    ('vect', CountVectorizer(analyzer='char_wb', lowercase=False, ngram_range=(2,12))),\n",
    "    ('tfidf', TfidfTransformer()),\n",
    "    ('logrCV', LogisticRegressionCV(cv=5, random_state=11, fit_intercept=False, max_iter=5000, n_jobs=-1)),\n",
    "])\n",
    "\n",
    "logrcv_pipe5.fit(X_train, y_train)"
   ]
  },
  {
   "cell_type": "code",
   "execution_count": 52,
   "metadata": {},
   "outputs": [
    {
     "data": {
      "text/plain": [
       "0.9006840151402972"
      ]
     },
     "execution_count": 52,
     "metadata": {},
     "output_type": "execute_result"
    }
   ],
   "source": [
    "logrcv_pipe5.score(X_test, y_test)"
   ]
  },
  {
   "cell_type": "code",
   "execution_count": 53,
   "metadata": {},
   "outputs": [
    {
     "name": "stdout",
     "output_type": "stream",
     "text": [
      "CPU times: user 11min 47s, sys: 5.89 s, total: 11min 53s\n",
      "Wall time: 19min 34s\n"
     ]
    }
   ],
   "source": [
    "%%time\n",
    "logrcv_pipe6 = Pipeline([\n",
    "    ('vect', CountVectorizer(analyzer='char_wb', lowercase=False, ngram_range=(2,15))),\n",
    "    ('tfidf', TfidfTransformer()),\n",
    "    ('logrCV', LogisticRegressionCV(cv=5, random_state=11, fit_intercept=False, max_iter=5000, n_jobs=-1)),\n",
    "])\n",
    "\n",
    "logrcv_pipe6.fit(X_train, y_train)"
   ]
  },
  {
   "cell_type": "code",
   "execution_count": 54,
   "metadata": {},
   "outputs": [
    {
     "data": {
      "text/plain": [
       "0.9006918087043719"
      ]
     },
     "execution_count": 54,
     "metadata": {},
     "output_type": "execute_result"
    }
   ],
   "source": [
    "logrcv_pipe6.score(X_test, y_test)"
   ]
  },
  {
   "cell_type": "code",
   "execution_count": 24,
   "metadata": {},
   "outputs": [
    {
     "data": {
      "text/plain": [
       "0.8877882644512162"
      ]
     },
     "execution_count": 24,
     "metadata": {},
     "output_type": "execute_result"
    }
   ],
   "source": [
    "cwb_vectorizer = CountVectorizer(analyzer='char_wb', ngram_range=(2,11))\n",
    "X_train_counts = cwb_vectorizer.fit_transform(X_train)\n",
    "\n",
    "model_mnb = MultinomialNB().fit(X_train_counts, y_train)\n",
    "\n",
    "X_test_counts = cwb_vectorizer.transform(X_test)\n",
    "\n",
    "model_mnb.score(X_test_counts, y_test)"
   ]
  },
  {
   "cell_type": "code",
   "execution_count": 46,
   "metadata": {},
   "outputs": [
    {
     "data": {
      "text/plain": [
       "0.8877882644512162"
      ]
     },
     "execution_count": 46,
     "metadata": {},
     "output_type": "execute_result"
    }
   ],
   "source": [
    "cwb_vectorizer = CountVectorizer(analyzer='char_wb', ngram_range=(2,10))\n",
    "X_train_counts = cwb_vectorizer.fit_transform(X_train)\n",
    "\n",
    "model_gnb = MultinomialNB().fit(X_train_counts, y_train)\n",
    "\n",
    "X_test_counts = cwb_vectorizer.transform(X_test)\n",
    "\n",
    "model_gnb.score(X_test_counts, y_test)"
   ]
  },
  {
   "cell_type": "code",
   "execution_count": null,
   "metadata": {},
   "outputs": [],
   "source": []
  }
 ],
 "metadata": {
  "kernelspec": {
   "display_name": "Python 3",
   "language": "python",
   "name": "python3"
  },
  "language_info": {
   "codemirror_mode": {
    "name": "ipython",
    "version": 3
   },
   "file_extension": ".py",
   "mimetype": "text/x-python",
   "name": "python",
   "nbconvert_exporter": "python",
   "pygments_lexer": "ipython3",
   "version": "3.7.1"
  }
 },
 "nbformat": 4,
 "nbformat_minor": 2
}
