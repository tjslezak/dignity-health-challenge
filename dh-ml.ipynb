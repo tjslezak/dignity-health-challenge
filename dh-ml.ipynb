{
 "cells": [
  {
   "cell_type": "code",
   "execution_count": null,
   "metadata": {},
   "outputs": [],
   "source": [
    "import pandas as pd\n",
    "import numpy as np\n",
    "import hvplot.pandas\n",
    "from collections import Counter\n",
    "from sklearn.feature_extraction.text import CountVectorizer"
   ]
  },
  {
   "cell_type": "code",
   "execution_count": null,
   "metadata": {},
   "outputs": [],
   "source": [
    "df = pd.read_csv('./data/names_df.csv')\n",
    "df['Name'] = df.Name.str.strip('--')\n",
    "df['Number'] = df.Number.str.strip('L00').astype(np.int)\n",
    "df['Year'] = df.Year.str.strip('Y').astype(np.int)\n",
    "idx = df[df.Year == 88].index[0]\n",
    "df.at[idx, 'Year'] = 1888"
   ]
  },
  {
   "cell_type": "code",
   "execution_count": null,
   "metadata": {},
   "outputs": [],
   "source": [
    "df['Sex'] = df.Sex.apply(lambda x: 0 if x=='F' else 1)\n",
    "df.drop(columns=['Year'], inplace=True)\n",
    "groups = df.groupby(['Sex', 'Name'], as_index=False).sum()\n",
    "group = df.groupby(['Name']).sum()\n",
    "group.drop(columns='Sex', inplace=True)"
   ]
  },
  {
   "cell_type": "code",
   "execution_count": null,
   "metadata": {},
   "outputs": [],
   "source": [
    "male = groups[groups.Sex==1].drop(columns=['Sex'])\n",
    "male.set_index('Name', inplace=True)\n",
    "fem = groups[groups.Sex==0].drop(columns=['Sex'])\n",
    "fem.set_index('Name', inplace=True)"
   ]
  },
  {
   "cell_type": "code",
   "execution_count": null,
   "metadata": {},
   "outputs": [],
   "source": [
    "for name, row in group.iterrows():\n",
    "    total = row.Number\n",
    "    try: \n",
    "        n_male = male.at[name, 'Number']\n",
    "        group.loc[name, 'Male'] = int(n_male)\n",
    "    except:\n",
    "        group.loc[name, 'Male'] = 0\n",
    "        \n",
    "group['Female'] = group.Number - group.Male\n",
    "group.head()"
   ]
  },
  {
   "cell_type": "code",
   "execution_count": null,
   "metadata": {},
   "outputs": [],
   "source": []
  },
  {
   "cell_type": "code",
   "execution_count": null,
   "metadata": {},
   "outputs": [],
   "source": [
    "\n",
    "male_vect = CountVectorizer(analyzer='char_wb', ngram_range=(2,8))\n",
    "male_counts = male_vect.fit_transform(male.index).toarray()\n",
    "m_vocab = male_vect.get_feature_names()\n",
    "mdf = pd.DataFrame(male_counts, columns=m_vocab)\n",
    "fem_vect = CountVectorizer(analyzer='char_wb', ngram_range=(2,8))\n",
    "fem_counts = fem_vect.fit_transform(fem.index).toarray()\n",
    "f_vocab = fem_vect.get_feature_names()\n",
    "fdf = pd.DataFrame(fem_counts, columns=f_vocab)"
   ]
  },
  {
   "cell_type": "code",
   "execution_count": null,
   "metadata": {},
   "outputs": [],
   "source": [
    "mtotal = mdf.sum(axis=0)"
   ]
  }
 ],
 "metadata": {
  "kernelspec": {
   "display_name": "Python 3",
   "language": "python",
   "name": "python3"
  },
  "language_info": {
   "codemirror_mode": {
    "name": "ipython",
    "version": 3
   },
   "file_extension": ".py",
   "mimetype": "text/x-python",
   "name": "python",
   "nbconvert_exporter": "python",
   "pygments_lexer": "ipython3",
   "version": "3.7.1"
  }
 },
 "nbformat": 4,
 "nbformat_minor": 2
}
