{
 "cells": [
  {
   "cell_type": "code",
   "execution_count": 1,
   "metadata": {},
   "outputs": [],
   "source": [
    "import pandas as pd\n",
    "import numpy as np\n",
    "#import hvplot.pandas\n",
    "from collections import Counter\n",
    "from sklearn.feature_extraction.text import CountVectorizer"
   ]
  },
  {
   "cell_type": "code",
   "execution_count": 2,
   "metadata": {},
   "outputs": [],
   "source": [
    "df = pd.read_csv('./data/names_df.csv')\n",
    "df['Name'] = df.Name.str.strip('--')\n",
    "df['Number'] = df.Number.str.strip('L00').astype(np.int)\n",
    "df['Year'] = df.Year.str.strip('Y').astype(np.int)\n",
    "idx = df[df.Year == 88].index[0]\n",
    "df.at[idx, 'Year'] = 1888"
   ]
  },
  {
   "cell_type": "code",
   "execution_count": 3,
   "metadata": {},
   "outputs": [],
   "source": [
    "df['Sex'] = df.Sex.apply(lambda x: 0 if x=='F' else 1)\n",
    "df.drop(columns=['Year'], inplace=True)\n",
    "groups = df.groupby(['Sex', 'Name'], as_index=False).sum()\n",
    "group = df.groupby(['Name']).sum()\n",
    "group.drop(columns='Sex', inplace=True)"
   ]
  },
  {
   "cell_type": "code",
   "execution_count": 10,
   "metadata": {},
   "outputs": [
    {
     "data": {
      "text/plain": [
       "Number    979313.0\n",
       "Male        3095.0\n",
       "Female    976218.0\n",
       "Name: Sarah, dtype: float64"
      ]
     },
     "execution_count": 10,
     "metadata": {},
     "output_type": "execute_result"
    }
   ],
   "source": [
    "group.loc['Sarah']"
   ]
  },
  {
   "cell_type": "code",
   "execution_count": 11,
   "metadata": {},
   "outputs": [
    {
     "data": {
      "text/plain": [
       "Number    393734.0\n",
       "Male        1048.0\n",
       "Female    392686.0\n",
       "Name: Sara, dtype: float64"
      ]
     },
     "execution_count": 11,
     "metadata": {},
     "output_type": "execute_result"
    }
   ],
   "source": [
    "group.loc['Sara']"
   ]
  },
  {
   "cell_type": "code",
   "execution_count": 4,
   "metadata": {},
   "outputs": [],
   "source": [
    "male = groups[groups.Sex==1].drop(columns=['Sex'])\n",
    "male.set_index('Name', inplace=True)\n",
    "fem = groups[groups.Sex==0].drop(columns=['Sex'])\n",
    "fem.set_index('Name', inplace=True)"
   ]
  },
  {
   "cell_type": "code",
   "execution_count": 5,
   "metadata": {},
   "outputs": [
    {
     "data": {
      "text/html": [
       "<div>\n",
       "<style scoped>\n",
       "    .dataframe tbody tr th:only-of-type {\n",
       "        vertical-align: middle;\n",
       "    }\n",
       "\n",
       "    .dataframe tbody tr th {\n",
       "        vertical-align: top;\n",
       "    }\n",
       "\n",
       "    .dataframe thead th {\n",
       "        text-align: right;\n",
       "    }\n",
       "</style>\n",
       "<table border=\"1\" class=\"dataframe\">\n",
       "  <thead>\n",
       "    <tr style=\"text-align: right;\">\n",
       "      <th></th>\n",
       "      <th>Number</th>\n",
       "      <th>Male</th>\n",
       "      <th>Female</th>\n",
       "    </tr>\n",
       "    <tr>\n",
       "      <th>Name</th>\n",
       "      <th></th>\n",
       "      <th></th>\n",
       "      <th></th>\n",
       "    </tr>\n",
       "  </thead>\n",
       "  <tbody>\n",
       "    <tr>\n",
       "      <th>Aaban</th>\n",
       "      <td>107</td>\n",
       "      <td>107.0</td>\n",
       "      <td>0.0</td>\n",
       "    </tr>\n",
       "    <tr>\n",
       "      <th>Aabha</th>\n",
       "      <td>35</td>\n",
       "      <td>0.0</td>\n",
       "      <td>35.0</td>\n",
       "    </tr>\n",
       "    <tr>\n",
       "      <th>Aabid</th>\n",
       "      <td>10</td>\n",
       "      <td>10.0</td>\n",
       "      <td>0.0</td>\n",
       "    </tr>\n",
       "    <tr>\n",
       "      <th>Aabir</th>\n",
       "      <td>5</td>\n",
       "      <td>5.0</td>\n",
       "      <td>0.0</td>\n",
       "    </tr>\n",
       "    <tr>\n",
       "      <th>Aabriella</th>\n",
       "      <td>32</td>\n",
       "      <td>0.0</td>\n",
       "      <td>32.0</td>\n",
       "    </tr>\n",
       "  </tbody>\n",
       "</table>\n",
       "</div>"
      ],
      "text/plain": [
       "           Number   Male  Female\n",
       "Name                            \n",
       "Aaban         107  107.0     0.0\n",
       "Aabha          35    0.0    35.0\n",
       "Aabid          10   10.0     0.0\n",
       "Aabir           5    5.0     0.0\n",
       "Aabriella      32    0.0    32.0"
      ]
     },
     "execution_count": 5,
     "metadata": {},
     "output_type": "execute_result"
    }
   ],
   "source": [
    "for name, row in group.iterrows():\n",
    "    total = row.Number\n",
    "    try: \n",
    "        n_male = male.at[name, 'Number']\n",
    "        group.loc[name, 'Male'] = int(n_male)\n",
    "    except:\n",
    "        group.loc[name, 'Male'] = 0\n",
    "        \n",
    "group['Female'] = group.Number - group.Male\n",
    "group.head()"
   ]
  },
  {
   "cell_type": "code",
   "execution_count": 271,
   "metadata": {},
   "outputs": [],
   "source": [
    "male_vect = CountVectorizer(analyzer='char_wb', ngram_range=(2,8))\n",
    "male_counts = male_vect.fit_transform(male.index)\n",
    "male_counts = male_counts.sum(axis=0).A1\n",
    "m_vocab = male_vect.get_feature_names()\n",
    "mdf = pd.Series(male_counts, index=m_vocab)\n",
    "\n",
    "fem_vect = CountVectorizer(analyzer='char_wb', ngram_range=(2,8))\n",
    "fem_counts = fem_vect.fit_transform(fem.index)\n",
    "fem_counts = fem_counts.sum(axis=0).A1\n",
    "f_vocab = fem_vect.get_feature_names()\n",
    "fdf = pd.Series(fem_counts, index=f_vocab)"
   ]
  },
  {
   "cell_type": "code",
   "execution_count": 272,
   "metadata": {},
   "outputs": [
    {
     "data": {
      "text/plain": [
       "1217237"
      ]
     },
     "execution_count": 272,
     "metadata": {},
     "output_type": "execute_result"
    }
   ],
   "source": [
    "m_norm = np.sum(male_counts)\n",
    "m_norm"
   ]
  },
  {
   "cell_type": "code",
   "execution_count": 269,
   "metadata": {},
   "outputs": [
    {
     "data": {
      "text/plain": [
       " a        3682\n",
       " aa        157\n",
       " aab         3\n",
       " aaba        1\n",
       " aaban       1\n",
       "dtype: int64"
      ]
     },
     "execution_count": 269,
     "metadata": {},
     "output_type": "execute_result"
    }
   ],
   "source": [
    "mdf.head()"
   ]
  },
  {
   "cell_type": "code",
   "execution_count": 257,
   "metadata": {},
   "outputs": [
    {
     "name": "stdout",
     "output_type": "stream",
     "text": [
      "CPU times: user 18.4 s, sys: 71.9 ms, total: 18.5 s\n",
      "Wall time: 18.5 s\n"
     ]
    }
   ],
   "source": [
    "%%time\n",
    "\n",
    "d = dict()\n",
    "for v in vocab:\n",
    "    try:\n",
    "        m = mdf.loc[v]\n",
    "    except:\n",
    "        m = 0\n",
    "    try:\n",
    "        f = fdf.loc[v]\n",
    "    except:\n",
    "        f = 0\n",
    "        \n",
    "    d[v] = [m, f]"
   ]
  },
  {
   "cell_type": "code",
   "execution_count": 263,
   "metadata": {},
   "outputs": [],
   "source": [
    "p = pd.DataFrame.from_dict(d, orient='index', columns=['Male', 'Female'])"
   ]
  },
  {
   "cell_type": "code",
   "execution_count": 274,
   "metadata": {},
   "outputs": [],
   "source": [
    "p['p_male'] = p.Male / (p.Male + p.Female)\n",
    "p['p_female'] = p.Female / (p.Male + p.Female)"
   ]
  },
  {
   "cell_type": "code",
   "execution_count": 275,
   "metadata": {},
   "outputs": [
    {
     "data": {
      "text/html": [
       "<div>\n",
       "<style scoped>\n",
       "    .dataframe tbody tr th:only-of-type {\n",
       "        vertical-align: middle;\n",
       "    }\n",
       "\n",
       "    .dataframe tbody tr th {\n",
       "        vertical-align: top;\n",
       "    }\n",
       "\n",
       "    .dataframe thead th {\n",
       "        text-align: right;\n",
       "    }\n",
       "</style>\n",
       "<table border=\"1\" class=\"dataframe\">\n",
       "  <thead>\n",
       "    <tr style=\"text-align: right;\">\n",
       "      <th></th>\n",
       "      <th>Male</th>\n",
       "      <th>Female</th>\n",
       "      <th>p_male</th>\n",
       "      <th>p_female</th>\n",
       "    </tr>\n",
       "  </thead>\n",
       "  <tbody>\n",
       "    <tr>\n",
       "      <th>a</th>\n",
       "      <td>3682</td>\n",
       "      <td>7604</td>\n",
       "      <td>0.326245</td>\n",
       "      <td>0.673755</td>\n",
       "    </tr>\n",
       "    <tr>\n",
       "      <th>aa</th>\n",
       "      <td>157</td>\n",
       "      <td>257</td>\n",
       "      <td>0.379227</td>\n",
       "      <td>0.620773</td>\n",
       "    </tr>\n",
       "    <tr>\n",
       "      <th>aab</th>\n",
       "      <td>3</td>\n",
       "      <td>2</td>\n",
       "      <td>0.600000</td>\n",
       "      <td>0.400000</td>\n",
       "    </tr>\n",
       "    <tr>\n",
       "      <th>aaba</th>\n",
       "      <td>1</td>\n",
       "      <td>0</td>\n",
       "      <td>1.000000</td>\n",
       "      <td>0.000000</td>\n",
       "    </tr>\n",
       "    <tr>\n",
       "      <th>aaban</th>\n",
       "      <td>1</td>\n",
       "      <td>0</td>\n",
       "      <td>1.000000</td>\n",
       "      <td>0.000000</td>\n",
       "    </tr>\n",
       "  </tbody>\n",
       "</table>\n",
       "</div>"
      ],
      "text/plain": [
       "        Male  Female    p_male  p_female\n",
       " a      3682    7604  0.326245  0.673755\n",
       " aa      157     257  0.379227  0.620773\n",
       " aab       3       2  0.600000  0.400000\n",
       " aaba      1       0  1.000000  0.000000\n",
       " aaban     1       0  1.000000  0.000000"
      ]
     },
     "execution_count": 275,
     "metadata": {},
     "output_type": "execute_result"
    }
   ],
   "source": [
    "p.head()"
   ]
  },
  {
   "cell_type": "code",
   "execution_count": 270,
   "metadata": {},
   "outputs": [],
   "source": []
  },
  {
   "cell_type": "code",
   "execution_count": 284,
   "metadata": {},
   "outputs": [],
   "source": [
    "T = len(df.Sex)\n",
    "M = df.Sex.sum()\n",
    "F = T - M"
   ]
  },
  {
   "cell_type": "code",
   "execution_count": 286,
   "metadata": {},
   "outputs": [
    {
     "data": {
      "text/plain": [
       "[0.40857603790789565, 0.5914239620921043]"
      ]
     },
     "execution_count": 286,
     "metadata": {},
     "output_type": "execute_result"
    }
   ],
   "source": [
    "[M/T, F/T]"
   ]
  },
  {
   "cell_type": "code",
   "execution_count": 283,
   "metadata": {},
   "outputs": [
    {
     "data": {
      "text/plain": [
       "(786372, 1138293, 1924665)"
      ]
     },
     "execution_count": 283,
     "metadata": {},
     "output_type": "execute_result"
    }
   ],
   "source": [
    "df.Sex.sum(), (len(df.Sex) - df.Sex.sum()), len(df.Sex)"
   ]
  },
  {
   "cell_type": "code",
   "execution_count": null,
   "metadata": {},
   "outputs": [],
   "source": [
    "class_counts = defaultdict(int)"
   ]
  },
  {
   "cell_type": "code",
   "execution_count": null,
   "metadata": {},
   "outputs": [],
   "source": []
  },
  {
   "cell_type": "code",
   "execution_count": 230,
   "metadata": {},
   "outputs": [],
   "source": []
  },
  {
   "cell_type": "code",
   "execution_count": 186,
   "metadata": {},
   "outputs": [
    {
     "data": {
      "text/plain": [
       "2162771"
      ]
     },
     "execution_count": 186,
     "metadata": {},
     "output_type": "execute_result"
    }
   ],
   "source": [
    "f_norm = fem_counts.sum(axis=0)\n",
    "f_norm"
   ]
  },
  {
   "cell_type": "code",
   "execution_count": 184,
   "metadata": {},
   "outputs": [
    {
     "data": {
      "text/plain": [
       "array([7604,  257,    2, ...,    1,    1,    1], dtype=int64)"
      ]
     },
     "execution_count": 184,
     "metadata": {},
     "output_type": "execute_result"
    }
   ],
   "source": []
  },
  {
   "cell_type": "code",
   "execution_count": 250,
   "metadata": {},
   "outputs": [],
   "source": [
    "vocab = set(m_vocab) | set(f_vocab)\n",
    "vocab = sorted(vocab)"
   ]
  },
  {
   "cell_type": "code",
   "execution_count": 89,
   "metadata": {},
   "outputs": [],
   "source": [
    "tm = mdf.iloc[:10]\n",
    "tf = fdf.iloc[:10]"
   ]
  },
  {
   "cell_type": "code",
   "execution_count": 139,
   "metadata": {},
   "outputs": [
    {
     "data": {
      "text/plain": [
       "759251"
      ]
     },
     "execution_count": 139,
     "metadata": {},
     "output_type": "execute_result"
    }
   ],
   "source": [
    "len(m_vocab) + len(f_vocab)"
   ]
  },
  {
   "cell_type": "code",
   "execution_count": 170,
   "metadata": {},
   "outputs": [
    {
     "data": {
      "text/plain": [
       " a         NaN\n",
       " aa        NaN\n",
       " aab       NaN\n",
       " aaba      NaN\n",
       " aaban     NaN\n",
       " aaban     NaN\n",
       " aabh      NaN\n",
       " aabha     NaN\n",
       " aabha     NaN\n",
       " aabi      NaN\n",
       " aabid     NaN\n",
       " aabid     NaN\n",
       " aabir     NaN\n",
       " aabir     NaN\n",
       " aabr      NaN\n",
       " aabri     NaN\n",
       " aabrie    NaN\n",
       " aabriel   NaN\n",
       " aad       NaN\n",
       " aada      NaN\n",
       " aada      NaN\n",
       " aadam     NaN\n",
       " aadam     NaN\n",
       " aadan     NaN\n",
       " aadan     NaN\n",
       " aadar     NaN\n",
       " aadars    NaN\n",
       " aadarsh   NaN\n",
       " aade      NaN\n",
       " aaden     NaN\n",
       "            ..\n",
       "zzmu       NaN\n",
       "zzmun      NaN\n",
       "zzmun      NaN\n",
       "zzmy       NaN\n",
       "zzmyn      NaN\n",
       "zzmyn      NaN\n",
       "zzmyne     NaN\n",
       "zzmyne     NaN\n",
       "zzmynn     NaN\n",
       "zzmynn     NaN\n",
       "zzo        NaN\n",
       "zzo        NaN\n",
       "zzon       NaN\n",
       "zzon       NaN\n",
       "zzt        NaN\n",
       "zzt        NaN\n",
       "zzu        NaN\n",
       "zzur       NaN\n",
       "zzure      NaN\n",
       "zzure      NaN\n",
       "zzy        NaN\n",
       "zzy        NaN\n",
       "zzyb       NaN\n",
       "zzybe      NaN\n",
       "zzybel     NaN\n",
       "zzybell    NaN\n",
       "zzybella   NaN\n",
       "zzyz       NaN\n",
       "zzyzx      NaN\n",
       "zzyzx      NaN\n",
       "Length: 637808, dtype: float64"
      ]
     },
     "execution_count": 170,
     "metadata": {},
     "output_type": "execute_result"
    }
   ],
   "source": [
    "s = pd.Series(index=vocab)"
   ]
  },
  {
   "cell_type": "code",
   "execution_count": 93,
   "metadata": {},
   "outputs": [
    {
     "data": {
      "text/plain": [
       " a          7604\n",
       " aa          257\n",
       " aab           2\n",
       " aabh          1\n",
       " aabha         1\n",
       " aabha         1\n",
       " aabr          1\n",
       " aabri         1\n",
       " aabrie        1\n",
       " aabriel       1\n",
       "dtype: int64"
      ]
     },
     "execution_count": 93,
     "metadata": {},
     "output_type": "execute_result"
    }
   ],
   "source": [
    "tf"
   ]
  },
  {
   "cell_type": "code",
   "execution_count": null,
   "metadata": {},
   "outputs": [],
   "source": []
  }
 ],
 "metadata": {
  "kernelspec": {
   "display_name": "Python 3",
   "language": "python",
   "name": "python3"
  },
  "language_info": {
   "codemirror_mode": {
    "name": "ipython",
    "version": 3
   },
   "file_extension": ".py",
   "mimetype": "text/x-python",
   "name": "python",
   "nbconvert_exporter": "python",
   "pygments_lexer": "ipython3",
   "version": "3.7.1"
  }
 },
 "nbformat": 4,
 "nbformat_minor": 2
}
