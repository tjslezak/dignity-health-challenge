{
 "cells": [
  {
   "cell_type": "markdown",
   "metadata": {},
   "source": [
    "### Dignity Health Data Challenge"
   ]
  },
  {
   "cell_type": "markdown",
   "metadata": {},
   "source": [
    "#### Author: TJ Slezak"
   ]
  },
  {
   "cell_type": "code",
   "execution_count": 82,
   "metadata": {},
   "outputs": [],
   "source": [
    "import pandas as pd\n",
    "import numpy as np\n",
    "import hvplot.pandas\n",
    "from collections import Counter"
   ]
  },
  {
   "cell_type": "code",
   "execution_count": 83,
   "metadata": {},
   "outputs": [
    {
     "data": {
      "text/html": [
       "<div>\n",
       "<style scoped>\n",
       "    .dataframe tbody tr th:only-of-type {\n",
       "        vertical-align: middle;\n",
       "    }\n",
       "\n",
       "    .dataframe tbody tr th {\n",
       "        vertical-align: top;\n",
       "    }\n",
       "\n",
       "    .dataframe thead th {\n",
       "        text-align: right;\n",
       "    }\n",
       "</style>\n",
       "<table border=\"1\" class=\"dataframe\">\n",
       "  <thead>\n",
       "    <tr style=\"text-align: right;\">\n",
       "      <th></th>\n",
       "      <th>Name</th>\n",
       "      <th>Sex</th>\n",
       "      <th>Number</th>\n",
       "      <th>Year</th>\n",
       "    </tr>\n",
       "  </thead>\n",
       "  <tbody>\n",
       "    <tr>\n",
       "      <th>0</th>\n",
       "      <td>--Mary--</td>\n",
       "      <td>F</td>\n",
       "      <td>L007065</td>\n",
       "      <td>Y1880</td>\n",
       "    </tr>\n",
       "    <tr>\n",
       "      <th>1</th>\n",
       "      <td>--Anna--</td>\n",
       "      <td>F</td>\n",
       "      <td>L002604</td>\n",
       "      <td>Y1880</td>\n",
       "    </tr>\n",
       "    <tr>\n",
       "      <th>2</th>\n",
       "      <td>--Emma--</td>\n",
       "      <td>F</td>\n",
       "      <td>L002003</td>\n",
       "      <td>Y1880</td>\n",
       "    </tr>\n",
       "    <tr>\n",
       "      <th>3</th>\n",
       "      <td>--Elizabeth--</td>\n",
       "      <td>F</td>\n",
       "      <td>L001939</td>\n",
       "      <td>Y1880</td>\n",
       "    </tr>\n",
       "    <tr>\n",
       "      <th>4</th>\n",
       "      <td>--Minnie--</td>\n",
       "      <td>F</td>\n",
       "      <td>L001746</td>\n",
       "      <td>Y1880</td>\n",
       "    </tr>\n",
       "  </tbody>\n",
       "</table>\n",
       "</div>"
      ],
      "text/plain": [
       "            Name Sex   Number   Year\n",
       "0       --Mary--   F  L007065  Y1880\n",
       "1       --Anna--   F  L002604  Y1880\n",
       "2       --Emma--   F  L002003  Y1880\n",
       "3  --Elizabeth--   F  L001939  Y1880\n",
       "4     --Minnie--   F  L001746  Y1880"
      ]
     },
     "execution_count": 83,
     "metadata": {},
     "output_type": "execute_result"
    }
   ],
   "source": [
    "df = pd.read_csv('./data/names_df.csv')\n",
    "df.head()"
   ]
  },
  {
   "cell_type": "markdown",
   "metadata": {},
   "source": [
    "#### Data Cleaning"
   ]
  },
  {
   "cell_type": "code",
   "execution_count": 84,
   "metadata": {},
   "outputs": [
    {
     "data": {
      "text/html": [
       "<div>\n",
       "<style scoped>\n",
       "    .dataframe tbody tr th:only-of-type {\n",
       "        vertical-align: middle;\n",
       "    }\n",
       "\n",
       "    .dataframe tbody tr th {\n",
       "        vertical-align: top;\n",
       "    }\n",
       "\n",
       "    .dataframe thead th {\n",
       "        text-align: right;\n",
       "    }\n",
       "</style>\n",
       "<table border=\"1\" class=\"dataframe\">\n",
       "  <thead>\n",
       "    <tr style=\"text-align: right;\">\n",
       "      <th></th>\n",
       "      <th>Name</th>\n",
       "      <th>Sex</th>\n",
       "      <th>Number</th>\n",
       "      <th>Year</th>\n",
       "    </tr>\n",
       "  </thead>\n",
       "  <tbody>\n",
       "    <tr>\n",
       "      <th>0</th>\n",
       "      <td>Mary</td>\n",
       "      <td>F</td>\n",
       "      <td>7065</td>\n",
       "      <td>1880</td>\n",
       "    </tr>\n",
       "    <tr>\n",
       "      <th>1</th>\n",
       "      <td>Anna</td>\n",
       "      <td>F</td>\n",
       "      <td>2604</td>\n",
       "      <td>1880</td>\n",
       "    </tr>\n",
       "    <tr>\n",
       "      <th>2</th>\n",
       "      <td>Emma</td>\n",
       "      <td>F</td>\n",
       "      <td>2003</td>\n",
       "      <td>1880</td>\n",
       "    </tr>\n",
       "    <tr>\n",
       "      <th>3</th>\n",
       "      <td>Elizabeth</td>\n",
       "      <td>F</td>\n",
       "      <td>1939</td>\n",
       "      <td>1880</td>\n",
       "    </tr>\n",
       "    <tr>\n",
       "      <th>4</th>\n",
       "      <td>Minnie</td>\n",
       "      <td>F</td>\n",
       "      <td>1746</td>\n",
       "      <td>1880</td>\n",
       "    </tr>\n",
       "  </tbody>\n",
       "</table>\n",
       "</div>"
      ],
      "text/plain": [
       "        Name Sex  Number  Year\n",
       "0       Mary   F    7065  1880\n",
       "1       Anna   F    2604  1880\n",
       "2       Emma   F    2003  1880\n",
       "3  Elizabeth   F    1939  1880\n",
       "4     Minnie   F    1746  1880"
      ]
     },
     "execution_count": 84,
     "metadata": {},
     "output_type": "execute_result"
    }
   ],
   "source": [
    "df['Name'] = df.Name.str.strip('--')\n",
    "df['Number'] = df.Number.str.strip('L00').astype(np.int)\n",
    "df['Year'] = df.Year.str.strip('Y').astype(np.int)\n",
    "\n",
    "df.head()"
   ]
  },
  {
   "cell_type": "code",
   "execution_count": 85,
   "metadata": {},
   "outputs": [
    {
     "name": "stdout",
     "output_type": "stream",
     "text": [
      "<class 'pandas.core.frame.DataFrame'>\n",
      "RangeIndex: 1924665 entries, 0 to 1924664\n",
      "Data columns (total 4 columns):\n",
      "Name      object\n",
      "Sex       object\n",
      "Number    int64\n",
      "Year      int64\n",
      "dtypes: int64(2), object(2)\n",
      "memory usage: 58.7+ MB\n"
     ]
    }
   ],
   "source": [
    "df.info()"
   ]
  },
  {
   "cell_type": "markdown",
   "metadata": {},
   "source": [
    "#### EDA - Group data by Year and Sex, identify errors "
   ]
  },
  {
   "cell_type": "code",
   "execution_count": 86,
   "metadata": {},
   "outputs": [
    {
     "data": {
      "text/html": [
       "<div>\n",
       "<style scoped>\n",
       "    .dataframe tbody tr th:only-of-type {\n",
       "        vertical-align: middle;\n",
       "    }\n",
       "\n",
       "    .dataframe tbody tr th {\n",
       "        vertical-align: top;\n",
       "    }\n",
       "\n",
       "    .dataframe thead th {\n",
       "        text-align: right;\n",
       "    }\n",
       "</style>\n",
       "<table border=\"1\" class=\"dataframe\">\n",
       "  <thead>\n",
       "    <tr style=\"text-align: right;\">\n",
       "      <th></th>\n",
       "      <th></th>\n",
       "      <th>Name</th>\n",
       "      <th>Number</th>\n",
       "    </tr>\n",
       "    <tr>\n",
       "      <th>Year</th>\n",
       "      <th>Sex</th>\n",
       "      <th></th>\n",
       "      <th></th>\n",
       "    </tr>\n",
       "  </thead>\n",
       "  <tbody>\n",
       "    <tr>\n",
       "      <th>88</th>\n",
       "      <th>F</th>\n",
       "      <td>1</td>\n",
       "      <td>1</td>\n",
       "    </tr>\n",
       "    <tr>\n",
       "      <th rowspan=\"2\" valign=\"top\">1880</th>\n",
       "      <th>F</th>\n",
       "      <td>942</td>\n",
       "      <td>942</td>\n",
       "    </tr>\n",
       "    <tr>\n",
       "      <th>M</th>\n",
       "      <td>1058</td>\n",
       "      <td>1058</td>\n",
       "    </tr>\n",
       "    <tr>\n",
       "      <th rowspan=\"2\" valign=\"top\">1881</th>\n",
       "      <th>F</th>\n",
       "      <td>938</td>\n",
       "      <td>938</td>\n",
       "    </tr>\n",
       "    <tr>\n",
       "      <th>M</th>\n",
       "      <td>997</td>\n",
       "      <td>997</td>\n",
       "    </tr>\n",
       "  </tbody>\n",
       "</table>\n",
       "</div>"
      ],
      "text/plain": [
       "          Name  Number\n",
       "Year Sex              \n",
       "88   F       1       1\n",
       "1880 F     942     942\n",
       "     M    1058    1058\n",
       "1881 F     938     938\n",
       "     M     997     997"
      ]
     },
     "execution_count": 86,
     "metadata": {},
     "output_type": "execute_result"
    }
   ],
   "source": [
    "grouped_count = df.groupby(['Year', 'Sex']).count()\n",
    "grouped_count.head()"
   ]
  },
  {
   "cell_type": "markdown",
   "metadata": {},
   "source": [
    "#### Identify index location of error in data"
   ]
  },
  {
   "cell_type": "code",
   "execution_count": 87,
   "metadata": {},
   "outputs": [
    {
     "data": {
      "text/html": [
       "<div>\n",
       "<style scoped>\n",
       "    .dataframe tbody tr th:only-of-type {\n",
       "        vertical-align: middle;\n",
       "    }\n",
       "\n",
       "    .dataframe tbody tr th {\n",
       "        vertical-align: top;\n",
       "    }\n",
       "\n",
       "    .dataframe thead th {\n",
       "        text-align: right;\n",
       "    }\n",
       "</style>\n",
       "<table border=\"1\" class=\"dataframe\">\n",
       "  <thead>\n",
       "    <tr style=\"text-align: right;\">\n",
       "      <th></th>\n",
       "      <th>Name</th>\n",
       "      <th>Sex</th>\n",
       "      <th>Number</th>\n",
       "      <th>Year</th>\n",
       "    </tr>\n",
       "  </thead>\n",
       "  <tbody>\n",
       "    <tr>\n",
       "      <th>17502</th>\n",
       "      <td>Mary</td>\n",
       "      <td>F</td>\n",
       "      <td>11754</td>\n",
       "      <td>88</td>\n",
       "    </tr>\n",
       "  </tbody>\n",
       "</table>\n",
       "</div>"
      ],
      "text/plain": [
       "       Name Sex  Number  Year\n",
       "17502  Mary   F   11754    88"
      ]
     },
     "execution_count": 87,
     "metadata": {},
     "output_type": "execute_result"
    }
   ],
   "source": [
    "df[df.Year == 88]"
   ]
  },
  {
   "cell_type": "markdown",
   "metadata": {},
   "source": [
    "#### Inspect where in the dataset this value occurs to see if it is recoverable"
   ]
  },
  {
   "cell_type": "code",
   "execution_count": 88,
   "metadata": {},
   "outputs": [
    {
     "data": {
      "text/html": [
       "<div>\n",
       "<style scoped>\n",
       "    .dataframe tbody tr th:only-of-type {\n",
       "        vertical-align: middle;\n",
       "    }\n",
       "\n",
       "    .dataframe tbody tr th {\n",
       "        vertical-align: top;\n",
       "    }\n",
       "\n",
       "    .dataframe thead th {\n",
       "        text-align: right;\n",
       "    }\n",
       "</style>\n",
       "<table border=\"1\" class=\"dataframe\">\n",
       "  <thead>\n",
       "    <tr style=\"text-align: right;\">\n",
       "      <th></th>\n",
       "      <th>Name</th>\n",
       "      <th>Sex</th>\n",
       "      <th>Number</th>\n",
       "      <th>Year</th>\n",
       "    </tr>\n",
       "  </thead>\n",
       "  <tbody>\n",
       "    <tr>\n",
       "      <th>17500</th>\n",
       "      <td>Wirt</td>\n",
       "      <td>M</td>\n",
       "      <td>5</td>\n",
       "      <td>1887</td>\n",
       "    </tr>\n",
       "    <tr>\n",
       "      <th>17501</th>\n",
       "      <td>Zed</td>\n",
       "      <td>M</td>\n",
       "      <td>5</td>\n",
       "      <td>1887</td>\n",
       "    </tr>\n",
       "    <tr>\n",
       "      <th>17502</th>\n",
       "      <td>Mary</td>\n",
       "      <td>F</td>\n",
       "      <td>11754</td>\n",
       "      <td>88</td>\n",
       "    </tr>\n",
       "    <tr>\n",
       "      <th>17503</th>\n",
       "      <td>Anna</td>\n",
       "      <td>F</td>\n",
       "      <td>4982</td>\n",
       "      <td>1888</td>\n",
       "    </tr>\n",
       "    <tr>\n",
       "      <th>17504</th>\n",
       "      <td>Elizabeth</td>\n",
       "      <td>F</td>\n",
       "      <td>3224</td>\n",
       "      <td>1888</td>\n",
       "    </tr>\n",
       "  </tbody>\n",
       "</table>\n",
       "</div>"
      ],
      "text/plain": [
       "            Name Sex  Number  Year\n",
       "17500       Wirt   M       5  1887\n",
       "17501        Zed   M       5  1887\n",
       "17502       Mary   F   11754    88\n",
       "17503       Anna   F    4982  1888\n",
       "17504  Elizabeth   F    3224  1888"
      ]
     },
     "execution_count": 88,
     "metadata": {},
     "output_type": "execute_result"
    }
   ],
   "source": [
    "idx = df[df.Year == 88].index[0]\n",
    "df.loc[idx-2:idx+2]"
   ]
  },
  {
   "cell_type": "markdown",
   "metadata": {},
   "source": [
    "#### Correct the value\n",
    "It is evident that 88 was input instead of 1888."
   ]
  },
  {
   "cell_type": "code",
   "execution_count": 89,
   "metadata": {},
   "outputs": [],
   "source": [
    "df.at[idx, 'Year'] = 1888"
   ]
  },
  {
   "cell_type": "markdown",
   "metadata": {},
   "source": [
    "#### Re-Group and plot"
   ]
  },
  {
   "cell_type": "code",
   "execution_count": 90,
   "metadata": {},
   "outputs": [
    {
     "data": {
      "text/html": [
       "<div>\n",
       "<style scoped>\n",
       "    .dataframe tbody tr th:only-of-type {\n",
       "        vertical-align: middle;\n",
       "    }\n",
       "\n",
       "    .dataframe tbody tr th {\n",
       "        vertical-align: top;\n",
       "    }\n",
       "\n",
       "    .dataframe thead th {\n",
       "        text-align: right;\n",
       "    }\n",
       "</style>\n",
       "<table border=\"1\" class=\"dataframe\">\n",
       "  <thead>\n",
       "    <tr style=\"text-align: right;\">\n",
       "      <th></th>\n",
       "      <th></th>\n",
       "      <th>Name</th>\n",
       "      <th>Number</th>\n",
       "    </tr>\n",
       "    <tr>\n",
       "      <th>Year</th>\n",
       "      <th>Sex</th>\n",
       "      <th></th>\n",
       "      <th></th>\n",
       "    </tr>\n",
       "  </thead>\n",
       "  <tbody>\n",
       "    <tr>\n",
       "      <th rowspan=\"2\" valign=\"top\">1880</th>\n",
       "      <th>F</th>\n",
       "      <td>942</td>\n",
       "      <td>942</td>\n",
       "    </tr>\n",
       "    <tr>\n",
       "      <th>M</th>\n",
       "      <td>1058</td>\n",
       "      <td>1058</td>\n",
       "    </tr>\n",
       "    <tr>\n",
       "      <th rowspan=\"2\" valign=\"top\">1881</th>\n",
       "      <th>F</th>\n",
       "      <td>938</td>\n",
       "      <td>938</td>\n",
       "    </tr>\n",
       "    <tr>\n",
       "      <th>M</th>\n",
       "      <td>997</td>\n",
       "      <td>997</td>\n",
       "    </tr>\n",
       "    <tr>\n",
       "      <th>1882</th>\n",
       "      <th>F</th>\n",
       "      <td>1028</td>\n",
       "      <td>1028</td>\n",
       "    </tr>\n",
       "  </tbody>\n",
       "</table>\n",
       "</div>"
      ],
      "text/plain": [
       "          Name  Number\n",
       "Year Sex              \n",
       "1880 F     942     942\n",
       "     M    1058    1058\n",
       "1881 F     938     938\n",
       "     M     997     997\n",
       "1882 F    1028    1028"
      ]
     },
     "execution_count": 90,
     "metadata": {},
     "output_type": "execute_result"
    }
   ],
   "source": [
    "grouped_count = df.groupby(['Year', 'Sex']).count()\n",
    "grouped_count.head()"
   ]
  },
  {
   "cell_type": "code",
   "execution_count": 91,
   "metadata": {},
   "outputs": [
    {
     "data": {
      "application/javascript": [
       "\n",
       "// Ugly hack - see HoloViews #2574 for more information\n",
       "if (!(document.getElementById('1845')) && !(document.getElementById('_anim_imgNone'))) {\n",
       "  console.log(\"Creating DOM nodes dynamically for assumed nbconvert export. To generate clean HTML output set HV_DOC_HTML as an environment variable.\")\n",
       "  var htmlObject = document.createElement('div');\n",
       "  htmlObject.innerHTML = `<div id='1845' style='display: table; margin: 0 auto;'>\n",
       "\n",
       "\n",
       "\n",
       "\n",
       "\n",
       "  <div class=\"bk-root\" id=\"9728ef39-2a66-4a3c-8fd6-a4657263af76\"></div>\n",
       "</div>`;\n",
       "  var scriptTags = document.getElementsByTagName('script');\n",
       "  var parentTag = scriptTags[scriptTags.length-1].parentNode;\n",
       "  if (parentTag.attributes.length && (parentTag.attributes[0].name == 'data-shell-mode')) {\n",
       "    alert('Displaying PyViz objects in JupyterLab requires the jupyterlab_pyviz extension to be installed, install it with:\\n\\n\\tjupyter labextension install @pyviz/jupyterlab_pyviz');\n",
       "  } else {\n",
       "    parentTag.append(htmlObject)\n",
       "  }\n",
       "}\n",
       "(function(root) {\n",
       "  function embed_document(root) {\n",
       "    \n",
       "  var docs_json = {\"38865bfd-ee08-4ce4-a348-b36129e1ca46\":{\"roots\":{\"references\":[{\"attributes\":{\"below\":[{\"id\":\"1853\",\"type\":\"CategoricalAxis\"}],\"left\":[{\"id\":\"1857\",\"type\":\"LinearAxis\"}],\"min_border_bottom\":10,\"min_border_left\":10,\"min_border_right\":10,\"min_border_top\":10,\"plot_height\":480,\"plot_width\":800,\"renderers\":[{\"id\":\"1853\",\"type\":\"CategoricalAxis\"},{\"id\":\"1856\",\"type\":\"Grid\"},{\"id\":\"1857\",\"type\":\"LinearAxis\"},{\"id\":\"1861\",\"type\":\"Grid\"},{\"id\":\"1871\",\"type\":\"BoxAnnotation\"},{\"id\":\"1891\",\"type\":\"Legend\"},{\"id\":\"1883\",\"type\":\"GlyphRenderer\"},{\"id\":\"1891\",\"type\":\"Legend\"}],\"right\":[{\"id\":\"1891\",\"type\":\"Legend\"}],\"title\":{\"id\":\"1844\",\"type\":\"Title\"},\"toolbar\":{\"id\":\"1867\",\"type\":\"Toolbar\"},\"x_range\":{\"id\":\"1841\",\"type\":\"FactorRange\"},\"x_scale\":{\"id\":\"1849\",\"type\":\"CategoricalScale\"},\"y_range\":{\"id\":\"1842\",\"type\":\"Range1d\"},\"y_scale\":{\"id\":\"1851\",\"type\":\"LinearScale\"}},\"id\":\"1845\",\"subtype\":\"Figure\",\"type\":\"Plot\"},{\"attributes\":{\"callback\":null,\"end\":35070.0,\"reset_end\":35070.0,\"reset_start\":0,\"tags\":[[[\"Name\",\"Name\",null]]]},\"id\":\"1842\",\"type\":\"Range1d\"},{\"attributes\":{},\"id\":\"1854\",\"type\":\"CategoricalTicker\"},{\"attributes\":{},\"id\":\"1858\",\"type\":\"BasicTicker\"},{\"attributes\":{\"data_source\":{\"id\":\"1877\",\"type\":\"ColumnDataSource\"},\"glyph\":{\"id\":\"1880\",\"type\":\"VBar\"},\"hover_glyph\":null,\"muted_glyph\":{\"id\":\"1882\",\"type\":\"VBar\"},\"nonselection_glyph\":{\"id\":\"1881\",\"type\":\"VBar\"},\"selection_glyph\":null,\"view\":{\"id\":\"1884\",\"type\":\"CDSView\"}},\"id\":\"1883\",\"type\":\"GlyphRenderer\"},{\"attributes\":{\"callback\":null,\"factors\":[\"1880\",\"1881\",\"1882\",\"1883\",\"1884\",\"1885\",\"1886\",\"1887\",\"1888\",\"1889\",\"1890\",\"1891\",\"1892\",\"1893\",\"1894\",\"1895\",\"1896\",\"1897\",\"1898\",\"1899\",\"1900\",\"1901\",\"1902\",\"1903\",\"1904\",\"1905\",\"1906\",\"1907\",\"1908\",\"1909\",\"1910\",\"1911\",\"1912\",\"1913\",\"1914\",\"1915\",\"1916\",\"1917\",\"1918\",\"1919\",\"1920\",\"1921\",\"1922\",\"1923\",\"1924\",\"1925\",\"1926\",\"1927\",\"1928\",\"1929\",\"1930\",\"1931\",\"1932\",\"1933\",\"1934\",\"1935\",\"1936\",\"1937\",\"1938\",\"1939\",\"1940\",\"1941\",\"1942\",\"1943\",\"1944\",\"1945\",\"1946\",\"1947\",\"1948\",\"1949\",\"1950\",\"1951\",\"1952\",\"1953\",\"1954\",\"1955\",\"1956\",\"1957\",\"1958\",\"1959\",\"1960\",\"1961\",\"1962\",\"1963\",\"1964\",\"1965\",\"1966\",\"1967\",\"1968\",\"1969\",\"1970\",\"1971\",\"1972\",\"1973\",\"1974\",\"1975\",\"1976\",\"1977\",\"1978\",\"1979\",\"1980\",\"1981\",\"1982\",\"1983\",\"1984\",\"1985\",\"1986\",\"1987\",\"1988\",\"1989\",\"1990\",\"1991\",\"1992\",\"1993\",\"1994\",\"1995\",\"1996\",\"1997\",\"1998\",\"1999\",\"2000\",\"2001\",\"2002\",\"2003\",\"2004\",\"2005\",\"2006\",\"2007\",\"2008\",\"2009\",\"2010\",\"2011\",\"2012\",\"2013\",\"2014\",\"2015\",\"2016\",\"2017\"],\"tags\":[[[\"Year\",\"Year\",null]]]},\"id\":\"1841\",\"type\":\"FactorRange\"},{\"attributes\":{\"grid_line_color\":{\"value\":null},\"plot\":{\"id\":\"1845\",\"subtype\":\"Figure\",\"type\":\"Plot\"},\"ticker\":{\"id\":\"1854\",\"type\":\"CategoricalTicker\"}},\"id\":\"1856\",\"type\":\"Grid\"},{\"attributes\":{},\"id\":\"1863\",\"type\":\"PanTool\"},{\"attributes\":{\"bottom\":{\"field\":\"bottom\"},\"fill_color\":{\"field\":\"Sex\",\"transform\":{\"id\":\"1876\",\"type\":\"CategoricalColorMapper\"}},\"top\":{\"field\":\"top\"},\"width\":{\"value\":0.8},\"x\":{\"field\":\"Year\"}},\"id\":\"1880\",\"type\":\"VBar\"},{\"attributes\":{},\"id\":\"1888\",\"type\":\"CategoricalTickFormatter\"},{\"attributes\":{\"active_drag\":\"auto\",\"active_inspect\":\"auto\",\"active_multi\":null,\"active_scroll\":\"auto\",\"active_tap\":\"auto\",\"tools\":[{\"id\":\"1843\",\"type\":\"HoverTool\"},{\"id\":\"1862\",\"type\":\"SaveTool\"},{\"id\":\"1863\",\"type\":\"PanTool\"},{\"id\":\"1864\",\"type\":\"WheelZoomTool\"},{\"id\":\"1865\",\"type\":\"BoxZoomTool\"},{\"id\":\"1866\",\"type\":\"ResetTool\"}]},\"id\":\"1867\",\"type\":\"Toolbar\"},{\"attributes\":{\"overlay\":{\"id\":\"1871\",\"type\":\"BoxAnnotation\"}},\"id\":\"1865\",\"type\":\"BoxZoomTool\"},{\"attributes\":{\"dimension\":1,\"grid_line_color\":{\"value\":null},\"plot\":{\"id\":\"1845\",\"subtype\":\"Figure\",\"type\":\"Plot\"},\"ticker\":{\"id\":\"1858\",\"type\":\"BasicTicker\"}},\"id\":\"1861\",\"type\":\"Grid\"},{\"attributes\":{\"axis_label\":\"Year\",\"bounds\":\"auto\",\"formatter\":{\"id\":\"1888\",\"type\":\"CategoricalTickFormatter\"},\"major_label_orientation\":1.2915436464758039,\"plot\":{\"id\":\"1845\",\"subtype\":\"Figure\",\"type\":\"Plot\"},\"ticker\":{\"id\":\"1854\",\"type\":\"CategoricalTicker\"}},\"id\":\"1853\",\"type\":\"CategoricalAxis\"},{\"attributes\":{},\"id\":\"1866\",\"type\":\"ResetTool\"},{\"attributes\":{},\"id\":\"1864\",\"type\":\"WheelZoomTool\"},{\"attributes\":{},\"id\":\"1862\",\"type\":\"SaveTool\"},{\"attributes\":{\"bottom_units\":\"screen\",\"fill_alpha\":{\"value\":0.5},\"fill_color\":{\"value\":\"lightgrey\"},\"left_units\":\"screen\",\"level\":\"overlay\",\"line_alpha\":{\"value\":1.0},\"line_color\":{\"value\":\"black\"},\"line_dash\":[4,4],\"line_width\":{\"value\":2},\"plot\":null,\"render_mode\":\"css\",\"right_units\":\"screen\",\"top_units\":\"screen\"},\"id\":\"1871\",\"type\":\"BoxAnnotation\"},{\"attributes\":{\"plot\":null,\"text\":\"Count of Names by Sex\",\"text_color\":{\"value\":\"black\"},\"text_font_size\":{\"value\":\"12pt\"}},\"id\":\"1844\",\"type\":\"Title\"},{\"attributes\":{\"callback\":null,\"renderers\":[{\"id\":\"1883\",\"type\":\"GlyphRenderer\"}],\"tooltips\":[[\"Year\",\"@{Year}\"],[\"Sex\",\"@{Sex}\"],[\"Name\",\"@{Name}\"]]},\"id\":\"1843\",\"type\":\"HoverTool\"},{\"attributes\":{\"axis_label\":\"Name\",\"bounds\":\"auto\",\"formatter\":{\"id\":\"1886\",\"type\":\"BasicTickFormatter\"},\"major_label_orientation\":\"horizontal\",\"plot\":{\"id\":\"1845\",\"subtype\":\"Figure\",\"type\":\"Plot\"},\"ticker\":{\"id\":\"1858\",\"type\":\"BasicTicker\"}},\"id\":\"1857\",\"type\":\"LinearAxis\"},{\"attributes\":{\"label\":{\"field\":\"Sex\"},\"renderers\":[{\"id\":\"1883\",\"type\":\"GlyphRenderer\"}]},\"id\":\"1892\",\"type\":\"LegendItem\"},{\"attributes\":{},\"id\":\"1851\",\"type\":\"LinearScale\"},{\"attributes\":{\"items\":[{\"id\":\"1892\",\"type\":\"LegendItem\"}],\"location\":[0,0],\"plot\":{\"id\":\"1845\",\"subtype\":\"Figure\",\"type\":\"Plot\"}},\"id\":\"1891\",\"type\":\"Legend\"},{\"attributes\":{},\"id\":\"1878\",\"type\":\"Selection\"},{\"attributes\":{},\"id\":\"1849\",\"type\":\"CategoricalScale\"},{\"attributes\":{\"source\":{\"id\":\"1877\",\"type\":\"ColumnDataSource\"}},\"id\":\"1884\",\"type\":\"CDSView\"},{\"attributes\":{\"bottom\":{\"field\":\"bottom\"},\"fill_alpha\":{\"value\":0.2},\"fill_color\":{\"field\":\"Sex\",\"transform\":{\"id\":\"1876\",\"type\":\"CategoricalColorMapper\"}},\"line_alpha\":{\"value\":0.2},\"line_color\":{\"value\":\"black\"},\"top\":{\"field\":\"top\"},\"width\":{\"value\":0.8},\"x\":{\"field\":\"Year\"}},\"id\":\"1882\",\"type\":\"VBar\"},{\"attributes\":{},\"id\":\"1886\",\"type\":\"BasicTickFormatter\"},{\"attributes\":{\"callback\":null,\"data\":{\"Name\":[942,1058,938,997,1028,1099,1054,1030,1172,1125,1197,1097,1282,1110,1306,1067,1474,1177,1479,1111,1534,1161,1533,1127,1661,1260,1652,1179,1702,1239,1808,1241,1825,1266,1799,1229,1975,1289,1842,1200,2224,1506,1943,1210,2042,1320,2083,1306,2165,1395,2234,1421,2220,1413,2399,1549,2434,1584,2548,1679,2790,1839,2868,1999,3445,2906,3707,3261,4206,3759,4967,4390,5162,4534,5312,4602,5586,4813,5559,4810,5765,4990,5871,4986,5789,4967,5739,4904,5899,4970,5771,4867,5621,4837,5603,4803,5436,4724,5275,4543,5248,4541,4977,4320,5100,4284,4858,4154,4973,4207,4892,4145,4856,4037,4927,4019,4994,4036,4952,3967,5025,3936,5085,4000,5380,4045,5368,4040,5245,3909,5241,3783,5686,4019,6103,4268,6040,4199,6065,4203,6111,4191,6211,4251,6391,4257,6499,4339,6616,4352,6725,4388,6885,4450,7012,4552,7022,4499,7196,4573,7331,4590,7529,4652,7583,4623,7663,4619,7803,4593,7533,4420,7616,4536,7849,4550,8194,4741,8708,5040,9350,5430,9638,5655,9661,5750,9805,5876,10239,6005,10609,6335,10900,6491,11324,6851,11470,6759,11967,7071,12157,7288,12186,7286,12327,7364,12065,7338,12171,7332,12500,7581,12823,7826,13255,8148,13877,8487,14546,9227,15235,9484,15459,9646,15611,9816,15797,10169,15751,10244,15753,10327,15891,10532,16160,10811,16598,11301,16941,11609,17653,12116,17970,12299,18081,12482,18430,12753,18826,13220,19182,13364,20050,14032,20560,14390,20457,14613,20179,14523,19811,14256,19560,14343,19498,14234,19231,14038,19181,14047,19074,14024,18817,14162,18309,14160],\"Sex\":[\"F\",\"M\",\"F\",\"M\",\"F\",\"M\",\"F\",\"M\",\"F\",\"M\",\"F\",\"M\",\"F\",\"M\",\"F\",\"M\",\"F\",\"M\",\"F\",\"M\",\"F\",\"M\",\"F\",\"M\",\"F\",\"M\",\"F\",\"M\",\"F\",\"M\",\"F\",\"M\",\"F\",\"M\",\"F\",\"M\",\"F\",\"M\",\"F\",\"M\",\"F\",\"M\",\"F\",\"M\",\"F\",\"M\",\"F\",\"M\",\"F\",\"M\",\"F\",\"M\",\"F\",\"M\",\"F\",\"M\",\"F\",\"M\",\"F\",\"M\",\"F\",\"M\",\"F\",\"M\",\"F\",\"M\",\"F\",\"M\",\"F\",\"M\",\"F\",\"M\",\"F\",\"M\",\"F\",\"M\",\"F\",\"M\",\"F\",\"M\",\"F\",\"M\",\"F\",\"M\",\"F\",\"M\",\"F\",\"M\",\"F\",\"M\",\"F\",\"M\",\"F\",\"M\",\"F\",\"M\",\"F\",\"M\",\"F\",\"M\",\"F\",\"M\",\"F\",\"M\",\"F\",\"M\",\"F\",\"M\",\"F\",\"M\",\"F\",\"M\",\"F\",\"M\",\"F\",\"M\",\"F\",\"M\",\"F\",\"M\",\"F\",\"M\",\"F\",\"M\",\"F\",\"M\",\"F\",\"M\",\"F\",\"M\",\"F\",\"M\",\"F\",\"M\",\"F\",\"M\",\"F\",\"M\",\"F\",\"M\",\"F\",\"M\",\"F\",\"M\",\"F\",\"M\",\"F\",\"M\",\"F\",\"M\",\"F\",\"M\",\"F\",\"M\",\"F\",\"M\",\"F\",\"M\",\"F\",\"M\",\"F\",\"M\",\"F\",\"M\",\"F\",\"M\",\"F\",\"M\",\"F\",\"M\",\"F\",\"M\",\"F\",\"M\",\"F\",\"M\",\"F\",\"M\",\"F\",\"M\",\"F\",\"M\",\"F\",\"M\",\"F\",\"M\",\"F\",\"M\",\"F\",\"M\",\"F\",\"M\",\"F\",\"M\",\"F\",\"M\",\"F\",\"M\",\"F\",\"M\",\"F\",\"M\",\"F\",\"M\",\"F\",\"M\",\"F\",\"M\",\"F\",\"M\",\"F\",\"M\",\"F\",\"M\",\"F\",\"M\",\"F\",\"M\",\"F\",\"M\",\"F\",\"M\",\"F\",\"M\",\"F\",\"M\",\"F\",\"M\",\"F\",\"M\",\"F\",\"M\",\"F\",\"M\",\"F\",\"M\",\"F\",\"M\",\"F\",\"M\",\"F\",\"M\",\"F\",\"M\",\"F\",\"M\",\"F\",\"M\",\"F\",\"M\",\"F\",\"M\",\"F\",\"M\",\"F\",\"M\",\"F\",\"M\",\"F\",\"M\",\"F\",\"M\",\"F\",\"M\",\"F\",\"M\",\"F\",\"M\",\"F\",\"M\",\"F\",\"M\",\"F\",\"M\",\"F\",\"M\"],\"Year\":[\"1880\",\"1880\",\"1881\",\"1881\",\"1882\",\"1882\",\"1883\",\"1883\",\"1884\",\"1884\",\"1885\",\"1885\",\"1886\",\"1886\",\"1887\",\"1887\",\"1888\",\"1888\",\"1889\",\"1889\",\"1890\",\"1890\",\"1891\",\"1891\",\"1892\",\"1892\",\"1893\",\"1893\",\"1894\",\"1894\",\"1895\",\"1895\",\"1896\",\"1896\",\"1897\",\"1897\",\"1898\",\"1898\",\"1899\",\"1899\",\"1900\",\"1900\",\"1901\",\"1901\",\"1902\",\"1902\",\"1903\",\"1903\",\"1904\",\"1904\",\"1905\",\"1905\",\"1906\",\"1906\",\"1907\",\"1907\",\"1908\",\"1908\",\"1909\",\"1909\",\"1910\",\"1910\",\"1911\",\"1911\",\"1912\",\"1912\",\"1913\",\"1913\",\"1914\",\"1914\",\"1915\",\"1915\",\"1916\",\"1916\",\"1917\",\"1917\",\"1918\",\"1918\",\"1919\",\"1919\",\"1920\",\"1920\",\"1921\",\"1921\",\"1922\",\"1922\",\"1923\",\"1923\",\"1924\",\"1924\",\"1925\",\"1925\",\"1926\",\"1926\",\"1927\",\"1927\",\"1928\",\"1928\",\"1929\",\"1929\",\"1930\",\"1930\",\"1931\",\"1931\",\"1932\",\"1932\",\"1933\",\"1933\",\"1934\",\"1934\",\"1935\",\"1935\",\"1936\",\"1936\",\"1937\",\"1937\",\"1938\",\"1938\",\"1939\",\"1939\",\"1940\",\"1940\",\"1941\",\"1941\",\"1942\",\"1942\",\"1943\",\"1943\",\"1944\",\"1944\",\"1945\",\"1945\",\"1946\",\"1946\",\"1947\",\"1947\",\"1948\",\"1948\",\"1949\",\"1949\",\"1950\",\"1950\",\"1951\",\"1951\",\"1952\",\"1952\",\"1953\",\"1953\",\"1954\",\"1954\",\"1955\",\"1955\",\"1956\",\"1956\",\"1957\",\"1957\",\"1958\",\"1958\",\"1959\",\"1959\",\"1960\",\"1960\",\"1961\",\"1961\",\"1962\",\"1962\",\"1963\",\"1963\",\"1964\",\"1964\",\"1965\",\"1965\",\"1966\",\"1966\",\"1967\",\"1967\",\"1968\",\"1968\",\"1969\",\"1969\",\"1970\",\"1970\",\"1971\",\"1971\",\"1972\",\"1972\",\"1973\",\"1973\",\"1974\",\"1974\",\"1975\",\"1975\",\"1976\",\"1976\",\"1977\",\"1977\",\"1978\",\"1978\",\"1979\",\"1979\",\"1980\",\"1980\",\"1981\",\"1981\",\"1982\",\"1982\",\"1983\",\"1983\",\"1984\",\"1984\",\"1985\",\"1985\",\"1986\",\"1986\",\"1987\",\"1987\",\"1988\",\"1988\",\"1989\",\"1989\",\"1990\",\"1990\",\"1991\",\"1991\",\"1992\",\"1992\",\"1993\",\"1993\",\"1994\",\"1994\",\"1995\",\"1995\",\"1996\",\"1996\",\"1997\",\"1997\",\"1998\",\"1998\",\"1999\",\"1999\",\"2000\",\"2000\",\"2001\",\"2001\",\"2002\",\"2002\",\"2003\",\"2003\",\"2004\",\"2004\",\"2005\",\"2005\",\"2006\",\"2006\",\"2007\",\"2007\",\"2008\",\"2008\",\"2009\",\"2009\",\"2010\",\"2010\",\"2011\",\"2011\",\"2012\",\"2012\",\"2013\",\"2013\",\"2014\",\"2014\",\"2015\",\"2015\",\"2016\",\"2016\",\"2017\",\"2017\"],\"bottom\":{\"__ndarray__\":\"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\",\"dtype\":\"float64\",\"shape\":[276]},\"top\":{\"__ndarray__\":\"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\",\"dtype\":\"float64\",\"shape\":[276]}},\"selected\":{\"id\":\"1878\",\"type\":\"Selection\"},\"selection_policy\":{\"id\":\"1904\",\"type\":\"UnionRenderers\"}},\"id\":\"1877\",\"type\":\"ColumnDataSource\"},{\"attributes\":{\"factors\":[\"F\",\"M\"],\"palette\":[\"#1f77b4\",\"#ff7f0e\"]},\"id\":\"1876\",\"type\":\"CategoricalColorMapper\"},{\"attributes\":{},\"id\":\"1904\",\"type\":\"UnionRenderers\"},{\"attributes\":{\"bottom\":{\"field\":\"bottom\"},\"fill_alpha\":{\"value\":0.1},\"fill_color\":{\"field\":\"Sex\",\"transform\":{\"id\":\"1876\",\"type\":\"CategoricalColorMapper\"}},\"line_alpha\":{\"value\":0.1},\"line_color\":{\"value\":\"black\"},\"top\":{\"field\":\"top\"},\"width\":{\"value\":0.8},\"x\":{\"field\":\"Year\"}},\"id\":\"1881\",\"type\":\"VBar\"}],\"root_ids\":[\"1845\"]},\"title\":\"Bokeh Application\",\"version\":\"1.0.2\"}};\n",
       "  var render_items = [{\"docid\":\"38865bfd-ee08-4ce4-a348-b36129e1ca46\",\"roots\":{\"1845\":\"9728ef39-2a66-4a3c-8fd6-a4657263af76\"}}];\n",
       "  root.Bokeh.embed.embed_items_notebook(docs_json, render_items);\n",
       "\n",
       "  }\n",
       "  if (root.Bokeh !== undefined) {\n",
       "    embed_document(root);\n",
       "  } else {\n",
       "    var attempts = 0;\n",
       "    var timer = setInterval(function(root) {\n",
       "      if (root.Bokeh !== undefined) {\n",
       "        embed_document(root);\n",
       "        clearInterval(timer);\n",
       "      }\n",
       "      attempts++;\n",
       "      if (attempts > 100) {\n",
       "        console.log(\"Bokeh: ERROR: Unable to run BokehJS code because BokehJS library is missing\");\n",
       "        clearInterval(timer);\n",
       "      }\n",
       "    }, 10, root)\n",
       "  }\n",
       "})(window);"
      ],
      "application/vnd.holoviews_exec.v0+json": "",
      "text/html": [
       "<div id='1845' style='display: table; margin: 0 auto;'>\n",
       "\n",
       "\n",
       "\n",
       "\n",
       "\n",
       "  <div class=\"bk-root\" id=\"9728ef39-2a66-4a3c-8fd6-a4657263af76\"></div>\n",
       "</div>"
      ],
      "text/plain": [
       ":Bars   [Year,Sex]   (Name)"
      ]
     },
     "execution_count": 91,
     "metadata": {
      "application/vnd.holoviews_exec.v0+json": {
       "id": "1845"
      }
     },
     "output_type": "execute_result"
    }
   ],
   "source": [
    "grouped_count.hvplot(kind='bar', stacked=True, rot=74, width=800, height=480, title='Count of Names by Sex')"
   ]
  },
  {
   "cell_type": "code",
   "execution_count": 92,
   "metadata": {},
   "outputs": [],
   "source": [
    "# Gives the total number of names over time per sex\n",
    "grouped = df.groupby(['Name', 'Sex'], as_index = False).sum().drop(columns=['Year'])"
   ]
  },
  {
   "cell_type": "markdown",
   "metadata": {},
   "source": [
    "##### The data now looks to be clean and ready for analysis"
   ]
  },
  {
   "cell_type": "code",
   "execution_count": 93,
   "metadata": {},
   "outputs": [
    {
     "data": {
      "text/html": [
       "<div>\n",
       "<style scoped>\n",
       "    .dataframe tbody tr th:only-of-type {\n",
       "        vertical-align: middle;\n",
       "    }\n",
       "\n",
       "    .dataframe tbody tr th {\n",
       "        vertical-align: top;\n",
       "    }\n",
       "\n",
       "    .dataframe thead th {\n",
       "        text-align: right;\n",
       "    }\n",
       "</style>\n",
       "<table border=\"1\" class=\"dataframe\">\n",
       "  <thead>\n",
       "    <tr style=\"text-align: right;\">\n",
       "      <th></th>\n",
       "      <th>Name</th>\n",
       "      <th>Sex</th>\n",
       "      <th>Number</th>\n",
       "      <th>Year</th>\n",
       "    </tr>\n",
       "  </thead>\n",
       "  <tbody>\n",
       "    <tr>\n",
       "      <th>0</th>\n",
       "      <td>Mary</td>\n",
       "      <td>F</td>\n",
       "      <td>7065</td>\n",
       "      <td>1880</td>\n",
       "    </tr>\n",
       "    <tr>\n",
       "      <th>1</th>\n",
       "      <td>Anna</td>\n",
       "      <td>F</td>\n",
       "      <td>2604</td>\n",
       "      <td>1880</td>\n",
       "    </tr>\n",
       "    <tr>\n",
       "      <th>2</th>\n",
       "      <td>Emma</td>\n",
       "      <td>F</td>\n",
       "      <td>2003</td>\n",
       "      <td>1880</td>\n",
       "    </tr>\n",
       "    <tr>\n",
       "      <th>3</th>\n",
       "      <td>Elizabeth</td>\n",
       "      <td>F</td>\n",
       "      <td>1939</td>\n",
       "      <td>1880</td>\n",
       "    </tr>\n",
       "    <tr>\n",
       "      <th>4</th>\n",
       "      <td>Minnie</td>\n",
       "      <td>F</td>\n",
       "      <td>1746</td>\n",
       "      <td>1880</td>\n",
       "    </tr>\n",
       "  </tbody>\n",
       "</table>\n",
       "</div>"
      ],
      "text/plain": [
       "        Name Sex  Number  Year\n",
       "0       Mary   F    7065  1880\n",
       "1       Anna   F    2604  1880\n",
       "2       Emma   F    2003  1880\n",
       "3  Elizabeth   F    1939  1880\n",
       "4     Minnie   F    1746  1880"
      ]
     },
     "execution_count": 93,
     "metadata": {},
     "output_type": "execute_result"
    }
   ],
   "source": [
    "df.head()"
   ]
  },
  {
   "cell_type": "markdown",
   "metadata": {},
   "source": [
    "### Most common names\n",
    "1.\tWhat was the most common male name in 1989?"
   ]
  },
  {
   "cell_type": "code",
   "execution_count": 94,
   "metadata": {},
   "outputs": [
    {
     "data": {
      "text/plain": [
       "'Michael'"
      ]
     },
     "execution_count": 94,
     "metadata": {},
     "output_type": "execute_result"
    }
   ],
   "source": [
    "df[(df.Year == 1989) & (df.Sex == 'M')].iloc[0, :].Name"
   ]
  },
  {
   "cell_type": "markdown",
   "metadata": {},
   "source": [
    "2.\tWhat was the most common female name in 1989?"
   ]
  },
  {
   "cell_type": "code",
   "execution_count": 95,
   "metadata": {},
   "outputs": [
    {
     "data": {
      "text/plain": [
       "'Jessica'"
      ]
     },
     "execution_count": 95,
     "metadata": {},
     "output_type": "execute_result"
    }
   ],
   "source": [
    "df[(df.Year == 1989) & (df.Sex == 'F')].iloc[0, :].Name"
   ]
  },
  {
   "cell_type": "markdown",
   "metadata": {},
   "source": [
    "3.\tWrite code to output a list of the most common male names by year."
   ]
  },
  {
   "cell_type": "code",
   "execution_count": 96,
   "metadata": {},
   "outputs": [],
   "source": [
    "def most_common_male_names(year, n=10):\n",
    "    s = df[(df.Year == int(year)) & (df.Sex == 'M')].Name[:n]\n",
    "    return list(s)"
   ]
  },
  {
   "cell_type": "code",
   "execution_count": 97,
   "metadata": {},
   "outputs": [
    {
     "name": "stdout",
     "output_type": "stream",
     "text": [
      "['Michael', 'Christopher', 'Matthew', 'Joshua', 'Daniel', 'David', 'Andrew', 'James', 'Justin', 'Joseph', 'Ryan', 'John', 'Robert', 'Nicholas', 'Anthony']\n"
     ]
    }
   ],
   "source": [
    "print(most_common_male_names(1990, 15))"
   ]
  },
  {
   "cell_type": "markdown",
   "metadata": {},
   "source": [
    "4.\tWrite code to output a list of the most common female names by year.\n"
   ]
  },
  {
   "cell_type": "code",
   "execution_count": 98,
   "metadata": {},
   "outputs": [],
   "source": [
    "def most_common_female_names(year, n=10):\n",
    "    s = df[(df.Year == int(year)) & (df.Sex == 'F')].Name[:n]\n",
    "    return list(s)"
   ]
  },
  {
   "cell_type": "code",
   "execution_count": 99,
   "metadata": {},
   "outputs": [
    {
     "name": "stdout",
     "output_type": "stream",
     "text": [
      "['Jessica', 'Ashley', 'Emily', 'Samantha', 'Sarah', 'Taylor', 'Brittany', 'Amanda', 'Elizabeth', 'Megan']\n"
     ]
    }
   ],
   "source": [
    "print(most_common_female_names(1994))"
   ]
  },
  {
   "cell_type": "markdown",
   "metadata": {},
   "source": [
    "### Name diversity\n",
    "5.\tHow many unique names are there in the entire dataset?"
   ]
  },
  {
   "cell_type": "code",
   "execution_count": 100,
   "metadata": {},
   "outputs": [
    {
     "data": {
      "text/plain": [
       "97311"
      ]
     },
     "execution_count": 100,
     "metadata": {},
     "output_type": "execute_result"
    }
   ],
   "source": [
    "df.Name.nunique()"
   ]
  },
  {
   "cell_type": "markdown",
   "metadata": {},
   "source": [
    "6.\tHow many unique male names were there in 1989?"
   ]
  },
  {
   "cell_type": "code",
   "execution_count": 101,
   "metadata": {},
   "outputs": [
    {
     "data": {
      "text/plain": [
       "9227"
      ]
     },
     "execution_count": 101,
     "metadata": {},
     "output_type": "execute_result"
    }
   ],
   "source": [
    "df[(df.Year == 1989) & (df.Sex == 'M')].Name.nunique()"
   ]
  },
  {
   "cell_type": "markdown",
   "metadata": {},
   "source": [
    "7.\tHow many unique female names were there in 1989?"
   ]
  },
  {
   "cell_type": "code",
   "execution_count": 102,
   "metadata": {},
   "outputs": [
    {
     "data": {
      "text/plain": [
       "14546"
      ]
     },
     "execution_count": 102,
     "metadata": {},
     "output_type": "execute_result"
    }
   ],
   "source": [
    "df[(df.Year == 1989) & (df.Sex == 'F')].Name.nunique()"
   ]
  },
  {
   "cell_type": "markdown",
   "metadata": {},
   "source": [
    "8.\tHow many unique names (male and female) were there in 1989?"
   ]
  },
  {
   "cell_type": "code",
   "execution_count": 103,
   "metadata": {},
   "outputs": [
    {
     "data": {
      "text/plain": [
       "21621"
      ]
     },
     "execution_count": 103,
     "metadata": {},
     "output_type": "execute_result"
    }
   ],
   "source": [
    "df[(df.Year == 1989)].Name.nunique()"
   ]
  },
  {
   "cell_type": "markdown",
   "metadata": {},
   "source": [
    "9.\tWhy is the number of unique names in 1989 (problem #8) smaller than the sum of unique male names (problem #6) and unique female names (problem #7) for that year?"
   ]
  },
  {
   "cell_type": "code",
   "execution_count": 104,
   "metadata": {},
   "outputs": [
    {
     "name": "stdout",
     "output_type": "stream",
     "text": [
      "Unique Names - M+F:  23773 \n",
      "Unique Names - All:  21621 \n",
      "Diff: 2152\n"
     ]
    }
   ],
   "source": [
    "M89 = df[(df.Year == 1989) & (df.Sex == 'M')].Name\n",
    "F89 = df[(df.Year == 1989) & (df.Sex == 'F')].Name\n",
    "T89 = df[(df.Year == 1989)].Name\n",
    "\n",
    "print('Unique Names - M+F: ', M89.nunique()+F89.nunique(), '\\n' + 'Unique Names - All: ', T89.nunique(),\n",
    "      '\\n' + 'Diff: ' + str((M89.nunique()+F89.nunique()) - T89.nunique()))"
   ]
  },
  {
   "cell_type": "markdown",
   "metadata": {},
   "source": [
    "##### Not all names are unique to each sex."
   ]
  },
  {
   "cell_type": "code",
   "execution_count": 105,
   "metadata": {},
   "outputs": [
    {
     "name": "stdout",
     "output_type": "stream",
     "text": [
      "2152\n",
      "['Sheron', 'Jorge', 'Heather', 'Ryen', 'Ryan', 'Lorin', 'Esmeralda', 'Jacy', 'Vivian', 'Melanie', 'Adrianne', 'Elisha']\n"
     ]
    }
   ],
   "source": [
    "common_names = (set(M89) & set(F89) & set(T89))\n",
    "print(len(common_names))\n",
    "print(list(common_names)[:12])"
   ]
  },
  {
   "cell_type": "markdown",
   "metadata": {},
   "source": [
    "10.\tWrite code to output a list of names that show up in both the male and female groups in 1989. How many names show up in both groups for that year?"
   ]
  },
  {
   "cell_type": "code",
   "execution_count": 106,
   "metadata": {},
   "outputs": [],
   "source": [
    "def gender_neutral_names(year=1989):\n",
    "    M89 = df[(df.Year == year) & (df.Sex == 'M')].Name\n",
    "    F89 = df[(df.Year == year) & (df.Sex == 'F')].Name\n",
    "    names = list(set(M89) & set(F89))\n",
    "    return names"
   ]
  },
  {
   "cell_type": "code",
   "execution_count": 107,
   "metadata": {},
   "outputs": [
    {
     "data": {
      "text/plain": [
       "2152"
      ]
     },
     "execution_count": 107,
     "metadata": {},
     "output_type": "execute_result"
    }
   ],
   "source": [
    "n = gender_neutral_names(1989)\n",
    "len(n)"
   ]
  },
  {
   "cell_type": "markdown",
   "metadata": {},
   "source": [
    "11.\tShow how the answer to problem #10 helps explain the answer to problem #9.\n"
   ]
  },
  {
   "cell_type": "code",
   "execution_count": 108,
   "metadata": {},
   "outputs": [
    {
     "name": "stdout",
     "output_type": "stream",
     "text": [
      "2152\n",
      "['Sheron', 'Jorge', 'Heather', 'Ryen', 'Ryan', 'Lorin', 'Esmeralda', 'Jacy', 'Vivian', 'Melanie', 'Adrianne', 'Elisha']\n"
     ]
    }
   ],
   "source": [
    "common_names = (set(M89) & set(F89) & set(T89))\n",
    "print(len(common_names))\n",
    "print(list(common_names)[:12])"
   ]
  },
  {
   "cell_type": "markdown",
   "metadata": {},
   "source": [
    "### Unisex names\n",
    "12.\tProvide a list of the most common unisex names through 2017. Describe and justify your criteria for a name to be considered unisex. What other criteria could you use for a name to be unisex?"
   ]
  },
  {
   "cell_type": "markdown",
   "metadata": {},
   "source": [
    "I rank the names by the order they appear and assign percentiles to each name per year and sex."
   ]
  },
  {
   "cell_type": "code",
   "execution_count": 109,
   "metadata": {},
   "outputs": [
    {
     "data": {
      "text/html": [
       "<div>\n",
       "<style scoped>\n",
       "    .dataframe tbody tr th:only-of-type {\n",
       "        vertical-align: middle;\n",
       "    }\n",
       "\n",
       "    .dataframe tbody tr th {\n",
       "        vertical-align: top;\n",
       "    }\n",
       "\n",
       "    .dataframe thead th {\n",
       "        text-align: right;\n",
       "    }\n",
       "</style>\n",
       "<table border=\"1\" class=\"dataframe\">\n",
       "  <thead>\n",
       "    <tr style=\"text-align: right;\">\n",
       "      <th></th>\n",
       "      <th>Name</th>\n",
       "      <th>Sex</th>\n",
       "      <th>Number</th>\n",
       "      <th>Year</th>\n",
       "      <th>ann_pctl</th>\n",
       "    </tr>\n",
       "  </thead>\n",
       "  <tbody>\n",
       "    <tr>\n",
       "      <th>0</th>\n",
       "      <td>Mary</td>\n",
       "      <td>F</td>\n",
       "      <td>7065</td>\n",
       "      <td>1880</td>\n",
       "      <td>0.001062</td>\n",
       "    </tr>\n",
       "    <tr>\n",
       "      <th>1</th>\n",
       "      <td>Anna</td>\n",
       "      <td>F</td>\n",
       "      <td>2604</td>\n",
       "      <td>1880</td>\n",
       "      <td>0.002123</td>\n",
       "    </tr>\n",
       "    <tr>\n",
       "      <th>2</th>\n",
       "      <td>Emma</td>\n",
       "      <td>F</td>\n",
       "      <td>2003</td>\n",
       "      <td>1880</td>\n",
       "      <td>0.003185</td>\n",
       "    </tr>\n",
       "    <tr>\n",
       "      <th>3</th>\n",
       "      <td>Elizabeth</td>\n",
       "      <td>F</td>\n",
       "      <td>1939</td>\n",
       "      <td>1880</td>\n",
       "      <td>0.004246</td>\n",
       "    </tr>\n",
       "    <tr>\n",
       "      <th>4</th>\n",
       "      <td>Minnie</td>\n",
       "      <td>F</td>\n",
       "      <td>1746</td>\n",
       "      <td>1880</td>\n",
       "      <td>0.005308</td>\n",
       "    </tr>\n",
       "  </tbody>\n",
       "</table>\n",
       "</div>"
      ],
      "text/plain": [
       "        Name Sex  Number  Year  ann_pctl\n",
       "0       Mary   F    7065  1880  0.001062\n",
       "1       Anna   F    2604  1880  0.002123\n",
       "2       Emma   F    2003  1880  0.003185\n",
       "3  Elizabeth   F    1939  1880  0.004246\n",
       "4     Minnie   F    1746  1880  0.005308"
      ]
     },
     "execution_count": 109,
     "metadata": {},
     "output_type": "execute_result"
    }
   ],
   "source": [
    "for year in df.Year.unique():\n",
    "    for sex in ('F', 'M'):\n",
    "        yidx = df[(df.Year == year) & (df.Sex == sex)].index\n",
    "        df.at[yidx, 'ann_pctl'] = df.loc[yidx, 'Year'].rank(method='first', pct=True)\n",
    "        \n",
    "df.head()"
   ]
  },
  {
   "cell_type": "code",
   "execution_count": 47,
   "metadata": {},
   "outputs": [],
   "source": [
    "def unisex_names(year=1989, threshold=1.0):\n",
    "    M89 = df[(df.Year == year) & (df.Sex == 'M') & (df.ann_pctl < threshold)].Name\n",
    "    F89 = df[(df.Year == year) & (df.Sex == 'F') & (df.ann_pctl < threshold)].Name\n",
    "    names = list(set(M89) & set(F89))\n",
    "    return names\n",
    "\n",
    "def most_common_unisex_names(years=[], threshold=1.0):\n",
    "    countr = Counter()\n",
    "    if not years:\n",
    "        years = df.Year.unique()\n",
    "    for year in years:\n",
    "        names = unisex_names(year, threshold)\n",
    "        for name in names:\n",
    "            countr[name] += 1\n",
    "    return countr"
   ]
  },
  {
   "cell_type": "markdown",
   "metadata": {},
   "source": [
    "The below functions allow us to assign a percentile threshold that a name must exceed to be identified as a unisex name. This allows us to identify names that are common to each class. "
   ]
  },
  {
   "cell_type": "code",
   "execution_count": 48,
   "metadata": {},
   "outputs": [],
   "source": [
    "c95 = most_common_unisex_names(threshold=0.95)\n",
    "c90 = most_common_unisex_names(threshold=0.90)\n",
    "c75 = most_common_unisex_names(threshold=0.75)\n",
    "c50 = most_common_unisex_names(threshold=0.50)"
   ]
  },
  {
   "cell_type": "markdown",
   "metadata": {},
   "source": [
    "Show the top ten unisex names with each of the chosen thresholds."
   ]
  },
  {
   "cell_type": "code",
   "execution_count": 80,
   "metadata": {},
   "outputs": [
    {
     "name": "stdout",
     "output_type": "stream",
     "text": [
      "95%: ('Sidney', 138)\t 90%: ('Sidney', 138)\t 75%: ('Leslie', 138)\t 50%: ('James', 138)\n",
      "95%: ('Johnnie', 138)\t 90%: ('Johnnie', 138)\t 75%: ('James', 138)\t 50%: ('Marion', 138)\n",
      "95%: ('Jessie', 138)\t 90%: ('Jessie', 138)\t 75%: ('Jean', 138)\t 50%: ('Francis', 138)\n",
      "95%: ('Joseph', 138)\t 90%: ('Joseph', 138)\t 75%: ('Sidney', 138)\t 50%: ('Lee', 138)\n",
      "95%: ('Jesse', 138)\t 90%: ('William', 138)\t 75%: ('Marion', 138)\t 50%: ('Jessie', 138)\n",
      "95%: ('William', 138)\t 90%: ('Jean', 138)\t 75%: ('Francis', 138)\t 50%: ('William', 138)\n",
      "95%: ('Jean', 138)\t 90%: ('Lee', 138)\t 75%: ('Johnnie', 138)\t 50%: ('Johnnie', 137)\n",
      "95%: ('Lee', 138)\t 90%: ('Ollie', 138)\t 75%: ('Lee', 138)\t 50%: ('Jean', 133)\n",
      "95%: ('Ollie', 138)\t 90%: ('Leslie', 138)\t 75%: ('Jessie', 138)\t 50%: ('John', 132)\n",
      "95%: ('Leslie', 138)\t 90%: ('James', 138)\t 75%: ('William', 138)\t 50%: ('Leslie', 131)\n"
     ]
    }
   ],
   "source": [
    "for a, b, c, d in zip(c95.most_common(10), c90.most_common(10), c75.most_common(10), c50.most_common(10)):\n",
    "    print('95%:', str(a)+'\\t' , '90%:', str(b)+'\\t', '75%:', str(c)+'\\t', '50%:', d)"
   ]
  },
  {
   "cell_type": "code",
   "execution_count": 110,
   "metadata": {},
   "outputs": [
    {
     "data": {
      "text/html": [
       "<div>\n",
       "<style scoped>\n",
       "    .dataframe tbody tr th:only-of-type {\n",
       "        vertical-align: middle;\n",
       "    }\n",
       "\n",
       "    .dataframe tbody tr th {\n",
       "        vertical-align: top;\n",
       "    }\n",
       "\n",
       "    .dataframe thead th {\n",
       "        text-align: right;\n",
       "    }\n",
       "</style>\n",
       "<table border=\"1\" class=\"dataframe\">\n",
       "  <thead>\n",
       "    <tr style=\"text-align: right;\">\n",
       "      <th></th>\n",
       "      <th>Name</th>\n",
       "      <th>Sex</th>\n",
       "      <th>Number</th>\n",
       "      <th>Year</th>\n",
       "      <th>ann_pctl</th>\n",
       "    </tr>\n",
       "  </thead>\n",
       "  <tbody>\n",
       "    <tr>\n",
       "      <th>0</th>\n",
       "      <td>Mary</td>\n",
       "      <td>F</td>\n",
       "      <td>7065</td>\n",
       "      <td>1880</td>\n",
       "      <td>0.001062</td>\n",
       "    </tr>\n",
       "    <tr>\n",
       "      <th>1</th>\n",
       "      <td>Anna</td>\n",
       "      <td>F</td>\n",
       "      <td>2604</td>\n",
       "      <td>1880</td>\n",
       "      <td>0.002123</td>\n",
       "    </tr>\n",
       "    <tr>\n",
       "      <th>2</th>\n",
       "      <td>Emma</td>\n",
       "      <td>F</td>\n",
       "      <td>2003</td>\n",
       "      <td>1880</td>\n",
       "      <td>0.003185</td>\n",
       "    </tr>\n",
       "    <tr>\n",
       "      <th>3</th>\n",
       "      <td>Elizabeth</td>\n",
       "      <td>F</td>\n",
       "      <td>1939</td>\n",
       "      <td>1880</td>\n",
       "      <td>0.004246</td>\n",
       "    </tr>\n",
       "    <tr>\n",
       "      <th>4</th>\n",
       "      <td>Minnie</td>\n",
       "      <td>F</td>\n",
       "      <td>1746</td>\n",
       "      <td>1880</td>\n",
       "      <td>0.005308</td>\n",
       "    </tr>\n",
       "  </tbody>\n",
       "</table>\n",
       "</div>"
      ],
      "text/plain": [
       "        Name Sex  Number  Year  ann_pctl\n",
       "0       Mary   F    7065  1880  0.001062\n",
       "1       Anna   F    2604  1880  0.002123\n",
       "2       Emma   F    2003  1880  0.003185\n",
       "3  Elizabeth   F    1939  1880  0.004246\n",
       "4     Minnie   F    1746  1880  0.005308"
      ]
     },
     "execution_count": 110,
     "metadata": {},
     "output_type": "execute_result"
    }
   ],
   "source": [
    "df.head()"
   ]
  },
  {
   "cell_type": "markdown",
   "metadata": {},
   "source": []
  },
  {
   "cell_type": "code",
   "execution_count": 35,
   "metadata": {},
   "outputs": [
    {
     "data": {
      "text/plain": [
       "(2, 15)"
      ]
     },
     "execution_count": 35,
     "metadata": {},
     "output_type": "execute_result"
    }
   ],
   "source": []
  },
  {
   "cell_type": "code",
   "execution_count": 36,
   "metadata": {},
   "outputs": [
    {
     "data": {
      "text/html": [
       "<div>\n",
       "<style scoped>\n",
       "    .dataframe tbody tr th:only-of-type {\n",
       "        vertical-align: middle;\n",
       "    }\n",
       "\n",
       "    .dataframe tbody tr th {\n",
       "        vertical-align: top;\n",
       "    }\n",
       "\n",
       "    .dataframe thead th {\n",
       "        text-align: right;\n",
       "    }\n",
       "</style>\n",
       "<table border=\"1\" class=\"dataframe\">\n",
       "  <thead>\n",
       "    <tr style=\"text-align: right;\">\n",
       "      <th></th>\n",
       "      <th>Name</th>\n",
       "      <th>Sex</th>\n",
       "      <th>Number</th>\n",
       "      <th>Year</th>\n",
       "      <th>ann_pctl</th>\n",
       "    </tr>\n",
       "  </thead>\n",
       "  <tbody>\n",
       "    <tr>\n",
       "      <th>0</th>\n",
       "      <td>Mary</td>\n",
       "      <td>F</td>\n",
       "      <td>7065</td>\n",
       "      <td>1880</td>\n",
       "      <td>0.001062</td>\n",
       "    </tr>\n",
       "    <tr>\n",
       "      <th>1</th>\n",
       "      <td>Anna</td>\n",
       "      <td>F</td>\n",
       "      <td>2604</td>\n",
       "      <td>1880</td>\n",
       "      <td>0.002123</td>\n",
       "    </tr>\n",
       "    <tr>\n",
       "      <th>2</th>\n",
       "      <td>Emma</td>\n",
       "      <td>F</td>\n",
       "      <td>2003</td>\n",
       "      <td>1880</td>\n",
       "      <td>0.003185</td>\n",
       "    </tr>\n",
       "    <tr>\n",
       "      <th>3</th>\n",
       "      <td>Elizabeth</td>\n",
       "      <td>F</td>\n",
       "      <td>1939</td>\n",
       "      <td>1880</td>\n",
       "      <td>0.004246</td>\n",
       "    </tr>\n",
       "    <tr>\n",
       "      <th>4</th>\n",
       "      <td>Minnie</td>\n",
       "      <td>F</td>\n",
       "      <td>1746</td>\n",
       "      <td>1880</td>\n",
       "      <td>0.005308</td>\n",
       "    </tr>\n",
       "  </tbody>\n",
       "</table>\n",
       "</div>"
      ],
      "text/plain": [
       "        Name Sex  Number  Year  ann_pctl\n",
       "0       Mary   F    7065  1880  0.001062\n",
       "1       Anna   F    2604  1880  0.002123\n",
       "2       Emma   F    2003  1880  0.003185\n",
       "3  Elizabeth   F    1939  1880  0.004246\n",
       "4     Minnie   F    1746  1880  0.005308"
      ]
     },
     "execution_count": 36,
     "metadata": {},
     "output_type": "execute_result"
    }
   ],
   "source": [
    "df.head()"
   ]
  },
  {
   "cell_type": "code",
   "execution_count": 37,
   "metadata": {},
   "outputs": [],
   "source": [
    "y = df.Sex.apply(lambda x: 0 if x=='F' else 1)\n",
    "#y = df.loc[:, 'Sex']\n",
    "X = df.loc[:, ['Name', 'Year']]"
   ]
  },
  {
   "cell_type": "code",
   "execution_count": 38,
   "metadata": {},
   "outputs": [],
   "source": [
    "\n",
    "#X['Name'] = X.Name.apply(lambda x: cap_last(x) )"
   ]
  },
  {
   "cell_type": "code",
   "execution_count": 39,
   "metadata": {},
   "outputs": [
    {
     "data": {
      "text/html": [
       "<div>\n",
       "<style scoped>\n",
       "    .dataframe tbody tr th:only-of-type {\n",
       "        vertical-align: middle;\n",
       "    }\n",
       "\n",
       "    .dataframe tbody tr th {\n",
       "        vertical-align: top;\n",
       "    }\n",
       "\n",
       "    .dataframe thead th {\n",
       "        text-align: right;\n",
       "    }\n",
       "</style>\n",
       "<table border=\"1\" class=\"dataframe\">\n",
       "  <thead>\n",
       "    <tr style=\"text-align: right;\">\n",
       "      <th></th>\n",
       "      <th>Name</th>\n",
       "      <th>Year</th>\n",
       "    </tr>\n",
       "  </thead>\n",
       "  <tbody>\n",
       "    <tr>\n",
       "      <th>0</th>\n",
       "      <td>Mary</td>\n",
       "      <td>1880</td>\n",
       "    </tr>\n",
       "    <tr>\n",
       "      <th>1</th>\n",
       "      <td>Anna</td>\n",
       "      <td>1880</td>\n",
       "    </tr>\n",
       "    <tr>\n",
       "      <th>2</th>\n",
       "      <td>Emma</td>\n",
       "      <td>1880</td>\n",
       "    </tr>\n",
       "    <tr>\n",
       "      <th>3</th>\n",
       "      <td>Elizabeth</td>\n",
       "      <td>1880</td>\n",
       "    </tr>\n",
       "    <tr>\n",
       "      <th>4</th>\n",
       "      <td>Minnie</td>\n",
       "      <td>1880</td>\n",
       "    </tr>\n",
       "  </tbody>\n",
       "</table>\n",
       "</div>"
      ],
      "text/plain": [
       "        Name  Year\n",
       "0       Mary  1880\n",
       "1       Anna  1880\n",
       "2       Emma  1880\n",
       "3  Elizabeth  1880\n",
       "4     Minnie  1880"
      ]
     },
     "execution_count": 39,
     "metadata": {},
     "output_type": "execute_result"
    }
   ],
   "source": [
    "X.head()"
   ]
  },
  {
   "cell_type": "code",
   "execution_count": 40,
   "metadata": {},
   "outputs": [
    {
     "data": {
      "text/plain": [
       "0    0\n",
       "1    0\n",
       "2    0\n",
       "3    0\n",
       "4    0\n",
       "Name: Sex, dtype: int64"
      ]
     },
     "execution_count": 40,
     "metadata": {},
     "output_type": "execute_result"
    }
   ],
   "source": [
    "y.head()"
   ]
  },
  {
   "cell_type": "markdown",
   "metadata": {},
   "source": [
    "## Simple Model - Character Frequency"
   ]
  },
  {
   "cell_type": "code",
   "execution_count": 43,
   "metadata": {},
   "outputs": [],
   "source": [
    "from sklearn.model_selection import train_test_split\n",
    "from sklearn.feature_extraction.text import CountVectorizer, TfidfTransformer\n",
    "from sklearn.naive_bayes import MultinomialNB, GaussianNB, ComplementNB\n",
    "from sklearn.linear_model import SGDClassifier, LogisticRegression, LogisticRegressionCV\n",
    "from sklearn.pipeline import Pipeline"
   ]
  },
  {
   "cell_type": "code",
   "execution_count": 42,
   "metadata": {},
   "outputs": [],
   "source": [
    "X_train, X_test, y_train, y_test = train_test_split(X, y, test_size=0.20, random_state=33)"
   ]
  },
  {
   "cell_type": "code",
   "execution_count": 50,
   "metadata": {},
   "outputs": [
    {
     "data": {
      "text/plain": [
       "0.6690333122907103"
      ]
     },
     "execution_count": 50,
     "metadata": {},
     "output_type": "execute_result"
    }
   ],
   "source": [
    "cwb_vectorizer = CountVectorizer(analyzer='char_wb', ngram_range=(1,1))\n",
    "X_train_counts = cwb_vectorizer.fit_transform(X_train.Name)\n",
    "\n",
    "model_mnb = MultinomialNB().fit(X_train_counts, y_train)\n",
    "\n",
    "X_test_counts = cwb_vectorizer.transform(X_test.Name)\n",
    "\n",
    "model_mnb.score(X_test_counts, y_test)"
   ]
  },
  {
   "cell_type": "code",
   "execution_count": 65,
   "metadata": {},
   "outputs": [
    {
     "data": {
      "text/plain": [
       "<1539732x763325 sparse matrix of type '<class 'numpy.int64'>'\n",
       "\twith 46601657 stored elements in Compressed Sparse Row format>"
      ]
     },
     "execution_count": 65,
     "metadata": {},
     "output_type": "execute_result"
    }
   ],
   "source": [
    "X_train_counts"
   ]
  },
  {
   "cell_type": "code",
   "execution_count": 53,
   "metadata": {},
   "outputs": [
    {
     "name": "stdout",
     "output_type": "stream",
     "text": [
      "[' ', 'a', 'b', 'c', 'd', 'e', 'f', 'g', 'h', 'i', 'j', 'k', 'l', 'm', 'n', 'o', 'p', 'q', 'r', 's', 't', 'u', 'v', 'w', 'x', 'y', 'z']\n"
     ]
    }
   ],
   "source": [
    "print(cwb_vectorizer.get_feature_names())"
   ]
  },
  {
   "cell_type": "code",
   "execution_count": 54,
   "metadata": {},
   "outputs": [
    {
     "data": {
      "text/plain": [
       "0.7864589422055267"
      ]
     },
     "execution_count": 54,
     "metadata": {},
     "output_type": "execute_result"
    }
   ],
   "source": [
    "cwb_vectorizer = CountVectorizer(analyzer='char_wb', ngram_range=(2,2))\n",
    "X_train_counts = cwb_vectorizer.fit_transform(X_train.Name)\n",
    "\n",
    "model_mnb = MultinomialNB().fit(X_train_counts, y_train)\n",
    "\n",
    "X_test_counts = cwb_vectorizer.transform(X_test.Name)\n",
    "\n",
    "model_mnb.score(X_test_counts, y_test)"
   ]
  },
  {
   "cell_type": "code",
   "execution_count": 59,
   "metadata": {},
   "outputs": [
    {
     "name": "stdout",
     "output_type": "stream",
     "text": [
      "[' a', ' b', ' c', ' d', ' e', ' f', ' g', ' h', ' i', ' j', ' k', ' l', ' m', ' n', ' o', ' p', ' q', ' r', ' s', ' t', ' u', ' v', ' w', ' x', ' y', ' z', 'a ', 'aa', 'ab', 'ac', 'ad', 'ae', 'af', 'ag', 'ah', 'ai', 'aj', 'ak', 'al', 'am', 'an', 'ao', 'ap', 'aq', 'ar', 'as', 'at', 'au', 'av', 'aw', 'ax', 'ay', 'az', 'b ', 'ba', 'bb', 'bc', 'bd', 'be', 'bg', 'bh', 'bi', 'bj', 'bl', 'bm', 'bn', 'bo', 'br', 'bs', 'bt', 'bu', 'bw', 'by', 'c ', 'ca', 'cb', 'cc', 'cd', 'ce', 'cg', 'ch', 'ci', 'cj', 'ck', 'cl', 'cm', 'cn', 'co', 'cp', 'cq', 'cr', 'cs', 'ct', 'cu', 'cx', 'cy', 'cz', 'd ', 'da', 'db']\n"
     ]
    }
   ],
   "source": [
    "print(cwb_vectorizer.get_feature_names()[:100])"
   ]
  },
  {
   "cell_type": "code",
   "execution_count": 60,
   "metadata": {},
   "outputs": [
    {
     "data": {
      "text/plain": [
       "0.8870738544110274"
      ]
     },
     "execution_count": 60,
     "metadata": {},
     "output_type": "execute_result"
    }
   ],
   "source": [
    "cwb_vectorizer = CountVectorizer(analyzer='char_wb', ngram_range=(2,8))\n",
    "X_train_counts = cwb_vectorizer.fit_transform(X_train.Name)\n",
    "\n",
    "model_mnb = MultinomialNB().fit(X_train_counts, y_train)\n",
    "\n",
    "X_test_counts = cwb_vectorizer.transform(X_test.Name)\n",
    "\n",
    "model_mnb.score(X_test_counts, y_test)"
   ]
  },
  {
   "cell_type": "code",
   "execution_count": 61,
   "metadata": {},
   "outputs": [
    {
     "data": {
      "text/plain": [
       "0.8887624599605646"
      ]
     },
     "execution_count": 61,
     "metadata": {},
     "output_type": "execute_result"
    }
   ],
   "source": [
    "cwb_vectorizer = CountVectorizer(analyzer='char_wb', lowercase=False, ngram_range=(2,8))\n",
    "X_train_counts = cwb_vectorizer.fit_transform(X_train.Name)\n",
    "\n",
    "model_mnb = MultinomialNB().fit(X_train_counts, y_train)\n",
    "\n",
    "X_test_counts = cwb_vectorizer.transform(X_test.Name)\n",
    "\n",
    "model_mnb.score(X_test_counts, y_test)"
   ]
  },
  {
   "cell_type": "code",
   "execution_count": 62,
   "metadata": {},
   "outputs": [
    {
     "data": {
      "text/plain": [
       "0.8927969282966126"
      ]
     },
     "execution_count": 62,
     "metadata": {},
     "output_type": "execute_result"
    }
   ],
   "source": [
    "cwb_vectorizer = CountVectorizer(analyzer='char_wb', lowercase=False, ngram_range=(2,8))\n",
    "X_train_counts = cwb_vectorizer.fit_transform(X_train.Name)\n",
    "\n",
    "model_mnb = MultinomialNB(alpha=0.001).fit(X_train_counts, y_train)\n",
    "\n",
    "X_test_counts = cwb_vectorizer.transform(X_test.Name)\n",
    "\n",
    "model_mnb.score(X_test_counts, y_test)"
   ]
  },
  {
   "cell_type": "code",
   "execution_count": 63,
   "metadata": {},
   "outputs": [
    {
     "data": {
      "text/plain": [
       "0.8931840086456604"
      ]
     },
     "execution_count": 63,
     "metadata": {},
     "output_type": "execute_result"
    }
   ],
   "source": [
    "cwb_vectorizer = CountVectorizer(analyzer='char_wb', lowercase=False, ngram_range=(2,10))\n",
    "X_train_counts = cwb_vectorizer.fit_transform(X_train.Name)\n",
    "\n",
    "model_mnb = MultinomialNB(alpha=0.001).fit(X_train_counts, y_train)\n",
    "\n",
    "X_test_counts = cwb_vectorizer.transform(X_test.Name)\n",
    "\n",
    "model_mnb.score(X_test_counts, y_test)"
   ]
  },
  {
   "cell_type": "code",
   "execution_count": 186,
   "metadata": {},
   "outputs": [
    {
     "data": {
      "text/plain": [
       "0.7537207773820379"
      ]
     },
     "execution_count": 186,
     "metadata": {},
     "output_type": "execute_result"
    }
   ],
   "source": [
    "cwb_vectorizer = CountVectorizer(analyzer='char_wb', ngram_range=(1,2))\n",
    "X_train_counts = cwb_vectorizer.fit_transform(X_train.Name)\n",
    "\n",
    "tfidf_transformer = TfidfTransformer(use_idf=False)\n",
    "X_train_tfidf = tfidf_transformer.fit_transform(X_train_counts)\n",
    "\n",
    "model_mnb = MultinomialNB().fit(X_train_tfidf, y_train)\n",
    "\n",
    "X_test_counts = cwb_vectorizer.transform(X_test.Name)\n",
    "X_test_tfidf = tfidf_transformer.transform(X_test_counts)\n",
    "\n",
    "model_mnb.score(X_test_tfidf, y_test)"
   ]
  },
  {
   "cell_type": "code",
   "execution_count": 184,
   "metadata": {},
   "outputs": [
    {
     "data": {
      "text/plain": [
       "0.8053063779930534"
      ]
     },
     "execution_count": 184,
     "metadata": {},
     "output_type": "execute_result"
    }
   ],
   "source": [
    "cwb_vectorizer = CountVectorizer(analyzer='char_wb', ngram_range=(1,3))\n",
    "X_train_counts = cwb_vectorizer.fit_transform(X_train.Name)\n",
    "\n",
    "tfidf_transformer = TfidfTransformer(use_idf=False)\n",
    "X_train_tfidf = tfidf_transformer.fit_transform(X_train_counts)\n",
    "\n",
    "model_mnb = MultinomialNB().fit(X_train_tfidf, y_train)\n",
    "\n",
    "X_test_counts = cwb_vectorizer.transform(X_test.Name)\n",
    "X_test_tfidf = tfidf_transformer.transform(X_test_counts)\n",
    "\n",
    "model_mnb.score(X_test_tfidf, y_test)"
   ]
  },
  {
   "cell_type": "code",
   "execution_count": 197,
   "metadata": {},
   "outputs": [
    {
     "data": {
      "text/plain": [
       "0.8663975289206174"
      ]
     },
     "execution_count": 197,
     "metadata": {},
     "output_type": "execute_result"
    }
   ],
   "source": [
    "cwb_vectorizer = CountVectorizer(analyzer='char_wb', lowercase=False, ngram_range=(1,4))\n",
    "X_train_counts = cwb_vectorizer.fit_transform(X_train.Name)\n",
    "\n",
    "tfidf_transformer = TfidfTransformer()\n",
    "X_train_tfidf = tfidf_transformer.fit_transform(X_train_counts)\n",
    "\n",
    "model_mnb = MultinomialNB().fit(X_train_tfidf, y_train)\n",
    "\n",
    "X_test_counts = cwb_vectorizer.transform(X_test.Name)\n",
    "X_test_tfidf = tfidf_transformer.transform(X_test_counts)\n",
    "\n",
    "model_mnb.score(X_test_tfidf, y_test)\n",
    "#0.8391668160433114"
   ]
  },
  {
   "cell_type": "code",
   "execution_count": 215,
   "metadata": {},
   "outputs": [
    {
     "data": {
      "text/plain": [
       "0.8400007273993136"
      ]
     },
     "execution_count": 215,
     "metadata": {},
     "output_type": "execute_result"
    }
   ],
   "source": [
    "cwb_vectorizer = CountVectorizer(analyzer='char_wb', lowercase=False, ngram_range=(2,3))\n",
    "X_train_counts = cwb_vectorizer.fit_transform(X_train.Name)\n",
    "\n",
    "tfidf_transformer = TfidfTransformer()\n",
    "X_train_tfidf = tfidf_transformer.fit_transform(X_train_counts)\n",
    "\n",
    "model_mnb = MultinomialNB().fit(X_train_tfidf, y_train)\n",
    "\n",
    "X_test_counts = cwb_vectorizer.transform(X_test.Name)\n",
    "X_test_tfidf = tfidf_transformer.transform(X_test_counts)\n",
    "\n",
    "model_mnb.score(X_test_tfidf, y_test)"
   ]
  },
  {
   "cell_type": "code",
   "execution_count": 199,
   "metadata": {},
   "outputs": [
    {
     "data": {
      "text/plain": [
       "0.8671223303795725"
      ]
     },
     "execution_count": 199,
     "metadata": {},
     "output_type": "execute_result"
    }
   ],
   "source": [
    "cwb_vectorizer = CountVectorizer(analyzer='char_wb', lowercase=False, ngram_range=(2,4))\n",
    "X_train_counts = cwb_vectorizer.fit_transform(X_train.Name)\n",
    "\n",
    "tfidf_transformer = TfidfTransformer()\n",
    "X_train_tfidf = tfidf_transformer.fit_transform(X_train_counts)\n",
    "\n",
    "model_mnb = MultinomialNB().fit(X_train_tfidf, y_train)\n",
    "\n",
    "X_test_counts = cwb_vectorizer.transform(X_test.Name)\n",
    "X_test_tfidf = tfidf_transformer.transform(X_test_counts)\n",
    "\n",
    "model_mnb.score(X_test_tfidf, y_test)\n",
    "#0.843866335180408"
   ]
  },
  {
   "cell_type": "code",
   "execution_count": 219,
   "metadata": {},
   "outputs": [
    {
     "data": {
      "text/plain": [
       "0.8816027724305269"
      ]
     },
     "execution_count": 219,
     "metadata": {},
     "output_type": "execute_result"
    }
   ],
   "source": [
    "cwb_vectorizer = CountVectorizer(analyzer='char_wb', lowercase=False, ngram_range=(2,5))\n",
    "X_train_counts = cwb_vectorizer.fit_transform(X_train.Name)\n",
    "\n",
    "tfidf_transformer = TfidfTransformer()\n",
    "X_train_tfidf = tfidf_transformer.fit_transform(X_train_counts)\n",
    "\n",
    "model_mnb = MultinomialNB().fit(X_train_tfidf, y_train)\n",
    "\n",
    "X_test_counts = cwb_vectorizer.transform(X_test.Name)\n",
    "X_test_tfidf = tfidf_transformer.transform(X_test_counts)\n",
    "\n",
    "model_mnb.score(X_test_tfidf, y_test)"
   ]
  },
  {
   "cell_type": "code",
   "execution_count": 220,
   "metadata": {},
   "outputs": [
    {
     "data": {
      "text/plain": [
       "0.8885884036962276"
      ]
     },
     "execution_count": 220,
     "metadata": {},
     "output_type": "execute_result"
    }
   ],
   "source": [
    "cwb_vectorizer = CountVectorizer(analyzer='char_wb', lowercase=False, ngram_range=(2,6))\n",
    "X_train_counts = cwb_vectorizer.fit_transform(X_train.Name)\n",
    "\n",
    "tfidf_transformer = TfidfTransformer()\n",
    "X_train_tfidf = tfidf_transformer.fit_transform(X_train_counts)\n",
    "\n",
    "model_mnb = MultinomialNB().fit(X_train_tfidf, y_train)\n",
    "\n",
    "X_test_counts = cwb_vectorizer.transform(X_test.Name)\n",
    "X_test_tfidf = tfidf_transformer.transform(X_test_counts)\n",
    "\n",
    "model_mnb.score(X_test_tfidf, y_test)"
   ]
  },
  {
   "cell_type": "code",
   "execution_count": 227,
   "metadata": {},
   "outputs": [
    {
     "data": {
      "text/plain": [
       "0.8915525558993384"
      ]
     },
     "execution_count": 227,
     "metadata": {},
     "output_type": "execute_result"
    }
   ],
   "source": [
    "cwb_vectorizer = CountVectorizer(analyzer='char_wb', lowercase=False, ngram_range=(2,7))\n",
    "X_train_counts = cwb_vectorizer.fit_transform(X_train.Name)\n",
    "\n",
    "tfidf_transformer = TfidfTransformer()\n",
    "X_train_tfidf = tfidf_transformer.fit_transform(X_train_counts)\n",
    "\n",
    "model_mnb = MultinomialNB().fit(X_train_tfidf, y_train)\n",
    "\n",
    "X_test_counts = cwb_vectorizer.transform(X_test.Name)\n",
    "X_test_tfidf = tfidf_transformer.transform(X_test_counts)\n",
    "\n",
    "model_mnb.score(X_test_tfidf, y_test)"
   ]
  },
  {
   "cell_type": "code",
   "execution_count": 234,
   "metadata": {},
   "outputs": [
    {
     "data": {
      "text/plain": [
       "0.8925449363915279"
      ]
     },
     "execution_count": 234,
     "metadata": {},
     "output_type": "execute_result"
    }
   ],
   "source": [
    "cwb_vectorizer = CountVectorizer(analyzer='char_wb', lowercase=False, ngram_range=(2,8))\n",
    "X_train_counts = cwb_vectorizer.fit_transform(X_train.Name)\n",
    "\n",
    "tfidf_transformer = TfidfTransformer()\n",
    "X_train_tfidf = tfidf_transformer.fit_transform(X_train_counts)\n",
    "\n",
    "model_mnb = MultinomialNB().fit(X_train_tfidf, y_train)\n",
    "\n",
    "X_test_counts = cwb_vectorizer.transform(X_test.Name)\n",
    "X_test_tfidf = tfidf_transformer.transform(X_test_counts)\n",
    "\n",
    "model_mnb.score(X_test_tfidf, y_test)\n",
    "#0.8925449363915279"
   ]
  },
  {
   "cell_type": "code",
   "execution_count": 235,
   "metadata": {},
   "outputs": [
    {
     "data": {
      "text/plain": [
       "0.8963300106771828"
      ]
     },
     "execution_count": 235,
     "metadata": {},
     "output_type": "execute_result"
    }
   ],
   "source": [
    "cwb_vectorizer = CountVectorizer(analyzer='char_wb', lowercase=False, ngram_range=(2,8))\n",
    "X_train_counts = cwb_vectorizer.fit_transform(X_train.Name)\n",
    "\n",
    "tfidf_transformer = TfidfTransformer()\n",
    "X_train_tfidf = tfidf_transformer.fit_transform(X_train_counts)\n",
    "\n",
    "model_mnb = MultinomialNB(alpha=0.01).fit(X_train_tfidf, y_train)\n",
    "\n",
    "X_test_counts = cwb_vectorizer.transform(X_test.Name)\n",
    "X_test_tfidf = tfidf_transformer.transform(X_test_counts)\n",
    "\n",
    "model_mnb.score(X_test_tfidf, y_test)\n",
    "#0.8925449363915279  alpha = 1.0\n",
    "#0.8963300106771828  alpha = 0.01"
   ]
  },
  {
   "cell_type": "code",
   "execution_count": 236,
   "metadata": {},
   "outputs": [
    {
     "data": {
      "text/plain": [
       "0.896348195660024"
      ]
     },
     "execution_count": 236,
     "metadata": {},
     "output_type": "execute_result"
    }
   ],
   "source": [
    "cwb_vectorizer = CountVectorizer(analyzer='char_wb', lowercase=False, ngram_range=(2,8))\n",
    "X_train_counts = cwb_vectorizer.fit_transform(X_train.Name)\n",
    "\n",
    "tfidf_transformer = TfidfTransformer()\n",
    "X_train_tfidf = tfidf_transformer.fit_transform(X_train_counts)\n",
    "\n",
    "model_mnb = MultinomialNB(alpha=0.001).fit(X_train_tfidf, y_train)\n",
    "\n",
    "X_test_counts = cwb_vectorizer.transform(X_test.Name)\n",
    "X_test_tfidf = tfidf_transformer.transform(X_test_counts)\n",
    "\n",
    "model_mnb.score(X_test_tfidf, y_test)\n",
    "#0.8925449363915279  alpha = 1.0\n",
    "#0.896091008045556   alpha = 0.1\n",
    "#0.8963300106771828  alpha = 0.01\n",
    "#0.896348195660024   alpha = 0.001\n",
    "#0.8962494771817433   alpha = 0.00001"
   ]
  },
  {
   "cell_type": "code",
   "execution_count": 257,
   "metadata": {},
   "outputs": [
    {
     "data": {
      "text/plain": [
       "0.89362304608854"
      ]
     },
     "execution_count": 257,
     "metadata": {},
     "output_type": "execute_result"
    }
   ],
   "source": [
    "cwb_vectorizer = CountVectorizer(analyzer='char_wb', lowercase=False, ngram_range=(2,14))\n",
    "X_train_counts = cwb_vectorizer.fit_transform(X_train.Name)\n",
    "\n",
    "#tfidf_transformer = TfidfTransformer()\n",
    "#X_train_tfidf = tfidf_transformer.fit_transform(X_train_counts)\n",
    "\n",
    "model_mnb = MultinomialNB(alpha=0.001).fit(X_train_counts, y_train)\n",
    "\n",
    "X_test_counts = cwb_vectorizer.transform(X_test.Name)\n",
    "#X_test_tfidf = tfidf_transformer.transform(X_test_counts)\n",
    "\n",
    "model_mnb.score(X_test_counts, y_test)\n",
    "#0.8925449363915279  alpha = 1.0\n",
    "#0.896091008045556   alpha = 0.1\n",
    "#0.8963300106771828  alpha = 0.01\n",
    "#0.896348195660024   alpha = 0.001\n",
    "#0.8965768068728843  ngram_range=(2,14)"
   ]
  },
  {
   "cell_type": "code",
   "execution_count": 274,
   "metadata": {},
   "outputs": [
    {
     "data": {
      "text/plain": [
       "0.8963559892240988"
      ]
     },
     "execution_count": 274,
     "metadata": {},
     "output_type": "execute_result"
    }
   ],
   "source": [
    "cwb_vectorizer = CountVectorizer(analyzer='char_wb', lowercase=False, ngram_range=(2,8))\n",
    "X_train_counts = cwb_vectorizer.fit_transform(X_train.Name)\n",
    "\n",
    "tfidf_transformer = TfidfTransformer(smooth_idf=False)\n",
    "X_train_tfidf = tfidf_transformer.fit_transform(X_train_counts)\n",
    "\n",
    "model_mnb = MultinomialNB(alpha=0.001).fit(X_train_tfidf, y_train)\n",
    "\n",
    "X_test_counts = cwb_vectorizer.transform(X_test.Name)\n",
    "X_test_tfidf = tfidf_transformer.transform(X_test_counts)\n",
    "\n",
    "model_mnb.score(X_test_tfidf, y_test)\n",
    "#0.8925449363915279  alpha = 1.0\n",
    "#0.896091008045556   alpha = 0.1\n",
    "#0.8963300106771828  alpha = 0.01\n",
    "#0.896348195660024   alpha = 0.001\n",
    "#0.8965768068728843  ngram_range=(2,14)\n",
    "#0.893591871832241   No tfidf\n",
    "###0.8973197933146807 ngram_range=(2,10)\n",
    "#0.8965794047275759 ngram_range=(2,12), smooth_idf=False\n",
    "#0.8965222519243609 ngram_range=(2,10), smooth_idf=False"
   ]
  },
  {
   "cell_type": "code",
   "execution_count": 277,
   "metadata": {},
   "outputs": [
    {
     "data": {
      "text/plain": [
       "array([910303., 629429.])"
      ]
     },
     "execution_count": 277,
     "metadata": {},
     "output_type": "execute_result"
    }
   ],
   "source": [
    "model_mnb.class_count_"
   ]
  },
  {
   "cell_type": "code",
   "execution_count": 278,
   "metadata": {},
   "outputs": [
    {
     "data": {
      "text/plain": [
       "0.8965170562149777"
      ]
     },
     "execution_count": 278,
     "metadata": {},
     "output_type": "execute_result"
    }
   ],
   "source": [
    "cwb_vectorizer = CountVectorizer(analyzer='char_wb', lowercase=False, ngram_range=(2,10))\n",
    "X_train_counts = cwb_vectorizer.fit_transform(X_train.Name)\n",
    "\n",
    "tfidf_transformer = TfidfTransformer()\n",
    "X_train_tfidf = tfidf_transformer.fit_transform(X_train_counts)\n",
    "\n",
    "model_mnb = MultinomialNB(alpha=0.001).fit(X_train_tfidf, y_train)\n",
    "\n",
    "X_test_counts = cwb_vectorizer.transform(X_test.Name)\n",
    "X_test_tfidf = tfidf_transformer.transform(X_test_counts)\n",
    "\n",
    "model_mnb.score(X_test_tfidf, y_test)\n",
    "#0.8925449363915279  alpha = 1.0\n",
    "#0.896091008045556   alpha = 0.1\n",
    "#0.8963300106771828  alpha = 0.01\n",
    "#0.896348195660024   alpha = 0.001\n",
    "#0.896296238566192   alpha = 0.0001\n",
    "#0.8962494771817433  alpha = 0.00001\n",
    "#0.8964936755227533  ngram_range=(2,9)"
   ]
  },
  {
   "cell_type": "code",
   "execution_count": 237,
   "metadata": {},
   "outputs": [
    {
     "data": {
      "text/plain": [
       "0.896091008045556"
      ]
     },
     "execution_count": 237,
     "metadata": {},
     "output_type": "execute_result"
    }
   ],
   "source": [
    "cwb_vectorizer = CountVectorizer(analyzer='char_wb', lowercase=False, ngram_range=(2,8))\n",
    "X_train_counts = cwb_vectorizer.fit_transform(X_train.Name)\n",
    "\n",
    "tfidf_transformer = TfidfTransformer()\n",
    "X_train_tfidf = tfidf_transformer.fit_transform(X_train_counts)\n",
    "\n",
    "model_mnb = MultinomialNB(alpha=0.1).fit(X_train_tfidf, y_train)\n",
    "\n",
    "X_test_counts = cwb_vectorizer.transform(X_test.Name)\n",
    "X_test_tfidf = tfidf_transformer.transform(X_test_counts)\n",
    "\n",
    "model_mnb.score(X_test_tfidf, y_test)\n",
    "#0.8925449363915279  alpha = 1.0\n",
    "#0.8963300106771828  alpha = 0.01"
   ]
  },
  {
   "cell_type": "code",
   "execution_count": null,
   "metadata": {},
   "outputs": [],
   "source": []
  },
  {
   "cell_type": "code",
   "execution_count": null,
   "metadata": {},
   "outputs": [],
   "source": []
  },
  {
   "cell_type": "code",
   "execution_count": 233,
   "metadata": {},
   "outputs": [
    {
     "data": {
      "text/plain": [
       "0.8928696682279773"
      ]
     },
     "execution_count": 233,
     "metadata": {},
     "output_type": "execute_result"
    }
   ],
   "source": [
    "cwb_vectorizer = CountVectorizer(analyzer='char_wb', lowercase=False, ngram_range=(2,9))\n",
    "X_train_counts = cwb_vectorizer.fit_transform(X_train.Name)\n",
    "\n",
    "tfidf_transformer = TfidfTransformer()\n",
    "X_train_tfidf = tfidf_transformer.fit_transform(X_train_counts)\n",
    "\n",
    "model_mnb = MultinomialNB().fit(X_train_tfidf, y_train)\n",
    "\n",
    "X_test_counts = cwb_vectorizer.transform(X_test.Name)\n",
    "X_test_tfidf = tfidf_transformer.transform(X_test_counts)\n",
    "\n",
    "model_mnb.score(X_test_tfidf, y_test)"
   ]
  },
  {
   "cell_type": "code",
   "execution_count": 230,
   "metadata": {},
   "outputs": [
    {
     "data": {
      "text/plain": [
       "0.8930151480907067"
      ]
     },
     "execution_count": 230,
     "metadata": {},
     "output_type": "execute_result"
    }
   ],
   "source": [
    "cwb_vectorizer = CountVectorizer(analyzer='char_wb', lowercase=False, ngram_range=(2,10))\n",
    "X_train_counts = cwb_vectorizer.fit_transform(X_train.Name)\n",
    "\n",
    "tfidf_transformer = TfidfTransformer()\n",
    "X_train_tfidf = tfidf_transformer.fit_transform(X_train_counts)\n",
    "\n",
    "model_mnb = MultinomialNB().fit(X_train_tfidf, y_train)\n",
    "\n",
    "X_test_counts = cwb_vectorizer.transform(X_test.Name)\n",
    "X_test_tfidf = tfidf_transformer.transform(X_test_counts)\n",
    "\n",
    "model_mnb.score(X_test_tfidf, y_test)"
   ]
  },
  {
   "cell_type": "code",
   "execution_count": 232,
   "metadata": {},
   "outputs": [
    {
     "data": {
      "text/plain": [
       "0.8930567137657722"
      ]
     },
     "execution_count": 232,
     "metadata": {},
     "output_type": "execute_result"
    }
   ],
   "source": [
    "cwb_vectorizer = CountVectorizer(analyzer='char_wb', lowercase=False, ngram_range=(2,15))\n",
    "X_train_counts = cwb_vectorizer.fit_transform(X_train.Name)\n",
    "\n",
    "tfidf_transformer = TfidfTransformer()\n",
    "X_train_tfidf = tfidf_transformer.fit_transform(X_train_counts)\n",
    "\n",
    "model_mnb = MultinomialNB().fit(X_train_tfidf, y_train)\n",
    "\n",
    "X_test_counts = cwb_vectorizer.transform(X_test.Name)\n",
    "X_test_tfidf = tfidf_transformer.transform(X_test_counts)\n",
    "\n",
    "model_mnb.score(X_test_tfidf, y_test)"
   ]
  },
  {
   "cell_type": "code",
   "execution_count": null,
   "metadata": {},
   "outputs": [],
   "source": []
  },
  {
   "cell_type": "code",
   "execution_count": null,
   "metadata": {},
   "outputs": [],
   "source": [
    "cwb_vectorizer = CountVectorizer(analyzer='char_wb', lowercase=False, ngram_range=(2,8))\n",
    "X_train_counts = cwb_vectorizer.fit_transform(X_train.Name)"
   ]
  },
  {
   "cell_type": "code",
   "execution_count": 279,
   "metadata": {},
   "outputs": [
    {
     "name": "stderr",
     "output_type": "stream",
     "text": [
      "/Users/tjs/anaconda3/envs/dh/lib/python3.7/site-packages/sklearn/linear_model/logistic.py:758: ConvergenceWarning: lbfgs failed to converge. Increase the number of iterations.\n",
      "  \"of iterations.\", ConvergenceWarning)\n"
     ]
    },
    {
     "data": {
      "text/plain": [
       "0.9005385352775678"
      ]
     },
     "execution_count": 279,
     "metadata": {},
     "output_type": "execute_result"
    }
   ],
   "source": [
    "cwb_vectorizer = CountVectorizer(analyzer='char_wb', lowercase=False, ngram_range=(2,8))\n",
    "X_train_counts = cwb_vectorizer.fit_transform(X_train.Name)\n",
    "\n",
    "model_logr = LogisticRegressionCV(cv=5, random_state=11, max_iter=200, n_jobs=-1)\n",
    "model_logr.fit(X_train_counts, y_train)\n",
    "\n",
    "X_test_counts = cwb_vectorizer.transform(X_test.Name)\n",
    "\n",
    "model_logr.score(X_test_counts, y_test)\n",
    "# 0.89368799245583 << cv=3\n",
    "# 0.8934411962601284 << cv=5\n",
    "# 0.9005385352775678 << counts, ngram_range=(2,8)"
   ]
  },
  {
   "cell_type": "code",
   "execution_count": 212,
   "metadata": {},
   "outputs": [
    {
     "data": {
      "text/plain": [
       "0.7502084778390006"
      ]
     },
     "execution_count": 212,
     "metadata": {},
     "output_type": "execute_result"
    }
   ],
   "source": [
    "cwb_vectorizer = CountVectorizer(analyzer='char_wb', lowercase=False, ngram_range=(1,1))\n",
    "X_train_counts = cwb_vectorizer.fit_transform(X_train.Name)\n",
    "\n",
    "tfidf_transformer = TfidfTransformer()\n",
    "X_train_tfidf = tfidf_transformer.fit_transform(X_train_counts)\n",
    "\n",
    "model_logr2 = LogisticRegressionCV(cv=5, random_state=11, max_iter=200, n_jobs=-1)\n",
    "model_logr2.fit(X_train_tfidf, y_train)\n",
    "X_test_counts = cwb_vectorizer.transform(X_test.Name)\n",
    "X_test_tfidf = tfidf_transformer.transform(X_test_counts)\n",
    "\n",
    "model_logr2.score(X_test_tfidf, y_test)"
   ]
  },
  {
   "cell_type": "code",
   "execution_count": 214,
   "metadata": {},
   "outputs": [
    {
     "data": {
      "text/plain": [
       "0.8241330309430472"
      ]
     },
     "execution_count": 214,
     "metadata": {},
     "output_type": "execute_result"
    }
   ],
   "source": [
    "cwb_vectorizer = CountVectorizer(analyzer='char_wb', lowercase=False, ngram_range=(1,2))\n",
    "X_train_counts = cwb_vectorizer.fit_transform(X_train.Name)\n",
    "\n",
    "tfidf_transformer = TfidfTransformer()\n",
    "X_train_tfidf = tfidf_transformer.fit_transform(X_train_counts)\n",
    "\n",
    "model_logr2 = LogisticRegressionCV(cv=5, random_state=11, max_iter=200, n_jobs=-1)\n",
    "model_logr2.fit(X_train_tfidf, y_train)\n",
    "\n",
    "X_test_counts = cwb_vectorizer.transform(X_test.Name)\n",
    "X_test_tfidf = tfidf_transformer.transform(X_test_counts)\n",
    "\n",
    "model_logr2.score(X_test_tfidf, y_test)"
   ]
  },
  {
   "cell_type": "code",
   "execution_count": null,
   "metadata": {},
   "outputs": [],
   "source": []
  },
  {
   "cell_type": "code",
   "execution_count": null,
   "metadata": {},
   "outputs": [],
   "source": [
    "# parameters = {\n",
    "#     'vect__max_df': (0.5, 0.75, 1.0),\n",
    "#     # 'vect__max_features': (None, 5000, 10000, 50000),\n",
    "#     'vect__ngram_range': ((1, 1), (1, 2)),  # unigrams or bigrams\n",
    "#     # 'tfidf__use_idf': (True, False),\n",
    "#     # 'tfidf__norm': ('l1', 'l2'),\n",
    "#     'clf__max_iter': (5,),\n",
    "#     'clf__alpha': (0.00001, 0.000001),\n",
    "#     'clf__penalty': ('l2', 'elasticnet'),\n",
    "#     # 'clf__max_iter': (10, 50, 80),\n",
    "# }"
   ]
  },
  {
   "cell_type": "code",
   "execution_count": 54,
   "metadata": {},
   "outputs": [
    {
     "name": "stdout",
     "output_type": "stream",
     "text": [
      "CPU times: user 37.4 s, sys: 1.41 s, total: 38.8 s\n",
      "Wall time: 37.2 s\n"
     ]
    }
   ],
   "source": [
    "%%time\n",
    "mnb_pipe = Pipeline([\n",
    "    ('vect', CountVectorizer(analyzer='char_wb', lowercase=False, ngram_range=(2,8))),\n",
    "    ('clf', MultinomialNB(alpha=0.001)),\n",
    "])\n",
    "\n",
    "mnb_pipe.fit(X_train.Name, y_train)"
   ]
  },
  {
   "cell_type": "code",
   "execution_count": 55,
   "metadata": {},
   "outputs": [
    {
     "data": {
      "text/plain": [
       "0.8927969282966126"
      ]
     },
     "execution_count": 55,
     "metadata": {},
     "output_type": "execute_result"
    }
   ],
   "source": [
    "mnb_pipe.score(X_test.Name, y_test)"
   ]
  },
  {
   "cell_type": "code",
   "execution_count": null,
   "metadata": {},
   "outputs": [],
   "source": [
    "%%time\n",
    "mnb_pipe2 = Pipeline([\n",
    "    ('vect', CountVectorizer(analyzer='char_wb', lowercase=False, ngram_range=(2,8))),\n",
    "    ('tfidf', TfidfTransformer()),\n",
    "    ('clf', MultinomialNB(alpha=0.001)),\n",
    "])\n",
    "\n",
    "mnb_pipe2.fit(X_train.Name, y_train)"
   ]
  },
  {
   "cell_type": "code",
   "execution_count": null,
   "metadata": {},
   "outputs": [],
   "source": [
    "mnb_pipe2.score(X_test.Name, y_test)"
   ]
  },
  {
   "cell_type": "code",
   "execution_count": 56,
   "metadata": {},
   "outputs": [
    {
     "name": "stdout",
     "output_type": "stream",
     "text": [
      "CPU times: user 38.7 s, sys: 1.45 s, total: 40.2 s\n",
      "Wall time: 38 s\n"
     ]
    }
   ],
   "source": [
    "%%time\n",
    "cnb_pipe = Pipeline([\n",
    "    ('vect', CountVectorizer(analyzer='char_wb', lowercase=False, ngram_range=(2,8))),\n",
    "    ('clf', ComplementNB(alpha=0.001)),\n",
    "])\n",
    "\n",
    "cnb_pipe.fit(X_train.Name, y_train)"
   ]
  },
  {
   "cell_type": "code",
   "execution_count": 57,
   "metadata": {},
   "outputs": [
    {
     "data": {
      "text/plain": [
       "0.8926384591604253"
      ]
     },
     "execution_count": 57,
     "metadata": {},
     "output_type": "execute_result"
    }
   ],
   "source": [
    "cnb_pipe.score(X_test.Name, y_test)"
   ]
  },
  {
   "cell_type": "code",
   "execution_count": 58,
   "metadata": {},
   "outputs": [
    {
     "name": "stdout",
     "output_type": "stream",
     "text": [
      "CPU times: user 46.2 s, sys: 1.52 s, total: 47.7 s\n",
      "Wall time: 45.1 s\n"
     ]
    }
   ],
   "source": [
    "%%time\n",
    "sgd_pipe = Pipeline([\n",
    "    ('vect', CountVectorizer(analyzer='char_wb', lowercase=False, ngram_range=(2,8))),\n",
    "    ('clf', SGDClassifier(loss='log', penalty='l2',\n",
    "                          alpha=0.001, random_state=11,\n",
    "                          max_iter=100, tol=1e-3)),\n",
    "])\n",
    "\n",
    "sgd_pipe.fit(X_train.Name, y_train)"
   ]
  },
  {
   "cell_type": "code",
   "execution_count": 59,
   "metadata": {},
   "outputs": [
    {
     "data": {
      "text/plain": [
       "0.8472513398435572"
      ]
     },
     "execution_count": 59,
     "metadata": {},
     "output_type": "execute_result"
    }
   ],
   "source": [
    "sgd_pipe.score(X_test.Name, y_test)"
   ]
  },
  {
   "cell_type": "code",
   "execution_count": null,
   "metadata": {},
   "outputs": [],
   "source": []
  },
  {
   "cell_type": "code",
   "execution_count": 60,
   "metadata": {},
   "outputs": [
    {
     "name": "stdout",
     "output_type": "stream",
     "text": [
      "CPU times: user 17min 49s, sys: 3.12 s, total: 17min 52s\n",
      "Wall time: 52min 20s\n"
     ]
    }
   ],
   "source": [
    "%%time\n",
    "logrcv_pipe = Pipeline([\n",
    "    ('vect', CountVectorizer(analyzer='char_wb', lowercase=False, ngram_range=(2,8))),\n",
    "    ('logrCV', LogisticRegressionCV(cv=5, random_state=11, max_iter=1000, n_jobs=-1)),\n",
    "])\n",
    "\n",
    "logrcv_pipe.fit(X_train.Name, y_train)"
   ]
  },
  {
   "cell_type": "code",
   "execution_count": 61,
   "metadata": {},
   "outputs": [
    {
     "data": {
      "text/plain": [
       "0.9006684280121475"
      ]
     },
     "execution_count": 61,
     "metadata": {},
     "output_type": "execute_result"
    }
   ],
   "source": [
    "logrcv_pipe.score(X_test.Name, y_test)"
   ]
  },
  {
   "cell_type": "code",
   "execution_count": null,
   "metadata": {},
   "outputs": [],
   "source": [
    "%%time\n",
    "logrcv_pipe2 = Pipeline([\n",
    "    ('vect', CountVectorizer(analyzer='char_wb', lowercase=False, ngram_range=(2,8))),\n",
    "    ('logrCV', LogisticRegressionCV(cv=5, solver='sag', random_state=11, max_iter=1000, n_jobs=-1)),\n",
    "])\n",
    "\n",
    "logrcv_pipe2.fit(X_train.Name, y_train)"
   ]
  },
  {
   "cell_type": "code",
   "execution_count": null,
   "metadata": {},
   "outputs": [],
   "source": [
    "logrcv_pipe2.score(X_test.Name, y_test)"
   ]
  },
  {
   "cell_type": "code",
   "execution_count": null,
   "metadata": {},
   "outputs": [],
   "source": []
  },
  {
   "cell_type": "code",
   "execution_count": null,
   "metadata": {},
   "outputs": [],
   "source": []
  },
  {
   "cell_type": "code",
   "execution_count": 226,
   "metadata": {},
   "outputs": [
    {
     "name": "stdout",
     "output_type": "stream",
     "text": [
      "[ 962333  962334  962335 ... 1924662 1924663 1924664] [     0      1      2 ... 962330 962331 962332]\n",
      "[     0      1      2 ... 962330 962331 962332] [ 962333  962334  962335 ... 1924662 1924663 1924664]\n"
     ]
    }
   ],
   "source": [
    "import numpy as np\n",
    "from sklearn.model_selection import KFold\n",
    "\n",
    "#X = [\"a\", \"b\", \"c\", \"d\"]\n",
    "kf = KFold(2)\n",
    "for train, test in kf.split(X):\n",
    "    print(\"%s %s\" % (train, test))\n"
   ]
  },
  {
   "cell_type": "code",
   "execution_count": null,
   "metadata": {},
   "outputs": [],
   "source": []
  },
  {
   "cell_type": "code",
   "execution_count": 211,
   "metadata": {},
   "outputs": [
    {
     "data": {
      "text/plain": [
       "<384933x83398 sparse matrix of type '<class 'numpy.int64'>'\n",
       "\twith 7124730 stored elements in Compressed Sparse Row format>"
      ]
     },
     "execution_count": 211,
     "metadata": {},
     "output_type": "execute_result"
    }
   ],
   "source": [
    "X_test_counts"
   ]
  },
  {
   "cell_type": "code",
   "execution_count": 188,
   "metadata": {},
   "outputs": [
    {
     "data": {
      "text/plain": [
       "0.848550267189355"
      ]
     },
     "execution_count": 188,
     "metadata": {},
     "output_type": "execute_result"
    }
   ],
   "source": [
    "cwb_vectorizer = CountVectorizer(analyzer='char_wb', ngram_range=(3,4))\n",
    "X_train_counts = cwb_vectorizer.fit_transform(X_train.Name)\n",
    "\n",
    "tfidf_transformer = TfidfTransformer(use_idf=False)\n",
    "X_train_tfidf = tfidf_transformer.fit_transform(X_train_counts)\n",
    "\n",
    "model_mnb = MultinomialNB().fit(X_train_tfidf, y_train)\n",
    "\n",
    "X_test_counts = cwb_vectorizer.transform(X_test.Name)\n",
    "X_test_tfidf = tfidf_transformer.transform(X_test_counts)\n",
    "\n",
    "model_mnb.score(X_test_tfidf, y_test)"
   ]
  },
  {
   "cell_type": "code",
   "execution_count": 175,
   "metadata": {},
   "outputs": [
    {
     "data": {
      "text/plain": [
       "{'norm': 'l2', 'smooth_idf': True, 'sublinear_tf': False, 'use_idf': True}"
      ]
     },
     "execution_count": 175,
     "metadata": {},
     "output_type": "execute_result"
    }
   ],
   "source": [
    "model_mnb = MultinomialNB().fit(X_train_tfidf, y_train)"
   ]
  },
  {
   "cell_type": "code",
   "execution_count": 164,
   "metadata": {},
   "outputs": [
    {
     "data": {
      "text/plain": [
       "<1539732x27 sparse matrix of type '<class 'numpy.int64'>'\n",
       "\twith 9767778 stored elements in Compressed Sparse Row format>"
      ]
     },
     "execution_count": 164,
     "metadata": {},
     "output_type": "execute_result"
    }
   ],
   "source": [
    "X_train_counts"
   ]
  },
  {
   "cell_type": "code",
   "execution_count": 149,
   "metadata": {},
   "outputs": [],
   "source": [
    "cwb_vectorizer = CountVectorizer(analyzer='char_wb', ngram_range=(1, 1))\n",
    "X_train_counts = cwb_vectorizer.fit_transform(X_train.Name)\n",
    "\n",
    "tfidf_transformer = TfidfTransformer()\n",
    "X_train_tfidf = tfidf_transformer.fit_transform(X_train_counts)\n",
    "\n",
    "model_mnb = MultinomialNB().fit(X_train_tfidf, y_train)\n",
    "\n",
    "X_test_counts = cwb_vectorizer.transform(X_test.Name)\n",
    "X_test_tfidf = tfidf_transformer.transform(X_test_counts)\n",
    "\n",
    "predicted = model_mnb.predict(X_test_tfidf)"
   ]
  },
  {
   "cell_type": "code",
   "execution_count": 150,
   "metadata": {},
   "outputs": [
    {
     "data": {
      "text/plain": [
       "0.6323931697204449"
      ]
     },
     "execution_count": 150,
     "metadata": {},
     "output_type": "execute_result"
    }
   ],
   "source": [
    "model_mnb.score(X_test_tfidf, y_test)"
   ]
  },
  {
   "cell_type": "code",
   "execution_count": 132,
   "metadata": {},
   "outputs": [
    {
     "data": {
      "text/plain": [
       "0.7593269478065013"
      ]
     },
     "execution_count": 132,
     "metadata": {},
     "output_type": "execute_result"
    }
   ],
   "source": [
    "cwb_vectorizer = CountVectorizer(analyzer='char_wb', ngram_range=(1, 2))\n",
    "X_train_counts = cwb_vectorizer.fit_transform(X_train.Name)\n",
    "\n",
    "tfidf_transformer = TfidfTransformer()\n",
    "X_train_tfidf = tfidf_transformer.fit_transform(X_train_counts)\n",
    "\n",
    "model_mnb = MultinomialNB().fit(X_train_tfidf, y_train)\n",
    "\n",
    "X_test_counts = cwb_vectorizer.transform(X_test.Name)\n",
    "X_test_tfidf = tfidf_transformer.transform(X_test_counts)\n",
    "\n",
    "model_mnb.score(X_test_tfidf, y_test)"
   ]
  },
  {
   "cell_type": "code",
   "execution_count": 151,
   "metadata": {},
   "outputs": [
    {
     "data": {
      "text/plain": [
       "0.8024929013620552"
      ]
     },
     "execution_count": 151,
     "metadata": {},
     "output_type": "execute_result"
    }
   ],
   "source": [
    "cwb_vectorizer = CountVectorizer(analyzer='char_wb', lowercase=False, ngram_range=(1, 2))\n",
    "X_train_counts = cwb_vectorizer.fit_transform(X_train.Name)\n",
    "\n",
    "tfidf_transformer = TfidfTransformer()\n",
    "X_train_tfidf = tfidf_transformer.fit_transform(X_train_counts)\n",
    "\n",
    "model_mnb = MultinomialNB().fit(X_train_tfidf, y_train)\n",
    "\n",
    "X_test_counts = cwb_vectorizer.transform(X_test.Name)\n",
    "X_test_tfidf = tfidf_transformer.transform(X_test_counts)\n",
    "\n",
    "model_mnb.score(X_test_tfidf, y_test)"
   ]
  },
  {
   "cell_type": "code",
   "execution_count": 152,
   "metadata": {},
   "outputs": [
    {
     "data": {
      "text/plain": [
       "0.8040516141770127"
      ]
     },
     "execution_count": 152,
     "metadata": {},
     "output_type": "execute_result"
    }
   ],
   "source": [
    "cwb_vectorizer = CountVectorizer(analyzer='char_wb', lowercase=False, ngram_range=(2, 2))\n",
    "X_train_counts = cwb_vectorizer.fit_transform(X_train.Name)\n",
    "\n",
    "tfidf_transformer = TfidfTransformer()\n",
    "X_train_tfidf = tfidf_transformer.fit_transform(X_train_counts)\n",
    "\n",
    "model_mnb = MultinomialNB().fit(X_train_tfidf, y_train)\n",
    "\n",
    "X_test_counts = cwb_vectorizer.transform(X_test.Name)\n",
    "X_test_tfidf = tfidf_transformer.transform(X_test_counts)\n",
    "\n",
    "model_mnb.score(X_test_tfidf, y_test)"
   ]
  },
  {
   "cell_type": "code",
   "execution_count": 153,
   "metadata": {},
   "outputs": [
    {
     "data": {
      "text/plain": [
       "0.7668970963778112"
      ]
     },
     "execution_count": 153,
     "metadata": {},
     "output_type": "execute_result"
    }
   ],
   "source": [
    "cwb_vectorizer = CountVectorizer(analyzer='char_wb', ngram_range=(2, 2))\n",
    "X_train_counts = cwb_vectorizer.fit_transform(X_train.Name)\n",
    "\n",
    "tfidf_transformer = TfidfTransformer()\n",
    "X_train_tfidf = tfidf_transformer.fit_transform(X_train_counts)\n",
    "\n",
    "model_mnb = MultinomialNB().fit(X_train_tfidf, y_train)\n",
    "\n",
    "X_test_counts = cwb_vectorizer.transform(X_test.Name)\n",
    "X_test_tfidf = tfidf_transformer.transform(X_test_counts)\n",
    "\n",
    "model_mnb.score(X_test_tfidf, y_test)"
   ]
  },
  {
   "cell_type": "code",
   "execution_count": 154,
   "metadata": {},
   "outputs": [
    {
     "data": {
      "text/plain": [
       "0.6359184585369402"
      ]
     },
     "execution_count": 154,
     "metadata": {},
     "output_type": "execute_result"
    }
   ],
   "source": [
    "cwb_vectorizer = CountVectorizer(analyzer='char', ngram_range=(1, 1))\n",
    "X_train_counts = cwb_vectorizer.fit_transform(X_train.Name)\n",
    "\n",
    "tfidf_transformer = TfidfTransformer()\n",
    "X_train_tfidf = tfidf_transformer.fit_transform(X_train_counts)\n",
    "\n",
    "model_mnb = MultinomialNB().fit(X_train_tfidf, y_train)\n",
    "\n",
    "X_test_counts = cwb_vectorizer.transform(X_test.Name)\n",
    "X_test_tfidf = tfidf_transformer.transform(X_test_counts)\n",
    "\n",
    "model_mnb.score(X_test_tfidf, y_test)"
   ]
  },
  {
   "cell_type": "code",
   "execution_count": 155,
   "metadata": {},
   "outputs": [
    {
     "data": {
      "text/plain": [
       "0.704418691044935"
      ]
     },
     "execution_count": 155,
     "metadata": {},
     "output_type": "execute_result"
    }
   ],
   "source": [
    "cwb_vectorizer = CountVectorizer(analyzer='char', ngram_range=(1, 2))\n",
    "X_train_counts = cwb_vectorizer.fit_transform(X_train.Name)\n",
    "\n",
    "tfidf_transformer = TfidfTransformer()\n",
    "X_train_tfidf = tfidf_transformer.fit_transform(X_train_counts)\n",
    "\n",
    "model_mnb = MultinomialNB().fit(X_train_tfidf, y_train)\n",
    "\n",
    "X_test_counts = cwb_vectorizer.transform(X_test.Name)\n",
    "X_test_tfidf = tfidf_transformer.transform(X_test_counts)\n",
    "\n",
    "model_mnb.score(X_test_tfidf, y_test)"
   ]
  },
  {
   "cell_type": "code",
   "execution_count": 156,
   "metadata": {},
   "outputs": [
    {
     "data": {
      "text/plain": [
       "0.7977596101139679"
      ]
     },
     "execution_count": 156,
     "metadata": {},
     "output_type": "execute_result"
    }
   ],
   "source": [
    "cwb_vectorizer = CountVectorizer(analyzer='char', lowercase=False, ngram_range=(1, 2))\n",
    "X_train_counts = cwb_vectorizer.fit_transform(X_train.Name)\n",
    "\n",
    "tfidf_transformer = TfidfTransformer()\n",
    "X_train_tfidf = tfidf_transformer.fit_transform(X_train_counts)\n",
    "\n",
    "model_mnb = MultinomialNB().fit(X_train_tfidf, y_train)\n",
    "\n",
    "X_test_counts = cwb_vectorizer.transform(X_test.Name)\n",
    "X_test_tfidf = tfidf_transformer.transform(X_test_counts)\n",
    "\n",
    "model_mnb.score(X_test_tfidf, y_test)"
   ]
  },
  {
   "cell_type": "code",
   "execution_count": 136,
   "metadata": {},
   "outputs": [
    {
     "data": {
      "text/plain": [
       "0.7042212540883738"
      ]
     },
     "execution_count": 136,
     "metadata": {},
     "output_type": "execute_result"
    }
   ],
   "source": [
    "cwb_vectorizer = CountVectorizer(analyzer='char', ngram_range=(2, 2))\n",
    "X_train_counts = cwb_vectorizer.fit_transform(X_train.Name)\n",
    "\n",
    "tfidf_transformer = TfidfTransformer()\n",
    "X_train_tfidf = tfidf_transformer.fit_transform(X_train_counts)\n",
    "\n",
    "model_mnb = MultinomialNB().fit(X_train_tfidf, y_train)\n",
    "\n",
    "X_test_counts = cwb_vectorizer.transform(X_test.Name)\n",
    "X_test_tfidf = tfidf_transformer.transform(X_test_counts)\n",
    "\n",
    "model_mnb.score(X_test_tfidf, y_test)"
   ]
  },
  {
   "cell_type": "code",
   "execution_count": 157,
   "metadata": {},
   "outputs": [
    {
     "data": {
      "text/plain": [
       "0.7984922051369978"
      ]
     },
     "execution_count": 157,
     "metadata": {},
     "output_type": "execute_result"
    }
   ],
   "source": [
    "cwb_vectorizer = CountVectorizer(analyzer='char', lowercase=False, ngram_range=(2, 2))\n",
    "X_train_counts = cwb_vectorizer.fit_transform(X_train.Name)\n",
    "\n",
    "tfidf_transformer = TfidfTransformer()\n",
    "X_train_tfidf = tfidf_transformer.fit_transform(X_train_counts)\n",
    "\n",
    "model_mnb = MultinomialNB().fit(X_train_tfidf, y_train)\n",
    "\n",
    "X_test_counts = cwb_vectorizer.transform(X_test.Name)\n",
    "X_test_tfidf = tfidf_transformer.transform(X_test_counts)\n",
    "\n",
    "model_mnb.score(X_test_tfidf, y_test)"
   ]
  },
  {
   "cell_type": "code",
   "execution_count": 65,
   "metadata": {},
   "outputs": [],
   "source": [
    "# c_vectorizer = CountVectorizer(analyzer='char', lowercase=False, ngram_range=(2, 2))\n",
    "# X_vect_c = c_vectorizer.fit_transform(X.Name)"
   ]
  },
  {
   "cell_type": "code",
   "execution_count": 114,
   "metadata": {},
   "outputs": [],
   "source": []
  },
  {
   "cell_type": "code",
   "execution_count": 115,
   "metadata": {},
   "outputs": [],
   "source": []
  },
  {
   "cell_type": "code",
   "execution_count": 120,
   "metadata": {},
   "outputs": [],
   "source": []
  },
  {
   "cell_type": "code",
   "execution_count": 121,
   "metadata": {},
   "outputs": [],
   "source": []
  },
  {
   "cell_type": "code",
   "execution_count": 122,
   "metadata": {},
   "outputs": [
    {
     "data": {
      "text/plain": [
       "0.6323931697204449"
      ]
     },
     "execution_count": 122,
     "metadata": {},
     "output_type": "execute_result"
    }
   ],
   "source": []
  },
  {
   "cell_type": "code",
   "execution_count": null,
   "metadata": {},
   "outputs": [],
   "source": []
  }
 ],
 "metadata": {
  "kernelspec": {
   "display_name": "Python 3",
   "language": "python",
   "name": "python3"
  },
  "language_info": {
   "codemirror_mode": {
    "name": "ipython",
    "version": 3
   },
   "file_extension": ".py",
   "mimetype": "text/x-python",
   "name": "python",
   "nbconvert_exporter": "python",
   "pygments_lexer": "ipython3",
   "version": "3.7.1"
  }
 },
 "nbformat": 4,
 "nbformat_minor": 2
}
