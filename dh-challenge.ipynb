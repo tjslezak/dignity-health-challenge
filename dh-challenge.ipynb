{
 "cells": [
  {
   "cell_type": "code",
   "execution_count": 5,
   "metadata": {},
   "outputs": [],
   "source": [
    "import pandas as pd\n",
    "import numpy as np\n",
    "import hvplot.pandas\n",
    "from collections import Counter"
   ]
  },
  {
   "cell_type": "code",
   "execution_count": 6,
   "metadata": {},
   "outputs": [
    {
     "data": {
      "text/html": [
       "<div>\n",
       "<style scoped>\n",
       "    .dataframe tbody tr th:only-of-type {\n",
       "        vertical-align: middle;\n",
       "    }\n",
       "\n",
       "    .dataframe tbody tr th {\n",
       "        vertical-align: top;\n",
       "    }\n",
       "\n",
       "    .dataframe thead th {\n",
       "        text-align: right;\n",
       "    }\n",
       "</style>\n",
       "<table border=\"1\" class=\"dataframe\">\n",
       "  <thead>\n",
       "    <tr style=\"text-align: right;\">\n",
       "      <th></th>\n",
       "      <th>Name</th>\n",
       "      <th>Sex</th>\n",
       "      <th>Number</th>\n",
       "      <th>Year</th>\n",
       "    </tr>\n",
       "  </thead>\n",
       "  <tbody>\n",
       "    <tr>\n",
       "      <th>0</th>\n",
       "      <td>--Mary--</td>\n",
       "      <td>F</td>\n",
       "      <td>L007065</td>\n",
       "      <td>Y1880</td>\n",
       "    </tr>\n",
       "    <tr>\n",
       "      <th>1</th>\n",
       "      <td>--Anna--</td>\n",
       "      <td>F</td>\n",
       "      <td>L002604</td>\n",
       "      <td>Y1880</td>\n",
       "    </tr>\n",
       "    <tr>\n",
       "      <th>2</th>\n",
       "      <td>--Emma--</td>\n",
       "      <td>F</td>\n",
       "      <td>L002003</td>\n",
       "      <td>Y1880</td>\n",
       "    </tr>\n",
       "    <tr>\n",
       "      <th>3</th>\n",
       "      <td>--Elizabeth--</td>\n",
       "      <td>F</td>\n",
       "      <td>L001939</td>\n",
       "      <td>Y1880</td>\n",
       "    </tr>\n",
       "    <tr>\n",
       "      <th>4</th>\n",
       "      <td>--Minnie--</td>\n",
       "      <td>F</td>\n",
       "      <td>L001746</td>\n",
       "      <td>Y1880</td>\n",
       "    </tr>\n",
       "  </tbody>\n",
       "</table>\n",
       "</div>"
      ],
      "text/plain": [
       "            Name Sex   Number   Year\n",
       "0       --Mary--   F  L007065  Y1880\n",
       "1       --Anna--   F  L002604  Y1880\n",
       "2       --Emma--   F  L002003  Y1880\n",
       "3  --Elizabeth--   F  L001939  Y1880\n",
       "4     --Minnie--   F  L001746  Y1880"
      ]
     },
     "execution_count": 6,
     "metadata": {},
     "output_type": "execute_result"
    }
   ],
   "source": [
    "df = pd.read_csv('./data/names_df.csv')\n",
    "df.head()"
   ]
  },
  {
   "cell_type": "code",
   "execution_count": 7,
   "metadata": {},
   "outputs": [
    {
     "data": {
      "text/html": [
       "<div>\n",
       "<style scoped>\n",
       "    .dataframe tbody tr th:only-of-type {\n",
       "        vertical-align: middle;\n",
       "    }\n",
       "\n",
       "    .dataframe tbody tr th {\n",
       "        vertical-align: top;\n",
       "    }\n",
       "\n",
       "    .dataframe thead th {\n",
       "        text-align: right;\n",
       "    }\n",
       "</style>\n",
       "<table border=\"1\" class=\"dataframe\">\n",
       "  <thead>\n",
       "    <tr style=\"text-align: right;\">\n",
       "      <th></th>\n",
       "      <th>Name</th>\n",
       "      <th>Sex</th>\n",
       "      <th>Number</th>\n",
       "      <th>Year</th>\n",
       "    </tr>\n",
       "  </thead>\n",
       "  <tbody>\n",
       "    <tr>\n",
       "      <th>0</th>\n",
       "      <td>Mary</td>\n",
       "      <td>F</td>\n",
       "      <td>7065</td>\n",
       "      <td>1880</td>\n",
       "    </tr>\n",
       "    <tr>\n",
       "      <th>1</th>\n",
       "      <td>Anna</td>\n",
       "      <td>F</td>\n",
       "      <td>2604</td>\n",
       "      <td>1880</td>\n",
       "    </tr>\n",
       "    <tr>\n",
       "      <th>2</th>\n",
       "      <td>Emma</td>\n",
       "      <td>F</td>\n",
       "      <td>2003</td>\n",
       "      <td>1880</td>\n",
       "    </tr>\n",
       "    <tr>\n",
       "      <th>3</th>\n",
       "      <td>Elizabeth</td>\n",
       "      <td>F</td>\n",
       "      <td>1939</td>\n",
       "      <td>1880</td>\n",
       "    </tr>\n",
       "    <tr>\n",
       "      <th>4</th>\n",
       "      <td>Minnie</td>\n",
       "      <td>F</td>\n",
       "      <td>1746</td>\n",
       "      <td>1880</td>\n",
       "    </tr>\n",
       "  </tbody>\n",
       "</table>\n",
       "</div>"
      ],
      "text/plain": [
       "        Name Sex  Number  Year\n",
       "0       Mary   F    7065  1880\n",
       "1       Anna   F    2604  1880\n",
       "2       Emma   F    2003  1880\n",
       "3  Elizabeth   F    1939  1880\n",
       "4     Minnie   F    1746  1880"
      ]
     },
     "execution_count": 7,
     "metadata": {},
     "output_type": "execute_result"
    }
   ],
   "source": [
    "df['Name'] = df.Name.str.strip('--')\n",
    "df['Number'] = df.Number.str.strip('L00').astype(np.int)\n",
    "df['Year'] = df.Year.str.strip('Y').astype(np.int)\n",
    "# 'Female' == 0, 'Male' == 1\n",
    "#df['Sex'] = df.Sex.apply(lambda x: 0 if x=='F' else 1)\n",
    "df.head()"
   ]
  },
  {
   "cell_type": "code",
   "execution_count": 8,
   "metadata": {},
   "outputs": [
    {
     "data": {
      "text/html": [
       "<div>\n",
       "<style scoped>\n",
       "    .dataframe tbody tr th:only-of-type {\n",
       "        vertical-align: middle;\n",
       "    }\n",
       "\n",
       "    .dataframe tbody tr th {\n",
       "        vertical-align: top;\n",
       "    }\n",
       "\n",
       "    .dataframe thead th {\n",
       "        text-align: right;\n",
       "    }\n",
       "</style>\n",
       "<table border=\"1\" class=\"dataframe\">\n",
       "  <thead>\n",
       "    <tr style=\"text-align: right;\">\n",
       "      <th></th>\n",
       "      <th></th>\n",
       "      <th>Name</th>\n",
       "      <th>Number</th>\n",
       "    </tr>\n",
       "    <tr>\n",
       "      <th>Year</th>\n",
       "      <th>Sex</th>\n",
       "      <th></th>\n",
       "      <th></th>\n",
       "    </tr>\n",
       "  </thead>\n",
       "  <tbody>\n",
       "    <tr>\n",
       "      <th>88</th>\n",
       "      <th>F</th>\n",
       "      <td>1</td>\n",
       "      <td>1</td>\n",
       "    </tr>\n",
       "    <tr>\n",
       "      <th rowspan=\"2\" valign=\"top\">1880</th>\n",
       "      <th>F</th>\n",
       "      <td>942</td>\n",
       "      <td>942</td>\n",
       "    </tr>\n",
       "    <tr>\n",
       "      <th>M</th>\n",
       "      <td>1058</td>\n",
       "      <td>1058</td>\n",
       "    </tr>\n",
       "    <tr>\n",
       "      <th rowspan=\"2\" valign=\"top\">1881</th>\n",
       "      <th>F</th>\n",
       "      <td>938</td>\n",
       "      <td>938</td>\n",
       "    </tr>\n",
       "    <tr>\n",
       "      <th>M</th>\n",
       "      <td>997</td>\n",
       "      <td>997</td>\n",
       "    </tr>\n",
       "  </tbody>\n",
       "</table>\n",
       "</div>"
      ],
      "text/plain": [
       "          Name  Number\n",
       "Year Sex              \n",
       "88   F       1       1\n",
       "1880 F     942     942\n",
       "     M    1058    1058\n",
       "1881 F     938     938\n",
       "     M     997     997"
      ]
     },
     "execution_count": 8,
     "metadata": {},
     "output_type": "execute_result"
    }
   ],
   "source": [
    "df.groupby(['Year', 'Sex']).count().head()"
   ]
  },
  {
   "cell_type": "code",
   "execution_count": 9,
   "metadata": {},
   "outputs": [
    {
     "data": {
      "text/html": [
       "<div>\n",
       "<style scoped>\n",
       "    .dataframe tbody tr th:only-of-type {\n",
       "        vertical-align: middle;\n",
       "    }\n",
       "\n",
       "    .dataframe tbody tr th {\n",
       "        vertical-align: top;\n",
       "    }\n",
       "\n",
       "    .dataframe thead th {\n",
       "        text-align: right;\n",
       "    }\n",
       "</style>\n",
       "<table border=\"1\" class=\"dataframe\">\n",
       "  <thead>\n",
       "    <tr style=\"text-align: right;\">\n",
       "      <th></th>\n",
       "      <th>Name</th>\n",
       "      <th>Sex</th>\n",
       "      <th>Number</th>\n",
       "      <th>Year</th>\n",
       "    </tr>\n",
       "  </thead>\n",
       "  <tbody>\n",
       "    <tr>\n",
       "      <th>17502</th>\n",
       "      <td>Mary</td>\n",
       "      <td>F</td>\n",
       "      <td>11754</td>\n",
       "      <td>88</td>\n",
       "    </tr>\n",
       "  </tbody>\n",
       "</table>\n",
       "</div>"
      ],
      "text/plain": [
       "       Name Sex  Number  Year\n",
       "17502  Mary   F   11754    88"
      ]
     },
     "execution_count": 9,
     "metadata": {},
     "output_type": "execute_result"
    }
   ],
   "source": [
    "df[df.Year == 88]"
   ]
  },
  {
   "cell_type": "code",
   "execution_count": 10,
   "metadata": {},
   "outputs": [
    {
     "data": {
      "text/plain": [
       "(1887, 1888)"
      ]
     },
     "execution_count": 10,
     "metadata": {},
     "output_type": "execute_result"
    }
   ],
   "source": [
    "idx = df[df.Year == 88].index[0]\n",
    "df.at[idx-1, 'Year'], df.at[idx+1, 'Year']"
   ]
  },
  {
   "cell_type": "code",
   "execution_count": 11,
   "metadata": {},
   "outputs": [
    {
     "data": {
      "text/html": [
       "<div>\n",
       "<style scoped>\n",
       "    .dataframe tbody tr th:only-of-type {\n",
       "        vertical-align: middle;\n",
       "    }\n",
       "\n",
       "    .dataframe tbody tr th {\n",
       "        vertical-align: top;\n",
       "    }\n",
       "\n",
       "    .dataframe thead th {\n",
       "        text-align: right;\n",
       "    }\n",
       "</style>\n",
       "<table border=\"1\" class=\"dataframe\">\n",
       "  <thead>\n",
       "    <tr style=\"text-align: right;\">\n",
       "      <th></th>\n",
       "      <th>Name</th>\n",
       "      <th>Sex</th>\n",
       "      <th>Number</th>\n",
       "      <th>Year</th>\n",
       "    </tr>\n",
       "  </thead>\n",
       "  <tbody>\n",
       "    <tr>\n",
       "      <th>19223</th>\n",
       "      <td>Mary</td>\n",
       "      <td>M</td>\n",
       "      <td>5</td>\n",
       "      <td>1888</td>\n",
       "    </tr>\n",
       "  </tbody>\n",
       "</table>\n",
       "</div>"
      ],
      "text/plain": [
       "       Name Sex  Number  Year\n",
       "19223  Mary   M       5  1888"
      ]
     },
     "execution_count": 11,
     "metadata": {},
     "output_type": "execute_result"
    }
   ],
   "source": [
    "samp = df[df.Year == 1888]\n",
    "samp[samp.Name == 'Mary']"
   ]
  },
  {
   "cell_type": "code",
   "execution_count": 12,
   "metadata": {},
   "outputs": [],
   "source": [
    "df.at[idx, 'Year'] = 1888"
   ]
  },
  {
   "cell_type": "code",
   "execution_count": 13,
   "metadata": {},
   "outputs": [],
   "source": [
    "grouped = df.groupby(['Year', 'Sex']).count()"
   ]
  },
  {
   "cell_type": "code",
   "execution_count": 14,
   "metadata": {},
   "outputs": [
    {
     "data": {
      "text/html": [
       "<div>\n",
       "<style scoped>\n",
       "    .dataframe tbody tr th:only-of-type {\n",
       "        vertical-align: middle;\n",
       "    }\n",
       "\n",
       "    .dataframe tbody tr th {\n",
       "        vertical-align: top;\n",
       "    }\n",
       "\n",
       "    .dataframe thead th {\n",
       "        text-align: right;\n",
       "    }\n",
       "</style>\n",
       "<table border=\"1\" class=\"dataframe\">\n",
       "  <thead>\n",
       "    <tr style=\"text-align: right;\">\n",
       "      <th></th>\n",
       "      <th></th>\n",
       "      <th>Name</th>\n",
       "      <th>Number</th>\n",
       "    </tr>\n",
       "    <tr>\n",
       "      <th>Year</th>\n",
       "      <th>Sex</th>\n",
       "      <th></th>\n",
       "      <th></th>\n",
       "    </tr>\n",
       "  </thead>\n",
       "  <tbody>\n",
       "    <tr>\n",
       "      <th rowspan=\"2\" valign=\"top\">1880</th>\n",
       "      <th>F</th>\n",
       "      <td>942</td>\n",
       "      <td>942</td>\n",
       "    </tr>\n",
       "    <tr>\n",
       "      <th>M</th>\n",
       "      <td>1058</td>\n",
       "      <td>1058</td>\n",
       "    </tr>\n",
       "    <tr>\n",
       "      <th rowspan=\"2\" valign=\"top\">1881</th>\n",
       "      <th>F</th>\n",
       "      <td>938</td>\n",
       "      <td>938</td>\n",
       "    </tr>\n",
       "    <tr>\n",
       "      <th>M</th>\n",
       "      <td>997</td>\n",
       "      <td>997</td>\n",
       "    </tr>\n",
       "    <tr>\n",
       "      <th>1882</th>\n",
       "      <th>F</th>\n",
       "      <td>1028</td>\n",
       "      <td>1028</td>\n",
       "    </tr>\n",
       "  </tbody>\n",
       "</table>\n",
       "</div>"
      ],
      "text/plain": [
       "          Name  Number\n",
       "Year Sex              \n",
       "1880 F     942     942\n",
       "     M    1058    1058\n",
       "1881 F     938     938\n",
       "     M     997     997\n",
       "1882 F    1028    1028"
      ]
     },
     "execution_count": 14,
     "metadata": {},
     "output_type": "execute_result"
    }
   ],
   "source": [
    "grouped.head()"
   ]
  },
  {
   "cell_type": "code",
   "execution_count": 15,
   "metadata": {},
   "outputs": [
    {
     "data": {
      "text/html": [
       "<div>\n",
       "<style scoped>\n",
       "    .dataframe tbody tr th:only-of-type {\n",
       "        vertical-align: middle;\n",
       "    }\n",
       "\n",
       "    .dataframe tbody tr th {\n",
       "        vertical-align: top;\n",
       "    }\n",
       "\n",
       "    .dataframe thead th {\n",
       "        text-align: right;\n",
       "    }\n",
       "</style>\n",
       "<table border=\"1\" class=\"dataframe\">\n",
       "  <thead>\n",
       "    <tr style=\"text-align: right;\">\n",
       "      <th></th>\n",
       "      <th>Name</th>\n",
       "      <th>Sex</th>\n",
       "      <th>Number</th>\n",
       "      <th>Year</th>\n",
       "    </tr>\n",
       "  </thead>\n",
       "  <tbody>\n",
       "    <tr>\n",
       "      <th>0</th>\n",
       "      <td>Aaban</td>\n",
       "      <td>M</td>\n",
       "      <td>107</td>\n",
       "      <td>20124</td>\n",
       "    </tr>\n",
       "    <tr>\n",
       "      <th>1</th>\n",
       "      <td>Aabha</td>\n",
       "      <td>F</td>\n",
       "      <td>35</td>\n",
       "      <td>10068</td>\n",
       "    </tr>\n",
       "    <tr>\n",
       "      <th>2</th>\n",
       "      <td>Aabid</td>\n",
       "      <td>M</td>\n",
       "      <td>10</td>\n",
       "      <td>4019</td>\n",
       "    </tr>\n",
       "    <tr>\n",
       "      <th>3</th>\n",
       "      <td>Aabir</td>\n",
       "      <td>M</td>\n",
       "      <td>5</td>\n",
       "      <td>2016</td>\n",
       "    </tr>\n",
       "    <tr>\n",
       "      <th>4</th>\n",
       "      <td>Aabriella</td>\n",
       "      <td>F</td>\n",
       "      <td>32</td>\n",
       "      <td>10070</td>\n",
       "    </tr>\n",
       "  </tbody>\n",
       "</table>\n",
       "</div>"
      ],
      "text/plain": [
       "        Name Sex  Number   Year\n",
       "0      Aaban   M     107  20124\n",
       "1      Aabha   F      35  10068\n",
       "2      Aabid   M      10   4019\n",
       "3      Aabir   M       5   2016\n",
       "4  Aabriella   F      32  10070"
      ]
     },
     "execution_count": 15,
     "metadata": {},
     "output_type": "execute_result"
    }
   ],
   "source": [
    "grouped = df.groupby(['Name', 'Sex'], as_index = False).sum()\n",
    "grouped.head()"
   ]
  },
  {
   "cell_type": "code",
   "execution_count": 16,
   "metadata": {},
   "outputs": [
    {
     "name": "stdout",
     "output_type": "stream",
     "text": [
      "<class 'pandas.core.frame.DataFrame'>\n",
      "RangeIndex: 1924665 entries, 0 to 1924664\n",
      "Data columns (total 4 columns):\n",
      "Name      object\n",
      "Sex       object\n",
      "Number    int64\n",
      "Year      int64\n",
      "dtypes: int64(2), object(2)\n",
      "memory usage: 58.7+ MB\n"
     ]
    }
   ],
   "source": [
    "df.info()"
   ]
  },
  {
   "cell_type": "code",
   "execution_count": 17,
   "metadata": {},
   "outputs": [
    {
     "data": {
      "text/html": [
       "<div>\n",
       "<style scoped>\n",
       "    .dataframe tbody tr th:only-of-type {\n",
       "        vertical-align: middle;\n",
       "    }\n",
       "\n",
       "    .dataframe tbody tr th {\n",
       "        vertical-align: top;\n",
       "    }\n",
       "\n",
       "    .dataframe thead th {\n",
       "        text-align: right;\n",
       "    }\n",
       "</style>\n",
       "<table border=\"1\" class=\"dataframe\">\n",
       "  <thead>\n",
       "    <tr style=\"text-align: right;\">\n",
       "      <th></th>\n",
       "      <th>Name</th>\n",
       "      <th>Sex</th>\n",
       "      <th>Number</th>\n",
       "      <th>Year</th>\n",
       "    </tr>\n",
       "  </thead>\n",
       "  <tbody>\n",
       "    <tr>\n",
       "      <th>0</th>\n",
       "      <td>Mary</td>\n",
       "      <td>F</td>\n",
       "      <td>7065</td>\n",
       "      <td>1880</td>\n",
       "    </tr>\n",
       "    <tr>\n",
       "      <th>1</th>\n",
       "      <td>Anna</td>\n",
       "      <td>F</td>\n",
       "      <td>2604</td>\n",
       "      <td>1880</td>\n",
       "    </tr>\n",
       "    <tr>\n",
       "      <th>2</th>\n",
       "      <td>Emma</td>\n",
       "      <td>F</td>\n",
       "      <td>2003</td>\n",
       "      <td>1880</td>\n",
       "    </tr>\n",
       "    <tr>\n",
       "      <th>3</th>\n",
       "      <td>Elizabeth</td>\n",
       "      <td>F</td>\n",
       "      <td>1939</td>\n",
       "      <td>1880</td>\n",
       "    </tr>\n",
       "    <tr>\n",
       "      <th>4</th>\n",
       "      <td>Minnie</td>\n",
       "      <td>F</td>\n",
       "      <td>1746</td>\n",
       "      <td>1880</td>\n",
       "    </tr>\n",
       "  </tbody>\n",
       "</table>\n",
       "</div>"
      ],
      "text/plain": [
       "        Name Sex  Number  Year\n",
       "0       Mary   F    7065  1880\n",
       "1       Anna   F    2604  1880\n",
       "2       Emma   F    2003  1880\n",
       "3  Elizabeth   F    1939  1880\n",
       "4     Minnie   F    1746  1880"
      ]
     },
     "execution_count": 17,
     "metadata": {},
     "output_type": "execute_result"
    }
   ],
   "source": [
    "df.head()"
   ]
  },
  {
   "cell_type": "code",
   "execution_count": null,
   "metadata": {},
   "outputs": [],
   "source": []
  },
  {
   "cell_type": "markdown",
   "metadata": {},
   "source": [
    "### Most common names\n",
    "1.\tWhat was the most common male name in 1989?"
   ]
  },
  {
   "cell_type": "code",
   "execution_count": 18,
   "metadata": {},
   "outputs": [
    {
     "data": {
      "text/plain": [
       "'Michael'"
      ]
     },
     "execution_count": 18,
     "metadata": {},
     "output_type": "execute_result"
    }
   ],
   "source": [
    "df[(df.Year == 1989) & (df.Sex == 'M')].iloc[0, :].Name"
   ]
  },
  {
   "cell_type": "markdown",
   "metadata": {},
   "source": [
    "2.\tWhat was the most common female name in 1989?"
   ]
  },
  {
   "cell_type": "code",
   "execution_count": 19,
   "metadata": {},
   "outputs": [
    {
     "data": {
      "text/plain": [
       "'Jessica'"
      ]
     },
     "execution_count": 19,
     "metadata": {},
     "output_type": "execute_result"
    }
   ],
   "source": [
    "df[(df.Year == 1989) & (df.Sex == 'F')].iloc[0, :].Name"
   ]
  },
  {
   "cell_type": "markdown",
   "metadata": {},
   "source": [
    "3.\tWrite code to output a list of the most common male names by year."
   ]
  },
  {
   "cell_type": "code",
   "execution_count": 20,
   "metadata": {},
   "outputs": [],
   "source": [
    "def most_common_male_names(year, n=10):\n",
    "    s = df[(df.Year == int(year)) & (df.Sex == 'M')].Name[:n]\n",
    "    return list(s)"
   ]
  },
  {
   "cell_type": "code",
   "execution_count": 21,
   "metadata": {},
   "outputs": [
    {
     "data": {
      "text/plain": [
       "['Michael',\n",
       " 'Christopher',\n",
       " 'Matthew',\n",
       " 'Joshua',\n",
       " 'Daniel',\n",
       " 'David',\n",
       " 'Andrew',\n",
       " 'James',\n",
       " 'Justin',\n",
       " 'Joseph',\n",
       " 'Ryan',\n",
       " 'John',\n",
       " 'Robert',\n",
       " 'Nicholas',\n",
       " 'Anthony']"
      ]
     },
     "execution_count": 21,
     "metadata": {},
     "output_type": "execute_result"
    }
   ],
   "source": [
    "most_common_male_names(1990, 15)"
   ]
  },
  {
   "cell_type": "markdown",
   "metadata": {},
   "source": [
    "4.\tWrite code to output a list of the most common female names by year.\n"
   ]
  },
  {
   "cell_type": "code",
   "execution_count": 22,
   "metadata": {},
   "outputs": [],
   "source": [
    "def most_common_female_names(year, n=10):\n",
    "    s = df[(df.Year == int(year)) & (df.Sex == 'F')].Name[:n]\n",
    "    return list(s)"
   ]
  },
  {
   "cell_type": "code",
   "execution_count": 23,
   "metadata": {},
   "outputs": [
    {
     "data": {
      "text/plain": [
       "['Jessica',\n",
       " 'Ashley',\n",
       " 'Emily',\n",
       " 'Samantha',\n",
       " 'Sarah',\n",
       " 'Taylor',\n",
       " 'Brittany',\n",
       " 'Amanda',\n",
       " 'Elizabeth',\n",
       " 'Megan']"
      ]
     },
     "execution_count": 23,
     "metadata": {},
     "output_type": "execute_result"
    }
   ],
   "source": [
    "most_common_female_names(1994)"
   ]
  },
  {
   "cell_type": "markdown",
   "metadata": {},
   "source": [
    "### Name diversity\n",
    "5.\tHow many unique names are there in the entire dataset?"
   ]
  },
  {
   "cell_type": "code",
   "execution_count": 24,
   "metadata": {},
   "outputs": [
    {
     "data": {
      "text/plain": [
       "97311"
      ]
     },
     "execution_count": 24,
     "metadata": {},
     "output_type": "execute_result"
    }
   ],
   "source": [
    "df.Name.nunique()"
   ]
  },
  {
   "cell_type": "markdown",
   "metadata": {},
   "source": [
    "6.\tHow many unique male names were there in 1989?"
   ]
  },
  {
   "cell_type": "code",
   "execution_count": 25,
   "metadata": {},
   "outputs": [
    {
     "data": {
      "text/plain": [
       "9227"
      ]
     },
     "execution_count": 25,
     "metadata": {},
     "output_type": "execute_result"
    }
   ],
   "source": [
    "df[(df.Year == 1989) & (df.Sex == 'M')].Name.nunique()"
   ]
  },
  {
   "cell_type": "markdown",
   "metadata": {},
   "source": [
    "7.\tHow many unique female names were there in 1989?"
   ]
  },
  {
   "cell_type": "code",
   "execution_count": 26,
   "metadata": {},
   "outputs": [
    {
     "data": {
      "text/plain": [
       "14546"
      ]
     },
     "execution_count": 26,
     "metadata": {},
     "output_type": "execute_result"
    }
   ],
   "source": [
    "df[(df.Year == 1989) & (df.Sex == 'F')].Name.nunique()"
   ]
  },
  {
   "cell_type": "markdown",
   "metadata": {},
   "source": [
    "8.\tHow many unique names (male and female) were there in 1989?"
   ]
  },
  {
   "cell_type": "code",
   "execution_count": 27,
   "metadata": {},
   "outputs": [
    {
     "data": {
      "text/plain": [
       "21621"
      ]
     },
     "execution_count": 27,
     "metadata": {},
     "output_type": "execute_result"
    }
   ],
   "source": [
    "df[(df.Year == 1989)].Name.nunique()"
   ]
  },
  {
   "cell_type": "markdown",
   "metadata": {},
   "source": [
    "9.\tWhy is the number of unique names in 1989 (problem #8) smaller than the sum of unique male names (problem #6) and unique female names (problem #7) for that year?"
   ]
  },
  {
   "cell_type": "code",
   "execution_count": 28,
   "metadata": {},
   "outputs": [
    {
     "name": "stdout",
     "output_type": "stream",
     "text": [
      "Unique Names - M+F:  23773 \n",
      "Unique Names - All:  21621 \n",
      "Diff: 2152\n"
     ]
    }
   ],
   "source": [
    "M89 = df[(df.Year == 1989) & (df.Sex == 'M')].Name\n",
    "F89 = df[(df.Year == 1989) & (df.Sex == 'F')].Name\n",
    "T89 = df[(df.Year == 1989)].Name\n",
    "\n",
    "print('Unique Names - M+F: ', M89.nunique()+F89.nunique(), '\\n' + 'Unique Names - All: ', T89.nunique(),\n",
    "      '\\n' + 'Diff: ' + str((M89.nunique()+F89.nunique()) - T89.nunique()))"
   ]
  },
  {
   "cell_type": "code",
   "execution_count": 29,
   "metadata": {},
   "outputs": [
    {
     "name": "stdout",
     "output_type": "stream",
     "text": [
      "2152\n",
      "['Koree', 'Niko', 'Shelby', 'Kellin', 'Daryl', 'Keaton', 'Thai', 'Rafael', 'Sasha', 'Domingue', 'Briana', 'Alejandro']\n"
     ]
    }
   ],
   "source": [
    "common_names = (set(M89) & set(F89) & set(T89))\n",
    "print(len(common_names))\n",
    "print(list(common_names)[:12])"
   ]
  },
  {
   "cell_type": "raw",
   "metadata": {},
   "source": [
    "Some males and females born in 1989 share the same names."
   ]
  },
  {
   "cell_type": "markdown",
   "metadata": {},
   "source": [
    "10.\tWrite code to output a list of names that show up in both the male and female groups in 1989. How many names show up in both groups for that year?"
   ]
  },
  {
   "cell_type": "code",
   "execution_count": 30,
   "metadata": {},
   "outputs": [],
   "source": [
    "def gender_neutral_names(year=1989):\n",
    "    M89 = df[(df.Year == year) & (df.Sex == 'M')].Name\n",
    "    F89 = df[(df.Year == year) & (df.Sex == 'F')].Name\n",
    "    names = list(set(M89) & set(F89))\n",
    "    return names"
   ]
  },
  {
   "cell_type": "code",
   "execution_count": 31,
   "metadata": {},
   "outputs": [
    {
     "data": {
      "text/plain": [
       "2152"
      ]
     },
     "execution_count": 31,
     "metadata": {},
     "output_type": "execute_result"
    }
   ],
   "source": [
    "n = gender_neutral_names(1989)\n",
    "len(n)"
   ]
  },
  {
   "cell_type": "markdown",
   "metadata": {},
   "source": [
    "11.\tShow how the answer to problem #10 helps explain the answer to problem #9.\n"
   ]
  },
  {
   "cell_type": "code",
   "execution_count": 32,
   "metadata": {},
   "outputs": [
    {
     "name": "stdout",
     "output_type": "stream",
     "text": [
      "2152\n",
      "['Koree', 'Niko', 'Shelby', 'Kellin', 'Daryl', 'Keaton', 'Thai', 'Rafael', 'Sasha', 'Domingue', 'Briana', 'Alejandro']\n"
     ]
    }
   ],
   "source": [
    "common_names = (set(M89) & set(F89) & set(T89))\n",
    "print(len(common_names))\n",
    "print(list(common_names)[:12])"
   ]
  },
  {
   "cell_type": "markdown",
   "metadata": {},
   "source": [
    "### Unisex names\n",
    "12.\tProvide a list of the most common unisex names through 2017. Describe and justify your criteria for a name to be considered unisex. What other criteria could you use for a name to be unisex?"
   ]
  },
  {
   "cell_type": "code",
   "execution_count": 33,
   "metadata": {},
   "outputs": [
    {
     "data": {
      "text/html": [
       "<div>\n",
       "<style scoped>\n",
       "    .dataframe tbody tr th:only-of-type {\n",
       "        vertical-align: middle;\n",
       "    }\n",
       "\n",
       "    .dataframe tbody tr th {\n",
       "        vertical-align: top;\n",
       "    }\n",
       "\n",
       "    .dataframe thead th {\n",
       "        text-align: right;\n",
       "    }\n",
       "</style>\n",
       "<table border=\"1\" class=\"dataframe\">\n",
       "  <thead>\n",
       "    <tr style=\"text-align: right;\">\n",
       "      <th></th>\n",
       "      <th>Name</th>\n",
       "      <th>Sex</th>\n",
       "      <th>Number</th>\n",
       "      <th>Year</th>\n",
       "      <th>ann_pctl</th>\n",
       "    </tr>\n",
       "  </thead>\n",
       "  <tbody>\n",
       "    <tr>\n",
       "      <th>0</th>\n",
       "      <td>Mary</td>\n",
       "      <td>F</td>\n",
       "      <td>7065</td>\n",
       "      <td>1880</td>\n",
       "      <td>0.001062</td>\n",
       "    </tr>\n",
       "    <tr>\n",
       "      <th>1</th>\n",
       "      <td>Anna</td>\n",
       "      <td>F</td>\n",
       "      <td>2604</td>\n",
       "      <td>1880</td>\n",
       "      <td>0.002123</td>\n",
       "    </tr>\n",
       "    <tr>\n",
       "      <th>2</th>\n",
       "      <td>Emma</td>\n",
       "      <td>F</td>\n",
       "      <td>2003</td>\n",
       "      <td>1880</td>\n",
       "      <td>0.003185</td>\n",
       "    </tr>\n",
       "    <tr>\n",
       "      <th>3</th>\n",
       "      <td>Elizabeth</td>\n",
       "      <td>F</td>\n",
       "      <td>1939</td>\n",
       "      <td>1880</td>\n",
       "      <td>0.004246</td>\n",
       "    </tr>\n",
       "    <tr>\n",
       "      <th>4</th>\n",
       "      <td>Minnie</td>\n",
       "      <td>F</td>\n",
       "      <td>1746</td>\n",
       "      <td>1880</td>\n",
       "      <td>0.005308</td>\n",
       "    </tr>\n",
       "  </tbody>\n",
       "</table>\n",
       "</div>"
      ],
      "text/plain": [
       "        Name Sex  Number  Year  ann_pctl\n",
       "0       Mary   F    7065  1880  0.001062\n",
       "1       Anna   F    2604  1880  0.002123\n",
       "2       Emma   F    2003  1880  0.003185\n",
       "3  Elizabeth   F    1939  1880  0.004246\n",
       "4     Minnie   F    1746  1880  0.005308"
      ]
     },
     "execution_count": 33,
     "metadata": {},
     "output_type": "execute_result"
    }
   ],
   "source": [
    "for year in df.Year.unique():\n",
    "    for sex in ('F', 'M'):\n",
    "        yidx = df[(df.Year == year) & (df.Sex == sex)].index\n",
    "        df.at[yidx, 'ann_pctl'] = df.loc[yidx, 'Year'].rank(method='first', pct=True)\n",
    "        \n",
    "df.head()"
   ]
  },
  {
   "cell_type": "code",
   "execution_count": 34,
   "metadata": {},
   "outputs": [],
   "source": [
    "def unisex_names(year=1989, threshold=1.0):\n",
    "    M89 = df[(df.Year == year) & (df.Sex == 'M') & (df.ann_pctl < threshold)].Name\n",
    "    F89 = df[(df.Year == year) & (df.Sex == 'F') & (df.ann_pctl < threshold)].Name\n",
    "    names = list(set(M89) & set(F89))\n",
    "    return names\n",
    "\n",
    "def most_common_unisex_names(years=[], threshold=1.0):\n",
    "    countr = Counter()\n",
    "    if not years:\n",
    "        years = df.Year.unique()\n",
    "    for year in years:\n",
    "        names = unisex_names(year, threshold)\n",
    "        for name in names:\n",
    "            countr[name] += 1\n",
    "    return countr"
   ]
  },
  {
   "cell_type": "code",
   "execution_count": 31,
   "metadata": {},
   "outputs": [],
   "source": [
    "c95 = most_common_unisex_names(threshold=0.95)\n",
    "c90 = most_common_unisex_names(threshold=0.90)\n",
    "c75 = most_common_unisex_names(threshold=0.75)\n",
    "c50 = most_common_unisex_names(threshold=0.50)"
   ]
  },
  {
   "cell_type": "code",
   "execution_count": 32,
   "metadata": {},
   "outputs": [
    {
     "name": "stdout",
     "output_type": "stream",
     "text": [
      "('Sidney', 138) ('Sidney', 138) ('Sidney', 138) ('William', 138)\n",
      "('William', 138) ('William', 138) ('William', 138) ('Jessie', 138)\n",
      "('Ollie', 138) ('Ollie', 138) ('Jessie', 138) ('Francis', 138)\n",
      "('Marion', 138) ('Marion', 138) ('Francis', 138) ('Marion', 138)\n",
      "('Lee', 138) ('Lee', 138) ('Marion', 138) ('James', 138)\n",
      "('Johnnie', 138) ('Johnnie', 138) ('James', 138) ('Lee', 138)\n",
      "('Jesse', 138) ('Tommie', 138) ('Jean', 138) ('Johnnie', 137)\n",
      "('Tommie', 138) ('Leslie', 138) ('Lee', 138) ('Jean', 133)\n",
      "('Leslie', 138) ('Joseph', 138) ('Leslie', 138) ('John', 132)\n",
      "('Joseph', 138) ('Jessie', 138) ('Johnnie', 138) ('Leslie', 131)\n",
      "('Jessie', 138) ('Francis', 138) ('Ollie', 137) ('Charles', 130)\n",
      "('Francis', 138) ('James', 138) ('Tommie', 137) ('Tommie', 130)\n",
      "('James', 138) ('Jean', 138) ('Charles', 137) ('Sidney', 128)\n",
      "('Jean', 138) ('Charles', 137) ('John', 137) ('Ollie', 126)\n",
      "('Henry', 137) ('Elizabeth', 137) ('Joseph', 136) ('Joseph', 126)\n",
      "('Charles', 137) ('John', 137) ('Ira', 135) ('Charlie', 126)\n",
      "('Elizabeth', 137) ('June', 137) ('Charlie', 135) ('Ira', 125)\n",
      "('John', 137) ('Ira', 136) ('Robert', 134) ('Mary', 121)\n",
      "('June', 137) ('Thomas', 136) ('Elizabeth', 134) ('Jesse', 121)\n",
      "('Charlie', 137) ('Robert', 136) ('Thomas', 134) ('Billie', 121)\n",
      "('Ira', 136) ('Charlie', 136) ('Henry', 133) ('Elizabeth', 120)\n",
      "('Thomas', 136) ('Anna', 135) ('Jesse', 133) ('Sammie', 120)\n",
      "('Robert', 136) ('Cleo', 135) ('Anna', 130) ('George', 119)\n",
      "('Anna', 135) ('Jesse', 135) ('Billie', 129) ('Jimmie', 118)\n",
      "('Cleo', 135) ('Henry', 134) ('Sammie', 129) ('Robert', 117)\n"
     ]
    }
   ],
   "source": [
    "for a, b, c, d in zip(c95.most_common(25), c90.most_common(25), c75.most_common(25), c50.most_common(25)):\n",
    "    print(a, b, c, d)"
   ]
  },
  {
   "cell_type": "code",
   "execution_count": 33,
   "metadata": {},
   "outputs": [
    {
     "data": {
      "text/html": [
       "<div>\n",
       "<style scoped>\n",
       "    .dataframe tbody tr th:only-of-type {\n",
       "        vertical-align: middle;\n",
       "    }\n",
       "\n",
       "    .dataframe tbody tr th {\n",
       "        vertical-align: top;\n",
       "    }\n",
       "\n",
       "    .dataframe thead th {\n",
       "        text-align: right;\n",
       "    }\n",
       "</style>\n",
       "<table border=\"1\" class=\"dataframe\">\n",
       "  <thead>\n",
       "    <tr style=\"text-align: right;\">\n",
       "      <th></th>\n",
       "      <th>Name</th>\n",
       "      <th>Sex</th>\n",
       "      <th>Number</th>\n",
       "      <th>Year</th>\n",
       "      <th>ann_pctl</th>\n",
       "    </tr>\n",
       "  </thead>\n",
       "  <tbody>\n",
       "    <tr>\n",
       "      <th>0</th>\n",
       "      <td>Mary</td>\n",
       "      <td>F</td>\n",
       "      <td>7065</td>\n",
       "      <td>1880</td>\n",
       "      <td>0.001062</td>\n",
       "    </tr>\n",
       "    <tr>\n",
       "      <th>1</th>\n",
       "      <td>Anna</td>\n",
       "      <td>F</td>\n",
       "      <td>2604</td>\n",
       "      <td>1880</td>\n",
       "      <td>0.002123</td>\n",
       "    </tr>\n",
       "    <tr>\n",
       "      <th>2</th>\n",
       "      <td>Emma</td>\n",
       "      <td>F</td>\n",
       "      <td>2003</td>\n",
       "      <td>1880</td>\n",
       "      <td>0.003185</td>\n",
       "    </tr>\n",
       "    <tr>\n",
       "      <th>3</th>\n",
       "      <td>Elizabeth</td>\n",
       "      <td>F</td>\n",
       "      <td>1939</td>\n",
       "      <td>1880</td>\n",
       "      <td>0.004246</td>\n",
       "    </tr>\n",
       "    <tr>\n",
       "      <th>4</th>\n",
       "      <td>Minnie</td>\n",
       "      <td>F</td>\n",
       "      <td>1746</td>\n",
       "      <td>1880</td>\n",
       "      <td>0.005308</td>\n",
       "    </tr>\n",
       "  </tbody>\n",
       "</table>\n",
       "</div>"
      ],
      "text/plain": [
       "        Name Sex  Number  Year  ann_pctl\n",
       "0       Mary   F    7065  1880  0.001062\n",
       "1       Anna   F    2604  1880  0.002123\n",
       "2       Emma   F    2003  1880  0.003185\n",
       "3  Elizabeth   F    1939  1880  0.004246\n",
       "4     Minnie   F    1746  1880  0.005308"
      ]
     },
     "execution_count": 33,
     "metadata": {},
     "output_type": "execute_result"
    }
   ],
   "source": [
    "df.head()"
   ]
  },
  {
   "cell_type": "code",
   "execution_count": 34,
   "metadata": {},
   "outputs": [],
   "source": [
    "f = df[df.Sex == 'F']\n",
    "m = df[df.Sex == 'M']"
   ]
  },
  {
   "cell_type": "code",
   "execution_count": null,
   "metadata": {},
   "outputs": [],
   "source": []
  },
  {
   "cell_type": "code",
   "execution_count": null,
   "metadata": {},
   "outputs": [],
   "source": [
    "df[df.Name == 'Mary']"
   ]
  },
  {
   "cell_type": "code",
   "execution_count": null,
   "metadata": {},
   "outputs": [],
   "source": []
  },
  {
   "cell_type": "code",
   "execution_count": 35,
   "metadata": {},
   "outputs": [],
   "source": [
    "ff = Counter(f.Name.apply(lambda x: x[0]))\n",
    "fl = Counter(f.Name.apply(lambda x: x[-1]))\n",
    "ffl = Counter(f.Name.apply(lambda x: x[0] + x[-1]))\n",
    "\n",
    "mf = Counter(m.Name.apply(lambda x: x[0]))\n",
    "ml = Counter(m.Name.apply(lambda x: x[-1]))\n",
    "mfl = Counter(m.Name.apply(lambda x: x[0] + x[-1]))"
   ]
  },
  {
   "cell_type": "code",
   "execution_count": 36,
   "metadata": {},
   "outputs": [
    {
     "data": {
      "text/plain": [
       "[('Aa', 'Dn'),\n",
       " ('La', 'Jn'),\n",
       " ('Sa', 'Kn'),\n",
       " ('Ma', 'An'),\n",
       " ('Ta', 'Cn'),\n",
       " ('Da', 'Tn'),\n",
       " ('Ca', 'Bn'),\n",
       " ('Ka', 'Sn'),\n",
       " ('Me', 'Ln'),\n",
       " ('Je', 'Je'),\n",
       " ('Ce', 'De'),\n",
       " ('Ja', 'Rn'),\n",
       " ('Ae', 'En'),\n",
       " ('Ra', 'Mn'),\n",
       " ('Ea', 'Ce')]"
      ]
     },
     "execution_count": 36,
     "metadata": {},
     "output_type": "execute_result"
    }
   ],
   "source": [
    "list(zip([i[0] for i in ffl.most_common(15)], [i[0] for i in mfl.most_common(15)]))"
   ]
  },
  {
   "cell_type": "code",
   "execution_count": 37,
   "metadata": {},
   "outputs": [
    {
     "data": {
      "text/html": [
       "<div>\n",
       "<style scoped>\n",
       "    .dataframe tbody tr th:only-of-type {\n",
       "        vertical-align: middle;\n",
       "    }\n",
       "\n",
       "    .dataframe tbody tr th {\n",
       "        vertical-align: top;\n",
       "    }\n",
       "\n",
       "    .dataframe thead th {\n",
       "        text-align: right;\n",
       "    }\n",
       "</style>\n",
       "<table border=\"1\" class=\"dataframe\">\n",
       "  <thead>\n",
       "    <tr style=\"text-align: right;\">\n",
       "      <th></th>\n",
       "      <th>Name</th>\n",
       "      <th>Sex</th>\n",
       "      <th>Number</th>\n",
       "      <th>Year</th>\n",
       "      <th>ann_pctl</th>\n",
       "    </tr>\n",
       "  </thead>\n",
       "  <tbody>\n",
       "    <tr>\n",
       "      <th>1186573</th>\n",
       "      <td>Michael</td>\n",
       "      <td>M</td>\n",
       "      <td>4447</td>\n",
       "      <td>1994</td>\n",
       "      <td>0.000098</td>\n",
       "    </tr>\n",
       "    <tr>\n",
       "      <th>1186574</th>\n",
       "      <td>Christopher</td>\n",
       "      <td>M</td>\n",
       "      <td>348</td>\n",
       "      <td>1994</td>\n",
       "      <td>0.000195</td>\n",
       "    </tr>\n",
       "    <tr>\n",
       "      <th>1186575</th>\n",
       "      <td>Matthew</td>\n",
       "      <td>M</td>\n",
       "      <td>33646</td>\n",
       "      <td>1994</td>\n",
       "      <td>0.000293</td>\n",
       "    </tr>\n",
       "    <tr>\n",
       "      <th>1186576</th>\n",
       "      <td>Joshua</td>\n",
       "      <td>M</td>\n",
       "      <td>31372</td>\n",
       "      <td>1994</td>\n",
       "      <td>0.000390</td>\n",
       "    </tr>\n",
       "    <tr>\n",
       "      <th>1186577</th>\n",
       "      <td>Tyler</td>\n",
       "      <td>M</td>\n",
       "      <td>30477</td>\n",
       "      <td>1994</td>\n",
       "      <td>0.000488</td>\n",
       "    </tr>\n",
       "  </tbody>\n",
       "</table>\n",
       "</div>"
      ],
      "text/plain": [
       "                Name Sex  Number  Year  ann_pctl\n",
       "1186573      Michael   M    4447  1994  0.000098\n",
       "1186574  Christopher   M     348  1994  0.000195\n",
       "1186575      Matthew   M   33646  1994  0.000293\n",
       "1186576       Joshua   M   31372  1994  0.000390\n",
       "1186577        Tyler   M   30477  1994  0.000488"
      ]
     },
     "execution_count": 37,
     "metadata": {},
     "output_type": "execute_result"
    }
   ],
   "source": [
    "df[(df.Year == 1994) & (df.Sex == 'M')].head()"
   ]
  },
  {
   "cell_type": "code",
   "execution_count": 38,
   "metadata": {},
   "outputs": [],
   "source": [
    "#df.drop(columns=['Number', 'ann_pct'], inplace=True)"
   ]
  },
  {
   "cell_type": "code",
   "execution_count": 39,
   "metadata": {},
   "outputs": [
    {
     "data": {
      "text/html": [
       "<div>\n",
       "<style scoped>\n",
       "    .dataframe tbody tr th:only-of-type {\n",
       "        vertical-align: middle;\n",
       "    }\n",
       "\n",
       "    .dataframe tbody tr th {\n",
       "        vertical-align: top;\n",
       "    }\n",
       "\n",
       "    .dataframe thead th {\n",
       "        text-align: right;\n",
       "    }\n",
       "</style>\n",
       "<table border=\"1\" class=\"dataframe\">\n",
       "  <thead>\n",
       "    <tr style=\"text-align: right;\">\n",
       "      <th></th>\n",
       "      <th>Name</th>\n",
       "      <th>Sex</th>\n",
       "      <th>Number</th>\n",
       "      <th>Year</th>\n",
       "      <th>ann_pctl</th>\n",
       "    </tr>\n",
       "  </thead>\n",
       "  <tbody>\n",
       "    <tr>\n",
       "      <th>0</th>\n",
       "      <td>Mary</td>\n",
       "      <td>F</td>\n",
       "      <td>7065</td>\n",
       "      <td>1880</td>\n",
       "      <td>0.001062</td>\n",
       "    </tr>\n",
       "    <tr>\n",
       "      <th>1</th>\n",
       "      <td>Anna</td>\n",
       "      <td>F</td>\n",
       "      <td>2604</td>\n",
       "      <td>1880</td>\n",
       "      <td>0.002123</td>\n",
       "    </tr>\n",
       "    <tr>\n",
       "      <th>2</th>\n",
       "      <td>Emma</td>\n",
       "      <td>F</td>\n",
       "      <td>2003</td>\n",
       "      <td>1880</td>\n",
       "      <td>0.003185</td>\n",
       "    </tr>\n",
       "    <tr>\n",
       "      <th>3</th>\n",
       "      <td>Elizabeth</td>\n",
       "      <td>F</td>\n",
       "      <td>1939</td>\n",
       "      <td>1880</td>\n",
       "      <td>0.004246</td>\n",
       "    </tr>\n",
       "    <tr>\n",
       "      <th>4</th>\n",
       "      <td>Minnie</td>\n",
       "      <td>F</td>\n",
       "      <td>1746</td>\n",
       "      <td>1880</td>\n",
       "      <td>0.005308</td>\n",
       "    </tr>\n",
       "  </tbody>\n",
       "</table>\n",
       "</div>"
      ],
      "text/plain": [
       "        Name Sex  Number  Year  ann_pctl\n",
       "0       Mary   F    7065  1880  0.001062\n",
       "1       Anna   F    2604  1880  0.002123\n",
       "2       Emma   F    2003  1880  0.003185\n",
       "3  Elizabeth   F    1939  1880  0.004246\n",
       "4     Minnie   F    1746  1880  0.005308"
      ]
     },
     "execution_count": 39,
     "metadata": {},
     "output_type": "execute_result"
    }
   ],
   "source": [
    "df.head()"
   ]
  },
  {
   "cell_type": "markdown",
   "metadata": {},
   "source": [
    "## Machine learning exercise\n",
    "\n",
    "Design and create a machine learning model that classifies a name as either male or female based on the characteristics of the name. Write up a report with screenshots in a text document or Jupyter notebook that describes the following:\n",
    "\n",
    "•\tthe input data and its quality\n",
    "\n",
    "•\tany data exploration and any interesting insights\n",
    "\n",
    "•\tany preprocessing or cleaning of the data that was needed, including how you chose to label the data (i.e., how you labeled a name male or female as the ground truth for the model)\n",
    "\n",
    "•\tthe features used by your model and why you chose them\n",
    "\n",
    "•\tyour selection of machine learning algorithm and why it was chosen\n",
    "\n",
    "•\tthe accuracy of your model and any relevant metrics that describe model performance\n",
    "\n",
    "•\tany model parameter tuning used to improve performance\n",
    "\n",
    "•\tany relevant discussion, model interpretation, future steps, or further exploration needed\n",
    "\n",
    "In addition, prepare a short slideshow presentation (~10 min.) of an overview of the machine learning exercise. You will present this to the analytics team.\n",
    "There are no restrictions on the classification model that you use; however, be sure to keep in mind your ability to adequately explain and interpret the results.\n",
    "Good luck!\n"
   ]
  },
  {
   "cell_type": "code",
   "execution_count": 35,
   "metadata": {},
   "outputs": [
    {
     "data": {
      "text/plain": [
       "(2, 15)"
      ]
     },
     "execution_count": 35,
     "metadata": {},
     "output_type": "execute_result"
    }
   ],
   "source": [
    "df.Name.str.len().min(), df.Name.str.len().max()"
   ]
  },
  {
   "cell_type": "code",
   "execution_count": 36,
   "metadata": {},
   "outputs": [
    {
     "data": {
      "text/html": [
       "<div>\n",
       "<style scoped>\n",
       "    .dataframe tbody tr th:only-of-type {\n",
       "        vertical-align: middle;\n",
       "    }\n",
       "\n",
       "    .dataframe tbody tr th {\n",
       "        vertical-align: top;\n",
       "    }\n",
       "\n",
       "    .dataframe thead th {\n",
       "        text-align: right;\n",
       "    }\n",
       "</style>\n",
       "<table border=\"1\" class=\"dataframe\">\n",
       "  <thead>\n",
       "    <tr style=\"text-align: right;\">\n",
       "      <th></th>\n",
       "      <th>Name</th>\n",
       "      <th>Sex</th>\n",
       "      <th>Number</th>\n",
       "      <th>Year</th>\n",
       "      <th>ann_pctl</th>\n",
       "    </tr>\n",
       "  </thead>\n",
       "  <tbody>\n",
       "    <tr>\n",
       "      <th>0</th>\n",
       "      <td>Mary</td>\n",
       "      <td>F</td>\n",
       "      <td>7065</td>\n",
       "      <td>1880</td>\n",
       "      <td>0.001062</td>\n",
       "    </tr>\n",
       "    <tr>\n",
       "      <th>1</th>\n",
       "      <td>Anna</td>\n",
       "      <td>F</td>\n",
       "      <td>2604</td>\n",
       "      <td>1880</td>\n",
       "      <td>0.002123</td>\n",
       "    </tr>\n",
       "    <tr>\n",
       "      <th>2</th>\n",
       "      <td>Emma</td>\n",
       "      <td>F</td>\n",
       "      <td>2003</td>\n",
       "      <td>1880</td>\n",
       "      <td>0.003185</td>\n",
       "    </tr>\n",
       "    <tr>\n",
       "      <th>3</th>\n",
       "      <td>Elizabeth</td>\n",
       "      <td>F</td>\n",
       "      <td>1939</td>\n",
       "      <td>1880</td>\n",
       "      <td>0.004246</td>\n",
       "    </tr>\n",
       "    <tr>\n",
       "      <th>4</th>\n",
       "      <td>Minnie</td>\n",
       "      <td>F</td>\n",
       "      <td>1746</td>\n",
       "      <td>1880</td>\n",
       "      <td>0.005308</td>\n",
       "    </tr>\n",
       "  </tbody>\n",
       "</table>\n",
       "</div>"
      ],
      "text/plain": [
       "        Name Sex  Number  Year  ann_pctl\n",
       "0       Mary   F    7065  1880  0.001062\n",
       "1       Anna   F    2604  1880  0.002123\n",
       "2       Emma   F    2003  1880  0.003185\n",
       "3  Elizabeth   F    1939  1880  0.004246\n",
       "4     Minnie   F    1746  1880  0.005308"
      ]
     },
     "execution_count": 36,
     "metadata": {},
     "output_type": "execute_result"
    }
   ],
   "source": [
    "df.head()"
   ]
  },
  {
   "cell_type": "code",
   "execution_count": 37,
   "metadata": {},
   "outputs": [],
   "source": [
    "y = df.Sex.apply(lambda x: 0 if x=='F' else 1)\n",
    "#y = df.loc[:, 'Sex']\n",
    "X = df.loc[:, ['Name', 'Year']]"
   ]
  },
  {
   "cell_type": "code",
   "execution_count": 38,
   "metadata": {},
   "outputs": [],
   "source": [
    "def cap_last(name):\n",
    "    nam = name[:-1]\n",
    "    e = name[-1:].upper()\n",
    "    return nam + e\n",
    "\n",
    "#X['Name'] = X.Name.apply(lambda x: cap_last(x) )"
   ]
  },
  {
   "cell_type": "code",
   "execution_count": 39,
   "metadata": {},
   "outputs": [
    {
     "data": {
      "text/html": [
       "<div>\n",
       "<style scoped>\n",
       "    .dataframe tbody tr th:only-of-type {\n",
       "        vertical-align: middle;\n",
       "    }\n",
       "\n",
       "    .dataframe tbody tr th {\n",
       "        vertical-align: top;\n",
       "    }\n",
       "\n",
       "    .dataframe thead th {\n",
       "        text-align: right;\n",
       "    }\n",
       "</style>\n",
       "<table border=\"1\" class=\"dataframe\">\n",
       "  <thead>\n",
       "    <tr style=\"text-align: right;\">\n",
       "      <th></th>\n",
       "      <th>Name</th>\n",
       "      <th>Year</th>\n",
       "    </tr>\n",
       "  </thead>\n",
       "  <tbody>\n",
       "    <tr>\n",
       "      <th>0</th>\n",
       "      <td>Mary</td>\n",
       "      <td>1880</td>\n",
       "    </tr>\n",
       "    <tr>\n",
       "      <th>1</th>\n",
       "      <td>Anna</td>\n",
       "      <td>1880</td>\n",
       "    </tr>\n",
       "    <tr>\n",
       "      <th>2</th>\n",
       "      <td>Emma</td>\n",
       "      <td>1880</td>\n",
       "    </tr>\n",
       "    <tr>\n",
       "      <th>3</th>\n",
       "      <td>Elizabeth</td>\n",
       "      <td>1880</td>\n",
       "    </tr>\n",
       "    <tr>\n",
       "      <th>4</th>\n",
       "      <td>Minnie</td>\n",
       "      <td>1880</td>\n",
       "    </tr>\n",
       "  </tbody>\n",
       "</table>\n",
       "</div>"
      ],
      "text/plain": [
       "        Name  Year\n",
       "0       Mary  1880\n",
       "1       Anna  1880\n",
       "2       Emma  1880\n",
       "3  Elizabeth  1880\n",
       "4     Minnie  1880"
      ]
     },
     "execution_count": 39,
     "metadata": {},
     "output_type": "execute_result"
    }
   ],
   "source": [
    "X.head()"
   ]
  },
  {
   "cell_type": "code",
   "execution_count": 40,
   "metadata": {},
   "outputs": [
    {
     "data": {
      "text/plain": [
       "0    0\n",
       "1    0\n",
       "2    0\n",
       "3    0\n",
       "4    0\n",
       "Name: Sex, dtype: int64"
      ]
     },
     "execution_count": 40,
     "metadata": {},
     "output_type": "execute_result"
    }
   ],
   "source": [
    "y.head()"
   ]
  },
  {
   "cell_type": "markdown",
   "metadata": {},
   "source": [
    "## Simple Model - Character Frequency"
   ]
  },
  {
   "cell_type": "code",
   "execution_count": 43,
   "metadata": {},
   "outputs": [],
   "source": [
    "from sklearn.model_selection import train_test_split\n",
    "from sklearn.feature_extraction.text import CountVectorizer, TfidfTransformer\n",
    "from sklearn.naive_bayes import MultinomialNB, GaussianNB, ComplementNB\n",
    "from sklearn.linear_model import SGDClassifier, LogisticRegression, LogisticRegressionCV\n",
    "from sklearn.pipeline import Pipeline"
   ]
  },
  {
   "cell_type": "code",
   "execution_count": 42,
   "metadata": {},
   "outputs": [],
   "source": [
    "X_train, X_test, y_train, y_test = train_test_split(X, y, test_size=0.20, random_state=33)"
   ]
  },
  {
   "cell_type": "code",
   "execution_count": 50,
   "metadata": {},
   "outputs": [
    {
     "data": {
      "text/plain": [
       "0.6690333122907103"
      ]
     },
     "execution_count": 50,
     "metadata": {},
     "output_type": "execute_result"
    }
   ],
   "source": [
    "cwb_vectorizer = CountVectorizer(analyzer='char_wb', ngram_range=(1,1))\n",
    "X_train_counts = cwb_vectorizer.fit_transform(X_train.Name)\n",
    "\n",
    "model_mnb = MultinomialNB().fit(X_train_counts, y_train)\n",
    "\n",
    "X_test_counts = cwb_vectorizer.transform(X_test.Name)\n",
    "\n",
    "model_mnb.score(X_test_counts, y_test)"
   ]
  },
  {
   "cell_type": "code",
   "execution_count": 65,
   "metadata": {},
   "outputs": [
    {
     "data": {
      "text/plain": [
       "<1539732x763325 sparse matrix of type '<class 'numpy.int64'>'\n",
       "\twith 46601657 stored elements in Compressed Sparse Row format>"
      ]
     },
     "execution_count": 65,
     "metadata": {},
     "output_type": "execute_result"
    }
   ],
   "source": [
    "X_train_counts"
   ]
  },
  {
   "cell_type": "code",
   "execution_count": 53,
   "metadata": {},
   "outputs": [
    {
     "name": "stdout",
     "output_type": "stream",
     "text": [
      "[' ', 'a', 'b', 'c', 'd', 'e', 'f', 'g', 'h', 'i', 'j', 'k', 'l', 'm', 'n', 'o', 'p', 'q', 'r', 's', 't', 'u', 'v', 'w', 'x', 'y', 'z']\n"
     ]
    }
   ],
   "source": [
    "print(cwb_vectorizer.get_feature_names())"
   ]
  },
  {
   "cell_type": "code",
   "execution_count": 54,
   "metadata": {},
   "outputs": [
    {
     "data": {
      "text/plain": [
       "0.7864589422055267"
      ]
     },
     "execution_count": 54,
     "metadata": {},
     "output_type": "execute_result"
    }
   ],
   "source": [
    "cwb_vectorizer = CountVectorizer(analyzer='char_wb', ngram_range=(2,2))\n",
    "X_train_counts = cwb_vectorizer.fit_transform(X_train.Name)\n",
    "\n",
    "model_mnb = MultinomialNB().fit(X_train_counts, y_train)\n",
    "\n",
    "X_test_counts = cwb_vectorizer.transform(X_test.Name)\n",
    "\n",
    "model_mnb.score(X_test_counts, y_test)"
   ]
  },
  {
   "cell_type": "code",
   "execution_count": 59,
   "metadata": {},
   "outputs": [
    {
     "name": "stdout",
     "output_type": "stream",
     "text": [
      "[' a', ' b', ' c', ' d', ' e', ' f', ' g', ' h', ' i', ' j', ' k', ' l', ' m', ' n', ' o', ' p', ' q', ' r', ' s', ' t', ' u', ' v', ' w', ' x', ' y', ' z', 'a ', 'aa', 'ab', 'ac', 'ad', 'ae', 'af', 'ag', 'ah', 'ai', 'aj', 'ak', 'al', 'am', 'an', 'ao', 'ap', 'aq', 'ar', 'as', 'at', 'au', 'av', 'aw', 'ax', 'ay', 'az', 'b ', 'ba', 'bb', 'bc', 'bd', 'be', 'bg', 'bh', 'bi', 'bj', 'bl', 'bm', 'bn', 'bo', 'br', 'bs', 'bt', 'bu', 'bw', 'by', 'c ', 'ca', 'cb', 'cc', 'cd', 'ce', 'cg', 'ch', 'ci', 'cj', 'ck', 'cl', 'cm', 'cn', 'co', 'cp', 'cq', 'cr', 'cs', 'ct', 'cu', 'cx', 'cy', 'cz', 'd ', 'da', 'db']\n"
     ]
    }
   ],
   "source": [
    "print(cwb_vectorizer.get_feature_names()[:100])"
   ]
  },
  {
   "cell_type": "code",
   "execution_count": 60,
   "metadata": {},
   "outputs": [
    {
     "data": {
      "text/plain": [
       "0.8870738544110274"
      ]
     },
     "execution_count": 60,
     "metadata": {},
     "output_type": "execute_result"
    }
   ],
   "source": [
    "cwb_vectorizer = CountVectorizer(analyzer='char_wb', ngram_range=(2,8))\n",
    "X_train_counts = cwb_vectorizer.fit_transform(X_train.Name)\n",
    "\n",
    "model_mnb = MultinomialNB().fit(X_train_counts, y_train)\n",
    "\n",
    "X_test_counts = cwb_vectorizer.transform(X_test.Name)\n",
    "\n",
    "model_mnb.score(X_test_counts, y_test)"
   ]
  },
  {
   "cell_type": "code",
   "execution_count": 61,
   "metadata": {},
   "outputs": [
    {
     "data": {
      "text/plain": [
       "0.8887624599605646"
      ]
     },
     "execution_count": 61,
     "metadata": {},
     "output_type": "execute_result"
    }
   ],
   "source": [
    "cwb_vectorizer = CountVectorizer(analyzer='char_wb', lowercase=False, ngram_range=(2,8))\n",
    "X_train_counts = cwb_vectorizer.fit_transform(X_train.Name)\n",
    "\n",
    "model_mnb = MultinomialNB().fit(X_train_counts, y_train)\n",
    "\n",
    "X_test_counts = cwb_vectorizer.transform(X_test.Name)\n",
    "\n",
    "model_mnb.score(X_test_counts, y_test)"
   ]
  },
  {
   "cell_type": "code",
   "execution_count": 62,
   "metadata": {},
   "outputs": [
    {
     "data": {
      "text/plain": [
       "0.8927969282966126"
      ]
     },
     "execution_count": 62,
     "metadata": {},
     "output_type": "execute_result"
    }
   ],
   "source": [
    "cwb_vectorizer = CountVectorizer(analyzer='char_wb', lowercase=False, ngram_range=(2,8))\n",
    "X_train_counts = cwb_vectorizer.fit_transform(X_train.Name)\n",
    "\n",
    "model_mnb = MultinomialNB(alpha=0.001).fit(X_train_counts, y_train)\n",
    "\n",
    "X_test_counts = cwb_vectorizer.transform(X_test.Name)\n",
    "\n",
    "model_mnb.score(X_test_counts, y_test)"
   ]
  },
  {
   "cell_type": "code",
   "execution_count": 63,
   "metadata": {},
   "outputs": [
    {
     "data": {
      "text/plain": [
       "0.8931840086456604"
      ]
     },
     "execution_count": 63,
     "metadata": {},
     "output_type": "execute_result"
    }
   ],
   "source": [
    "cwb_vectorizer = CountVectorizer(analyzer='char_wb', lowercase=False, ngram_range=(2,10))\n",
    "X_train_counts = cwb_vectorizer.fit_transform(X_train.Name)\n",
    "\n",
    "model_mnb = MultinomialNB(alpha=0.001).fit(X_train_counts, y_train)\n",
    "\n",
    "X_test_counts = cwb_vectorizer.transform(X_test.Name)\n",
    "\n",
    "model_mnb.score(X_test_counts, y_test)"
   ]
  },
  {
   "cell_type": "code",
   "execution_count": 64,
   "metadata": {},
   "outputs": [
    {
     "data": {
      "text/plain": [
       "<1539732x763325 sparse matrix of type '<class 'numpy.int64'>'\n",
       "\twith 46601657 stored elements in Compressed Sparse Row format>"
      ]
     },
     "execution_count": 64,
     "metadata": {},
     "output_type": "execute_result"
    }
   ],
   "source": []
  },
  {
   "cell_type": "code",
   "execution_count": 51,
   "metadata": {},
   "outputs": [
    {
     "data": {
      "text/plain": [
       "0.6323931697204449"
      ]
     },
     "execution_count": 51,
     "metadata": {},
     "output_type": "execute_result"
    }
   ],
   "source": [
    "cwb_vectorizer = CountVectorizer(analyzer='char_wb', ngram_range=(1,1))\n",
    "X_train_counts = cwb_vectorizer.fit_transform(X_train.Name)\n",
    "\n",
    "tfidf_transformer = TfidfTransformer()\n",
    "X_train_tfidf = tfidf_transformer.fit_transform(X_train_counts)\n",
    "\n",
    "model_mnb = MultinomialNB().fit(X_train_tfidf, y_train)\n",
    "\n",
    "X_test_counts = cwb_vectorizer.transform(X_test.Name)\n",
    "X_test_tfidf = tfidf_transformer.transform(X_test_counts)\n",
    "\n",
    "model_mnb.score(X_test_tfidf, y_test)"
   ]
  },
  {
   "cell_type": "code",
   "execution_count": 195,
   "metadata": {},
   "outputs": [
    {
     "data": {
      "text/plain": [
       "<1539732x27 sparse matrix of type '<class 'numpy.int64'>'\n",
       "\twith 9767778 stored elements in Compressed Sparse Row format>"
      ]
     },
     "execution_count": 195,
     "metadata": {},
     "output_type": "execute_result"
    }
   ],
   "source": [
    "X_train_counts"
   ]
  },
  {
   "cell_type": "code",
   "execution_count": 186,
   "metadata": {},
   "outputs": [
    {
     "data": {
      "text/plain": [
       "0.7537207773820379"
      ]
     },
     "execution_count": 186,
     "metadata": {},
     "output_type": "execute_result"
    }
   ],
   "source": [
    "cwb_vectorizer = CountVectorizer(analyzer='char_wb', ngram_range=(1,2))\n",
    "X_train_counts = cwb_vectorizer.fit_transform(X_train.Name)\n",
    "\n",
    "tfidf_transformer = TfidfTransformer(use_idf=False)\n",
    "X_train_tfidf = tfidf_transformer.fit_transform(X_train_counts)\n",
    "\n",
    "model_mnb = MultinomialNB().fit(X_train_tfidf, y_train)\n",
    "\n",
    "X_test_counts = cwb_vectorizer.transform(X_test.Name)\n",
    "X_test_tfidf = tfidf_transformer.transform(X_test_counts)\n",
    "\n",
    "model_mnb.score(X_test_tfidf, y_test)"
   ]
  },
  {
   "cell_type": "code",
   "execution_count": 184,
   "metadata": {},
   "outputs": [
    {
     "data": {
      "text/plain": [
       "0.8053063779930534"
      ]
     },
     "execution_count": 184,
     "metadata": {},
     "output_type": "execute_result"
    }
   ],
   "source": [
    "cwb_vectorizer = CountVectorizer(analyzer='char_wb', ngram_range=(1,3))\n",
    "X_train_counts = cwb_vectorizer.fit_transform(X_train.Name)\n",
    "\n",
    "tfidf_transformer = TfidfTransformer(use_idf=False)\n",
    "X_train_tfidf = tfidf_transformer.fit_transform(X_train_counts)\n",
    "\n",
    "model_mnb = MultinomialNB().fit(X_train_tfidf, y_train)\n",
    "\n",
    "X_test_counts = cwb_vectorizer.transform(X_test.Name)\n",
    "X_test_tfidf = tfidf_transformer.transform(X_test_counts)\n",
    "\n",
    "model_mnb.score(X_test_tfidf, y_test)"
   ]
  },
  {
   "cell_type": "code",
   "execution_count": 197,
   "metadata": {},
   "outputs": [
    {
     "data": {
      "text/plain": [
       "0.8663975289206174"
      ]
     },
     "execution_count": 197,
     "metadata": {},
     "output_type": "execute_result"
    }
   ],
   "source": [
    "cwb_vectorizer = CountVectorizer(analyzer='char_wb', lowercase=False, ngram_range=(1,4))\n",
    "X_train_counts = cwb_vectorizer.fit_transform(X_train.Name)\n",
    "\n",
    "tfidf_transformer = TfidfTransformer()\n",
    "X_train_tfidf = tfidf_transformer.fit_transform(X_train_counts)\n",
    "\n",
    "model_mnb = MultinomialNB().fit(X_train_tfidf, y_train)\n",
    "\n",
    "X_test_counts = cwb_vectorizer.transform(X_test.Name)\n",
    "X_test_tfidf = tfidf_transformer.transform(X_test_counts)\n",
    "\n",
    "model_mnb.score(X_test_tfidf, y_test)\n",
    "#0.8391668160433114"
   ]
  },
  {
   "cell_type": "code",
   "execution_count": 215,
   "metadata": {},
   "outputs": [
    {
     "data": {
      "text/plain": [
       "0.8400007273993136"
      ]
     },
     "execution_count": 215,
     "metadata": {},
     "output_type": "execute_result"
    }
   ],
   "source": [
    "cwb_vectorizer = CountVectorizer(analyzer='char_wb', lowercase=False, ngram_range=(2,3))\n",
    "X_train_counts = cwb_vectorizer.fit_transform(X_train.Name)\n",
    "\n",
    "tfidf_transformer = TfidfTransformer()\n",
    "X_train_tfidf = tfidf_transformer.fit_transform(X_train_counts)\n",
    "\n",
    "model_mnb = MultinomialNB().fit(X_train_tfidf, y_train)\n",
    "\n",
    "X_test_counts = cwb_vectorizer.transform(X_test.Name)\n",
    "X_test_tfidf = tfidf_transformer.transform(X_test_counts)\n",
    "\n",
    "model_mnb.score(X_test_tfidf, y_test)"
   ]
  },
  {
   "cell_type": "code",
   "execution_count": 199,
   "metadata": {},
   "outputs": [
    {
     "data": {
      "text/plain": [
       "0.8671223303795725"
      ]
     },
     "execution_count": 199,
     "metadata": {},
     "output_type": "execute_result"
    }
   ],
   "source": [
    "cwb_vectorizer = CountVectorizer(analyzer='char_wb', lowercase=False, ngram_range=(2,4))\n",
    "X_train_counts = cwb_vectorizer.fit_transform(X_train.Name)\n",
    "\n",
    "tfidf_transformer = TfidfTransformer()\n",
    "X_train_tfidf = tfidf_transformer.fit_transform(X_train_counts)\n",
    "\n",
    "model_mnb = MultinomialNB().fit(X_train_tfidf, y_train)\n",
    "\n",
    "X_test_counts = cwb_vectorizer.transform(X_test.Name)\n",
    "X_test_tfidf = tfidf_transformer.transform(X_test_counts)\n",
    "\n",
    "model_mnb.score(X_test_tfidf, y_test)\n",
    "#0.843866335180408"
   ]
  },
  {
   "cell_type": "code",
   "execution_count": 219,
   "metadata": {},
   "outputs": [
    {
     "data": {
      "text/plain": [
       "0.8816027724305269"
      ]
     },
     "execution_count": 219,
     "metadata": {},
     "output_type": "execute_result"
    }
   ],
   "source": [
    "cwb_vectorizer = CountVectorizer(analyzer='char_wb', lowercase=False, ngram_range=(2,5))\n",
    "X_train_counts = cwb_vectorizer.fit_transform(X_train.Name)\n",
    "\n",
    "tfidf_transformer = TfidfTransformer()\n",
    "X_train_tfidf = tfidf_transformer.fit_transform(X_train_counts)\n",
    "\n",
    "model_mnb = MultinomialNB().fit(X_train_tfidf, y_train)\n",
    "\n",
    "X_test_counts = cwb_vectorizer.transform(X_test.Name)\n",
    "X_test_tfidf = tfidf_transformer.transform(X_test_counts)\n",
    "\n",
    "model_mnb.score(X_test_tfidf, y_test)"
   ]
  },
  {
   "cell_type": "code",
   "execution_count": 220,
   "metadata": {},
   "outputs": [
    {
     "data": {
      "text/plain": [
       "0.8885884036962276"
      ]
     },
     "execution_count": 220,
     "metadata": {},
     "output_type": "execute_result"
    }
   ],
   "source": [
    "cwb_vectorizer = CountVectorizer(analyzer='char_wb', lowercase=False, ngram_range=(2,6))\n",
    "X_train_counts = cwb_vectorizer.fit_transform(X_train.Name)\n",
    "\n",
    "tfidf_transformer = TfidfTransformer()\n",
    "X_train_tfidf = tfidf_transformer.fit_transform(X_train_counts)\n",
    "\n",
    "model_mnb = MultinomialNB().fit(X_train_tfidf, y_train)\n",
    "\n",
    "X_test_counts = cwb_vectorizer.transform(X_test.Name)\n",
    "X_test_tfidf = tfidf_transformer.transform(X_test_counts)\n",
    "\n",
    "model_mnb.score(X_test_tfidf, y_test)"
   ]
  },
  {
   "cell_type": "code",
   "execution_count": 227,
   "metadata": {},
   "outputs": [
    {
     "data": {
      "text/plain": [
       "0.8915525558993384"
      ]
     },
     "execution_count": 227,
     "metadata": {},
     "output_type": "execute_result"
    }
   ],
   "source": [
    "cwb_vectorizer = CountVectorizer(analyzer='char_wb', lowercase=False, ngram_range=(2,7))\n",
    "X_train_counts = cwb_vectorizer.fit_transform(X_train.Name)\n",
    "\n",
    "tfidf_transformer = TfidfTransformer()\n",
    "X_train_tfidf = tfidf_transformer.fit_transform(X_train_counts)\n",
    "\n",
    "model_mnb = MultinomialNB().fit(X_train_tfidf, y_train)\n",
    "\n",
    "X_test_counts = cwb_vectorizer.transform(X_test.Name)\n",
    "X_test_tfidf = tfidf_transformer.transform(X_test_counts)\n",
    "\n",
    "model_mnb.score(X_test_tfidf, y_test)"
   ]
  },
  {
   "cell_type": "code",
   "execution_count": 234,
   "metadata": {},
   "outputs": [
    {
     "data": {
      "text/plain": [
       "0.8925449363915279"
      ]
     },
     "execution_count": 234,
     "metadata": {},
     "output_type": "execute_result"
    }
   ],
   "source": [
    "cwb_vectorizer = CountVectorizer(analyzer='char_wb', lowercase=False, ngram_range=(2,8))\n",
    "X_train_counts = cwb_vectorizer.fit_transform(X_train.Name)\n",
    "\n",
    "tfidf_transformer = TfidfTransformer()\n",
    "X_train_tfidf = tfidf_transformer.fit_transform(X_train_counts)\n",
    "\n",
    "model_mnb = MultinomialNB().fit(X_train_tfidf, y_train)\n",
    "\n",
    "X_test_counts = cwb_vectorizer.transform(X_test.Name)\n",
    "X_test_tfidf = tfidf_transformer.transform(X_test_counts)\n",
    "\n",
    "model_mnb.score(X_test_tfidf, y_test)\n",
    "#0.8925449363915279"
   ]
  },
  {
   "cell_type": "code",
   "execution_count": 235,
   "metadata": {},
   "outputs": [
    {
     "data": {
      "text/plain": [
       "0.8963300106771828"
      ]
     },
     "execution_count": 235,
     "metadata": {},
     "output_type": "execute_result"
    }
   ],
   "source": [
    "cwb_vectorizer = CountVectorizer(analyzer='char_wb', lowercase=False, ngram_range=(2,8))\n",
    "X_train_counts = cwb_vectorizer.fit_transform(X_train.Name)\n",
    "\n",
    "tfidf_transformer = TfidfTransformer()\n",
    "X_train_tfidf = tfidf_transformer.fit_transform(X_train_counts)\n",
    "\n",
    "model_mnb = MultinomialNB(alpha=0.01).fit(X_train_tfidf, y_train)\n",
    "\n",
    "X_test_counts = cwb_vectorizer.transform(X_test.Name)\n",
    "X_test_tfidf = tfidf_transformer.transform(X_test_counts)\n",
    "\n",
    "model_mnb.score(X_test_tfidf, y_test)\n",
    "#0.8925449363915279  alpha = 1.0\n",
    "#0.8963300106771828  alpha = 0.01"
   ]
  },
  {
   "cell_type": "code",
   "execution_count": 236,
   "metadata": {},
   "outputs": [
    {
     "data": {
      "text/plain": [
       "0.896348195660024"
      ]
     },
     "execution_count": 236,
     "metadata": {},
     "output_type": "execute_result"
    }
   ],
   "source": [
    "cwb_vectorizer = CountVectorizer(analyzer='char_wb', lowercase=False, ngram_range=(2,8))\n",
    "X_train_counts = cwb_vectorizer.fit_transform(X_train.Name)\n",
    "\n",
    "tfidf_transformer = TfidfTransformer()\n",
    "X_train_tfidf = tfidf_transformer.fit_transform(X_train_counts)\n",
    "\n",
    "model_mnb = MultinomialNB(alpha=0.001).fit(X_train_tfidf, y_train)\n",
    "\n",
    "X_test_counts = cwb_vectorizer.transform(X_test.Name)\n",
    "X_test_tfidf = tfidf_transformer.transform(X_test_counts)\n",
    "\n",
    "model_mnb.score(X_test_tfidf, y_test)\n",
    "#0.8925449363915279  alpha = 1.0\n",
    "#0.896091008045556   alpha = 0.1\n",
    "#0.8963300106771828  alpha = 0.01\n",
    "#0.896348195660024   alpha = 0.001\n",
    "#0.8962494771817433   alpha = 0.00001"
   ]
  },
  {
   "cell_type": "code",
   "execution_count": 257,
   "metadata": {},
   "outputs": [
    {
     "data": {
      "text/plain": [
       "0.89362304608854"
      ]
     },
     "execution_count": 257,
     "metadata": {},
     "output_type": "execute_result"
    }
   ],
   "source": [
    "cwb_vectorizer = CountVectorizer(analyzer='char_wb', lowercase=False, ngram_range=(2,14))\n",
    "X_train_counts = cwb_vectorizer.fit_transform(X_train.Name)\n",
    "\n",
    "#tfidf_transformer = TfidfTransformer()\n",
    "#X_train_tfidf = tfidf_transformer.fit_transform(X_train_counts)\n",
    "\n",
    "model_mnb = MultinomialNB(alpha=0.001).fit(X_train_counts, y_train)\n",
    "\n",
    "X_test_counts = cwb_vectorizer.transform(X_test.Name)\n",
    "#X_test_tfidf = tfidf_transformer.transform(X_test_counts)\n",
    "\n",
    "model_mnb.score(X_test_counts, y_test)\n",
    "#0.8925449363915279  alpha = 1.0\n",
    "#0.896091008045556   alpha = 0.1\n",
    "#0.8963300106771828  alpha = 0.01\n",
    "#0.896348195660024   alpha = 0.001\n",
    "#0.8965768068728843  ngram_range=(2,14)"
   ]
  },
  {
   "cell_type": "code",
   "execution_count": 274,
   "metadata": {},
   "outputs": [
    {
     "data": {
      "text/plain": [
       "0.8963559892240988"
      ]
     },
     "execution_count": 274,
     "metadata": {},
     "output_type": "execute_result"
    }
   ],
   "source": [
    "cwb_vectorizer = CountVectorizer(analyzer='char_wb', lowercase=False, ngram_range=(2,8))\n",
    "X_train_counts = cwb_vectorizer.fit_transform(X_train.Name)\n",
    "\n",
    "tfidf_transformer = TfidfTransformer(smooth_idf=False)\n",
    "X_train_tfidf = tfidf_transformer.fit_transform(X_train_counts)\n",
    "\n",
    "model_mnb = MultinomialNB(alpha=0.001).fit(X_train_tfidf, y_train)\n",
    "\n",
    "X_test_counts = cwb_vectorizer.transform(X_test.Name)\n",
    "X_test_tfidf = tfidf_transformer.transform(X_test_counts)\n",
    "\n",
    "model_mnb.score(X_test_tfidf, y_test)\n",
    "#0.8925449363915279  alpha = 1.0\n",
    "#0.896091008045556   alpha = 0.1\n",
    "#0.8963300106771828  alpha = 0.01\n",
    "#0.896348195660024   alpha = 0.001\n",
    "#0.8965768068728843  ngram_range=(2,14)\n",
    "#0.893591871832241   No tfidf\n",
    "###0.8973197933146807 ngram_range=(2,10)\n",
    "#0.8965794047275759 ngram_range=(2,12), smooth_idf=False\n",
    "#0.8965222519243609 ngram_range=(2,10), smooth_idf=False"
   ]
  },
  {
   "cell_type": "code",
   "execution_count": 277,
   "metadata": {},
   "outputs": [
    {
     "data": {
      "text/plain": [
       "array([910303., 629429.])"
      ]
     },
     "execution_count": 277,
     "metadata": {},
     "output_type": "execute_result"
    }
   ],
   "source": [
    "model_mnb.class_count_"
   ]
  },
  {
   "cell_type": "code",
   "execution_count": 278,
   "metadata": {},
   "outputs": [
    {
     "data": {
      "text/plain": [
       "0.8965170562149777"
      ]
     },
     "execution_count": 278,
     "metadata": {},
     "output_type": "execute_result"
    }
   ],
   "source": [
    "cwb_vectorizer = CountVectorizer(analyzer='char_wb', lowercase=False, ngram_range=(2,10))\n",
    "X_train_counts = cwb_vectorizer.fit_transform(X_train.Name)\n",
    "\n",
    "tfidf_transformer = TfidfTransformer()\n",
    "X_train_tfidf = tfidf_transformer.fit_transform(X_train_counts)\n",
    "\n",
    "model_mnb = MultinomialNB(alpha=0.001).fit(X_train_tfidf, y_train)\n",
    "\n",
    "X_test_counts = cwb_vectorizer.transform(X_test.Name)\n",
    "X_test_tfidf = tfidf_transformer.transform(X_test_counts)\n",
    "\n",
    "model_mnb.score(X_test_tfidf, y_test)\n",
    "#0.8925449363915279  alpha = 1.0\n",
    "#0.896091008045556   alpha = 0.1\n",
    "#0.8963300106771828  alpha = 0.01\n",
    "#0.896348195660024   alpha = 0.001\n",
    "#0.896296238566192   alpha = 0.0001\n",
    "#0.8962494771817433  alpha = 0.00001\n",
    "#0.8964936755227533  ngram_range=(2,9)"
   ]
  },
  {
   "cell_type": "code",
   "execution_count": 237,
   "metadata": {},
   "outputs": [
    {
     "data": {
      "text/plain": [
       "0.896091008045556"
      ]
     },
     "execution_count": 237,
     "metadata": {},
     "output_type": "execute_result"
    }
   ],
   "source": [
    "cwb_vectorizer = CountVectorizer(analyzer='char_wb', lowercase=False, ngram_range=(2,8))\n",
    "X_train_counts = cwb_vectorizer.fit_transform(X_train.Name)\n",
    "\n",
    "tfidf_transformer = TfidfTransformer()\n",
    "X_train_tfidf = tfidf_transformer.fit_transform(X_train_counts)\n",
    "\n",
    "model_mnb = MultinomialNB(alpha=0.1).fit(X_train_tfidf, y_train)\n",
    "\n",
    "X_test_counts = cwb_vectorizer.transform(X_test.Name)\n",
    "X_test_tfidf = tfidf_transformer.transform(X_test_counts)\n",
    "\n",
    "model_mnb.score(X_test_tfidf, y_test)\n",
    "#0.8925449363915279  alpha = 1.0\n",
    "#0.8963300106771828  alpha = 0.01"
   ]
  },
  {
   "cell_type": "code",
   "execution_count": null,
   "metadata": {},
   "outputs": [],
   "source": []
  },
  {
   "cell_type": "code",
   "execution_count": null,
   "metadata": {},
   "outputs": [],
   "source": []
  },
  {
   "cell_type": "code",
   "execution_count": 233,
   "metadata": {},
   "outputs": [
    {
     "data": {
      "text/plain": [
       "0.8928696682279773"
      ]
     },
     "execution_count": 233,
     "metadata": {},
     "output_type": "execute_result"
    }
   ],
   "source": [
    "cwb_vectorizer = CountVectorizer(analyzer='char_wb', lowercase=False, ngram_range=(2,9))\n",
    "X_train_counts = cwb_vectorizer.fit_transform(X_train.Name)\n",
    "\n",
    "tfidf_transformer = TfidfTransformer()\n",
    "X_train_tfidf = tfidf_transformer.fit_transform(X_train_counts)\n",
    "\n",
    "model_mnb = MultinomialNB().fit(X_train_tfidf, y_train)\n",
    "\n",
    "X_test_counts = cwb_vectorizer.transform(X_test.Name)\n",
    "X_test_tfidf = tfidf_transformer.transform(X_test_counts)\n",
    "\n",
    "model_mnb.score(X_test_tfidf, y_test)"
   ]
  },
  {
   "cell_type": "code",
   "execution_count": 230,
   "metadata": {},
   "outputs": [
    {
     "data": {
      "text/plain": [
       "0.8930151480907067"
      ]
     },
     "execution_count": 230,
     "metadata": {},
     "output_type": "execute_result"
    }
   ],
   "source": [
    "cwb_vectorizer = CountVectorizer(analyzer='char_wb', lowercase=False, ngram_range=(2,10))\n",
    "X_train_counts = cwb_vectorizer.fit_transform(X_train.Name)\n",
    "\n",
    "tfidf_transformer = TfidfTransformer()\n",
    "X_train_tfidf = tfidf_transformer.fit_transform(X_train_counts)\n",
    "\n",
    "model_mnb = MultinomialNB().fit(X_train_tfidf, y_train)\n",
    "\n",
    "X_test_counts = cwb_vectorizer.transform(X_test.Name)\n",
    "X_test_tfidf = tfidf_transformer.transform(X_test_counts)\n",
    "\n",
    "model_mnb.score(X_test_tfidf, y_test)"
   ]
  },
  {
   "cell_type": "code",
   "execution_count": 232,
   "metadata": {},
   "outputs": [
    {
     "data": {
      "text/plain": [
       "0.8930567137657722"
      ]
     },
     "execution_count": 232,
     "metadata": {},
     "output_type": "execute_result"
    }
   ],
   "source": [
    "cwb_vectorizer = CountVectorizer(analyzer='char_wb', lowercase=False, ngram_range=(2,15))\n",
    "X_train_counts = cwb_vectorizer.fit_transform(X_train.Name)\n",
    "\n",
    "tfidf_transformer = TfidfTransformer()\n",
    "X_train_tfidf = tfidf_transformer.fit_transform(X_train_counts)\n",
    "\n",
    "model_mnb = MultinomialNB().fit(X_train_tfidf, y_train)\n",
    "\n",
    "X_test_counts = cwb_vectorizer.transform(X_test.Name)\n",
    "X_test_tfidf = tfidf_transformer.transform(X_test_counts)\n",
    "\n",
    "model_mnb.score(X_test_tfidf, y_test)"
   ]
  },
  {
   "cell_type": "code",
   "execution_count": null,
   "metadata": {},
   "outputs": [],
   "source": []
  },
  {
   "cell_type": "code",
   "execution_count": null,
   "metadata": {},
   "outputs": [],
   "source": [
    "cwb_vectorizer = CountVectorizer(analyzer='char_wb', lowercase=False, ngram_range=(2,8))\n",
    "X_train_counts = cwb_vectorizer.fit_transform(X_train.Name)"
   ]
  },
  {
   "cell_type": "code",
   "execution_count": 279,
   "metadata": {},
   "outputs": [
    {
     "name": "stderr",
     "output_type": "stream",
     "text": [
      "/Users/tjs/anaconda3/envs/dh/lib/python3.7/site-packages/sklearn/linear_model/logistic.py:758: ConvergenceWarning: lbfgs failed to converge. Increase the number of iterations.\n",
      "  \"of iterations.\", ConvergenceWarning)\n"
     ]
    },
    {
     "data": {
      "text/plain": [
       "0.9005385352775678"
      ]
     },
     "execution_count": 279,
     "metadata": {},
     "output_type": "execute_result"
    }
   ],
   "source": [
    "cwb_vectorizer = CountVectorizer(analyzer='char_wb', lowercase=False, ngram_range=(2,8))\n",
    "X_train_counts = cwb_vectorizer.fit_transform(X_train.Name)\n",
    "\n",
    "model_logr = LogisticRegressionCV(cv=5, random_state=11, max_iter=200, n_jobs=-1)\n",
    "model_logr.fit(X_train_counts, y_train)\n",
    "\n",
    "X_test_counts = cwb_vectorizer.transform(X_test.Name)\n",
    "\n",
    "model_logr.score(X_test_counts, y_test)\n",
    "# 0.89368799245583 << cv=3\n",
    "# 0.8934411962601284 << cv=5\n",
    "# 0.9005385352775678 << counts, ngram_range=(2,8)"
   ]
  },
  {
   "cell_type": "code",
   "execution_count": 212,
   "metadata": {},
   "outputs": [
    {
     "data": {
      "text/plain": [
       "0.7502084778390006"
      ]
     },
     "execution_count": 212,
     "metadata": {},
     "output_type": "execute_result"
    }
   ],
   "source": [
    "cwb_vectorizer = CountVectorizer(analyzer='char_wb', lowercase=False, ngram_range=(1,1))\n",
    "X_train_counts = cwb_vectorizer.fit_transform(X_train.Name)\n",
    "\n",
    "tfidf_transformer = TfidfTransformer()\n",
    "X_train_tfidf = tfidf_transformer.fit_transform(X_train_counts)\n",
    "\n",
    "model_logr2 = LogisticRegressionCV(cv=5, random_state=11, max_iter=200, n_jobs=-1)\n",
    "model_logr2.fit(X_train_tfidf, y_train)\n",
    "X_test_counts = cwb_vectorizer.transform(X_test.Name)\n",
    "X_test_tfidf = tfidf_transformer.transform(X_test_counts)\n",
    "\n",
    "model_logr2.score(X_test_tfidf, y_test)"
   ]
  },
  {
   "cell_type": "code",
   "execution_count": 214,
   "metadata": {},
   "outputs": [
    {
     "data": {
      "text/plain": [
       "0.8241330309430472"
      ]
     },
     "execution_count": 214,
     "metadata": {},
     "output_type": "execute_result"
    }
   ],
   "source": [
    "cwb_vectorizer = CountVectorizer(analyzer='char_wb', lowercase=False, ngram_range=(1,2))\n",
    "X_train_counts = cwb_vectorizer.fit_transform(X_train.Name)\n",
    "\n",
    "tfidf_transformer = TfidfTransformer()\n",
    "X_train_tfidf = tfidf_transformer.fit_transform(X_train_counts)\n",
    "\n",
    "model_logr2 = LogisticRegressionCV(cv=5, random_state=11, max_iter=200, n_jobs=-1)\n",
    "model_logr2.fit(X_train_tfidf, y_train)\n",
    "\n",
    "X_test_counts = cwb_vectorizer.transform(X_test.Name)\n",
    "X_test_tfidf = tfidf_transformer.transform(X_test_counts)\n",
    "\n",
    "model_logr2.score(X_test_tfidf, y_test)"
   ]
  },
  {
   "cell_type": "code",
   "execution_count": null,
   "metadata": {},
   "outputs": [],
   "source": []
  },
  {
   "cell_type": "code",
   "execution_count": null,
   "metadata": {},
   "outputs": [],
   "source": [
    "# parameters = {\n",
    "#     'vect__max_df': (0.5, 0.75, 1.0),\n",
    "#     # 'vect__max_features': (None, 5000, 10000, 50000),\n",
    "#     'vect__ngram_range': ((1, 1), (1, 2)),  # unigrams or bigrams\n",
    "#     # 'tfidf__use_idf': (True, False),\n",
    "#     # 'tfidf__norm': ('l1', 'l2'),\n",
    "#     'clf__max_iter': (5,),\n",
    "#     'clf__alpha': (0.00001, 0.000001),\n",
    "#     'clf__penalty': ('l2', 'elasticnet'),\n",
    "#     # 'clf__max_iter': (10, 50, 80),\n",
    "# }"
   ]
  },
  {
   "cell_type": "code",
   "execution_count": 54,
   "metadata": {},
   "outputs": [
    {
     "name": "stdout",
     "output_type": "stream",
     "text": [
      "CPU times: user 37.4 s, sys: 1.41 s, total: 38.8 s\n",
      "Wall time: 37.2 s\n"
     ]
    }
   ],
   "source": [
    "%%time\n",
    "mnb_pipe = Pipeline([\n",
    "    ('vect', CountVectorizer(analyzer='char_wb', lowercase=False, ngram_range=(2,8))),\n",
    "    ('clf', MultinomialNB(alpha=0.001)),\n",
    "])\n",
    "\n",
    "mnb_pipe.fit(X_train.Name, y_train)"
   ]
  },
  {
   "cell_type": "code",
   "execution_count": 55,
   "metadata": {},
   "outputs": [
    {
     "data": {
      "text/plain": [
       "0.8927969282966126"
      ]
     },
     "execution_count": 55,
     "metadata": {},
     "output_type": "execute_result"
    }
   ],
   "source": [
    "mnb_pipe.score(X_test.Name, y_test)"
   ]
  },
  {
   "cell_type": "code",
   "execution_count": null,
   "metadata": {},
   "outputs": [],
   "source": [
    "%%time\n",
    "mnb_pipe2 = Pipeline([\n",
    "    ('vect', CountVectorizer(analyzer='char_wb', lowercase=False, ngram_range=(2,8))),\n",
    "    ('tfidf', TfidfTransformer()),\n",
    "    ('clf', MultinomialNB(alpha=0.001)),\n",
    "])\n",
    "\n",
    "mnb_pipe2.fit(X_train.Name, y_train)"
   ]
  },
  {
   "cell_type": "code",
   "execution_count": null,
   "metadata": {},
   "outputs": [],
   "source": [
    "mnb_pipe2.score(X_test.Name, y_test)"
   ]
  },
  {
   "cell_type": "code",
   "execution_count": 56,
   "metadata": {},
   "outputs": [
    {
     "name": "stdout",
     "output_type": "stream",
     "text": [
      "CPU times: user 38.7 s, sys: 1.45 s, total: 40.2 s\n",
      "Wall time: 38 s\n"
     ]
    }
   ],
   "source": [
    "%%time\n",
    "cnb_pipe = Pipeline([\n",
    "    ('vect', CountVectorizer(analyzer='char_wb', lowercase=False, ngram_range=(2,8))),\n",
    "    ('clf', ComplementNB(alpha=0.001)),\n",
    "])\n",
    "\n",
    "cnb_pipe.fit(X_train.Name, y_train)"
   ]
  },
  {
   "cell_type": "code",
   "execution_count": 57,
   "metadata": {},
   "outputs": [
    {
     "data": {
      "text/plain": [
       "0.8926384591604253"
      ]
     },
     "execution_count": 57,
     "metadata": {},
     "output_type": "execute_result"
    }
   ],
   "source": [
    "cnb_pipe.score(X_test.Name, y_test)"
   ]
  },
  {
   "cell_type": "code",
   "execution_count": 58,
   "metadata": {},
   "outputs": [
    {
     "name": "stdout",
     "output_type": "stream",
     "text": [
      "CPU times: user 46.2 s, sys: 1.52 s, total: 47.7 s\n",
      "Wall time: 45.1 s\n"
     ]
    }
   ],
   "source": [
    "%%time\n",
    "sgd_pipe = Pipeline([\n",
    "    ('vect', CountVectorizer(analyzer='char_wb', lowercase=False, ngram_range=(2,8))),\n",
    "    ('clf', SGDClassifier(loss='log', penalty='l2',\n",
    "                          alpha=0.001, random_state=11,\n",
    "                          max_iter=100, tol=1e-3)),\n",
    "])\n",
    "\n",
    "sgd_pipe.fit(X_train.Name, y_train)"
   ]
  },
  {
   "cell_type": "code",
   "execution_count": 59,
   "metadata": {},
   "outputs": [
    {
     "data": {
      "text/plain": [
       "0.8472513398435572"
      ]
     },
     "execution_count": 59,
     "metadata": {},
     "output_type": "execute_result"
    }
   ],
   "source": [
    "sgd_pipe.score(X_test.Name, y_test)"
   ]
  },
  {
   "cell_type": "code",
   "execution_count": null,
   "metadata": {},
   "outputs": [],
   "source": []
  },
  {
   "cell_type": "code",
   "execution_count": 60,
   "metadata": {},
   "outputs": [
    {
     "name": "stdout",
     "output_type": "stream",
     "text": [
      "CPU times: user 17min 49s, sys: 3.12 s, total: 17min 52s\n",
      "Wall time: 52min 20s\n"
     ]
    }
   ],
   "source": [
    "%%time\n",
    "logrcv_pipe = Pipeline([\n",
    "    ('vect', CountVectorizer(analyzer='char_wb', lowercase=False, ngram_range=(2,8))),\n",
    "    ('logrCV', LogisticRegressionCV(cv=5, random_state=11, max_iter=1000, n_jobs=-1)),\n",
    "])\n",
    "\n",
    "logrcv_pipe.fit(X_train.Name, y_train)"
   ]
  },
  {
   "cell_type": "code",
   "execution_count": 61,
   "metadata": {},
   "outputs": [
    {
     "data": {
      "text/plain": [
       "0.9006684280121475"
      ]
     },
     "execution_count": 61,
     "metadata": {},
     "output_type": "execute_result"
    }
   ],
   "source": [
    "logrcv_pipe.score(X_test.Name, y_test)"
   ]
  },
  {
   "cell_type": "code",
   "execution_count": null,
   "metadata": {},
   "outputs": [],
   "source": [
    "%%time\n",
    "logrcv_pipe2 = Pipeline([\n",
    "    ('vect', CountVectorizer(analyzer='char_wb', lowercase=False, ngram_range=(2,8))),\n",
    "    ('logrCV', LogisticRegressionCV(cv=5, solver='sag', random_state=11, max_iter=1000, n_jobs=-1)),\n",
    "])\n",
    "\n",
    "logrcv_pipe2.fit(X_train.Name, y_train)"
   ]
  },
  {
   "cell_type": "code",
   "execution_count": null,
   "metadata": {},
   "outputs": [],
   "source": [
    "logrcv_pipe2.score(X_test.Name, y_test)"
   ]
  },
  {
   "cell_type": "code",
   "execution_count": null,
   "metadata": {},
   "outputs": [],
   "source": []
  },
  {
   "cell_type": "code",
   "execution_count": null,
   "metadata": {},
   "outputs": [],
   "source": []
  },
  {
   "cell_type": "code",
   "execution_count": 226,
   "metadata": {},
   "outputs": [
    {
     "name": "stdout",
     "output_type": "stream",
     "text": [
      "[ 962333  962334  962335 ... 1924662 1924663 1924664] [     0      1      2 ... 962330 962331 962332]\n",
      "[     0      1      2 ... 962330 962331 962332] [ 962333  962334  962335 ... 1924662 1924663 1924664]\n"
     ]
    }
   ],
   "source": [
    "import numpy as np\n",
    "from sklearn.model_selection import KFold\n",
    "\n",
    "#X = [\"a\", \"b\", \"c\", \"d\"]\n",
    "kf = KFold(2)\n",
    "for train, test in kf.split(X):\n",
    "    print(\"%s %s\" % (train, test))\n"
   ]
  },
  {
   "cell_type": "code",
   "execution_count": null,
   "metadata": {},
   "outputs": [],
   "source": []
  },
  {
   "cell_type": "code",
   "execution_count": 211,
   "metadata": {},
   "outputs": [
    {
     "data": {
      "text/plain": [
       "<384933x83398 sparse matrix of type '<class 'numpy.int64'>'\n",
       "\twith 7124730 stored elements in Compressed Sparse Row format>"
      ]
     },
     "execution_count": 211,
     "metadata": {},
     "output_type": "execute_result"
    }
   ],
   "source": [
    "X_test_counts"
   ]
  },
  {
   "cell_type": "code",
   "execution_count": 188,
   "metadata": {},
   "outputs": [
    {
     "data": {
      "text/plain": [
       "0.848550267189355"
      ]
     },
     "execution_count": 188,
     "metadata": {},
     "output_type": "execute_result"
    }
   ],
   "source": [
    "cwb_vectorizer = CountVectorizer(analyzer='char_wb', ngram_range=(3,4))\n",
    "X_train_counts = cwb_vectorizer.fit_transform(X_train.Name)\n",
    "\n",
    "tfidf_transformer = TfidfTransformer(use_idf=False)\n",
    "X_train_tfidf = tfidf_transformer.fit_transform(X_train_counts)\n",
    "\n",
    "model_mnb = MultinomialNB().fit(X_train_tfidf, y_train)\n",
    "\n",
    "X_test_counts = cwb_vectorizer.transform(X_test.Name)\n",
    "X_test_tfidf = tfidf_transformer.transform(X_test_counts)\n",
    "\n",
    "model_mnb.score(X_test_tfidf, y_test)"
   ]
  },
  {
   "cell_type": "code",
   "execution_count": 175,
   "metadata": {},
   "outputs": [
    {
     "data": {
      "text/plain": [
       "{'norm': 'l2', 'smooth_idf': True, 'sublinear_tf': False, 'use_idf': True}"
      ]
     },
     "execution_count": 175,
     "metadata": {},
     "output_type": "execute_result"
    }
   ],
   "source": [
    "model_mnb = MultinomialNB().fit(X_train_tfidf, y_train)"
   ]
  },
  {
   "cell_type": "code",
   "execution_count": 164,
   "metadata": {},
   "outputs": [
    {
     "data": {
      "text/plain": [
       "<1539732x27 sparse matrix of type '<class 'numpy.int64'>'\n",
       "\twith 9767778 stored elements in Compressed Sparse Row format>"
      ]
     },
     "execution_count": 164,
     "metadata": {},
     "output_type": "execute_result"
    }
   ],
   "source": [
    "X_train_counts"
   ]
  },
  {
   "cell_type": "code",
   "execution_count": 149,
   "metadata": {},
   "outputs": [],
   "source": [
    "cwb_vectorizer = CountVectorizer(analyzer='char_wb', ngram_range=(1, 1))\n",
    "X_train_counts = cwb_vectorizer.fit_transform(X_train.Name)\n",
    "\n",
    "tfidf_transformer = TfidfTransformer()\n",
    "X_train_tfidf = tfidf_transformer.fit_transform(X_train_counts)\n",
    "\n",
    "model_mnb = MultinomialNB().fit(X_train_tfidf, y_train)\n",
    "\n",
    "X_test_counts = cwb_vectorizer.transform(X_test.Name)\n",
    "X_test_tfidf = tfidf_transformer.transform(X_test_counts)\n",
    "\n",
    "predicted = model_mnb.predict(X_test_tfidf)"
   ]
  },
  {
   "cell_type": "code",
   "execution_count": 150,
   "metadata": {},
   "outputs": [
    {
     "data": {
      "text/plain": [
       "0.6323931697204449"
      ]
     },
     "execution_count": 150,
     "metadata": {},
     "output_type": "execute_result"
    }
   ],
   "source": [
    "model_mnb.score(X_test_tfidf, y_test)"
   ]
  },
  {
   "cell_type": "code",
   "execution_count": 132,
   "metadata": {},
   "outputs": [
    {
     "data": {
      "text/plain": [
       "0.7593269478065013"
      ]
     },
     "execution_count": 132,
     "metadata": {},
     "output_type": "execute_result"
    }
   ],
   "source": [
    "cwb_vectorizer = CountVectorizer(analyzer='char_wb', ngram_range=(1, 2))\n",
    "X_train_counts = cwb_vectorizer.fit_transform(X_train.Name)\n",
    "\n",
    "tfidf_transformer = TfidfTransformer()\n",
    "X_train_tfidf = tfidf_transformer.fit_transform(X_train_counts)\n",
    "\n",
    "model_mnb = MultinomialNB().fit(X_train_tfidf, y_train)\n",
    "\n",
    "X_test_counts = cwb_vectorizer.transform(X_test.Name)\n",
    "X_test_tfidf = tfidf_transformer.transform(X_test_counts)\n",
    "\n",
    "model_mnb.score(X_test_tfidf, y_test)"
   ]
  },
  {
   "cell_type": "code",
   "execution_count": 151,
   "metadata": {},
   "outputs": [
    {
     "data": {
      "text/plain": [
       "0.8024929013620552"
      ]
     },
     "execution_count": 151,
     "metadata": {},
     "output_type": "execute_result"
    }
   ],
   "source": [
    "cwb_vectorizer = CountVectorizer(analyzer='char_wb', lowercase=False, ngram_range=(1, 2))\n",
    "X_train_counts = cwb_vectorizer.fit_transform(X_train.Name)\n",
    "\n",
    "tfidf_transformer = TfidfTransformer()\n",
    "X_train_tfidf = tfidf_transformer.fit_transform(X_train_counts)\n",
    "\n",
    "model_mnb = MultinomialNB().fit(X_train_tfidf, y_train)\n",
    "\n",
    "X_test_counts = cwb_vectorizer.transform(X_test.Name)\n",
    "X_test_tfidf = tfidf_transformer.transform(X_test_counts)\n",
    "\n",
    "model_mnb.score(X_test_tfidf, y_test)"
   ]
  },
  {
   "cell_type": "code",
   "execution_count": 152,
   "metadata": {},
   "outputs": [
    {
     "data": {
      "text/plain": [
       "0.8040516141770127"
      ]
     },
     "execution_count": 152,
     "metadata": {},
     "output_type": "execute_result"
    }
   ],
   "source": [
    "cwb_vectorizer = CountVectorizer(analyzer='char_wb', lowercase=False, ngram_range=(2, 2))\n",
    "X_train_counts = cwb_vectorizer.fit_transform(X_train.Name)\n",
    "\n",
    "tfidf_transformer = TfidfTransformer()\n",
    "X_train_tfidf = tfidf_transformer.fit_transform(X_train_counts)\n",
    "\n",
    "model_mnb = MultinomialNB().fit(X_train_tfidf, y_train)\n",
    "\n",
    "X_test_counts = cwb_vectorizer.transform(X_test.Name)\n",
    "X_test_tfidf = tfidf_transformer.transform(X_test_counts)\n",
    "\n",
    "model_mnb.score(X_test_tfidf, y_test)"
   ]
  },
  {
   "cell_type": "code",
   "execution_count": 153,
   "metadata": {},
   "outputs": [
    {
     "data": {
      "text/plain": [
       "0.7668970963778112"
      ]
     },
     "execution_count": 153,
     "metadata": {},
     "output_type": "execute_result"
    }
   ],
   "source": [
    "cwb_vectorizer = CountVectorizer(analyzer='char_wb', ngram_range=(2, 2))\n",
    "X_train_counts = cwb_vectorizer.fit_transform(X_train.Name)\n",
    "\n",
    "tfidf_transformer = TfidfTransformer()\n",
    "X_train_tfidf = tfidf_transformer.fit_transform(X_train_counts)\n",
    "\n",
    "model_mnb = MultinomialNB().fit(X_train_tfidf, y_train)\n",
    "\n",
    "X_test_counts = cwb_vectorizer.transform(X_test.Name)\n",
    "X_test_tfidf = tfidf_transformer.transform(X_test_counts)\n",
    "\n",
    "model_mnb.score(X_test_tfidf, y_test)"
   ]
  },
  {
   "cell_type": "code",
   "execution_count": 154,
   "metadata": {},
   "outputs": [
    {
     "data": {
      "text/plain": [
       "0.6359184585369402"
      ]
     },
     "execution_count": 154,
     "metadata": {},
     "output_type": "execute_result"
    }
   ],
   "source": [
    "cwb_vectorizer = CountVectorizer(analyzer='char', ngram_range=(1, 1))\n",
    "X_train_counts = cwb_vectorizer.fit_transform(X_train.Name)\n",
    "\n",
    "tfidf_transformer = TfidfTransformer()\n",
    "X_train_tfidf = tfidf_transformer.fit_transform(X_train_counts)\n",
    "\n",
    "model_mnb = MultinomialNB().fit(X_train_tfidf, y_train)\n",
    "\n",
    "X_test_counts = cwb_vectorizer.transform(X_test.Name)\n",
    "X_test_tfidf = tfidf_transformer.transform(X_test_counts)\n",
    "\n",
    "model_mnb.score(X_test_tfidf, y_test)"
   ]
  },
  {
   "cell_type": "code",
   "execution_count": 155,
   "metadata": {},
   "outputs": [
    {
     "data": {
      "text/plain": [
       "0.704418691044935"
      ]
     },
     "execution_count": 155,
     "metadata": {},
     "output_type": "execute_result"
    }
   ],
   "source": [
    "cwb_vectorizer = CountVectorizer(analyzer='char', ngram_range=(1, 2))\n",
    "X_train_counts = cwb_vectorizer.fit_transform(X_train.Name)\n",
    "\n",
    "tfidf_transformer = TfidfTransformer()\n",
    "X_train_tfidf = tfidf_transformer.fit_transform(X_train_counts)\n",
    "\n",
    "model_mnb = MultinomialNB().fit(X_train_tfidf, y_train)\n",
    "\n",
    "X_test_counts = cwb_vectorizer.transform(X_test.Name)\n",
    "X_test_tfidf = tfidf_transformer.transform(X_test_counts)\n",
    "\n",
    "model_mnb.score(X_test_tfidf, y_test)"
   ]
  },
  {
   "cell_type": "code",
   "execution_count": 156,
   "metadata": {},
   "outputs": [
    {
     "data": {
      "text/plain": [
       "0.7977596101139679"
      ]
     },
     "execution_count": 156,
     "metadata": {},
     "output_type": "execute_result"
    }
   ],
   "source": [
    "cwb_vectorizer = CountVectorizer(analyzer='char', lowercase=False, ngram_range=(1, 2))\n",
    "X_train_counts = cwb_vectorizer.fit_transform(X_train.Name)\n",
    "\n",
    "tfidf_transformer = TfidfTransformer()\n",
    "X_train_tfidf = tfidf_transformer.fit_transform(X_train_counts)\n",
    "\n",
    "model_mnb = MultinomialNB().fit(X_train_tfidf, y_train)\n",
    "\n",
    "X_test_counts = cwb_vectorizer.transform(X_test.Name)\n",
    "X_test_tfidf = tfidf_transformer.transform(X_test_counts)\n",
    "\n",
    "model_mnb.score(X_test_tfidf, y_test)"
   ]
  },
  {
   "cell_type": "code",
   "execution_count": 136,
   "metadata": {},
   "outputs": [
    {
     "data": {
      "text/plain": [
       "0.7042212540883738"
      ]
     },
     "execution_count": 136,
     "metadata": {},
     "output_type": "execute_result"
    }
   ],
   "source": [
    "cwb_vectorizer = CountVectorizer(analyzer='char', ngram_range=(2, 2))\n",
    "X_train_counts = cwb_vectorizer.fit_transform(X_train.Name)\n",
    "\n",
    "tfidf_transformer = TfidfTransformer()\n",
    "X_train_tfidf = tfidf_transformer.fit_transform(X_train_counts)\n",
    "\n",
    "model_mnb = MultinomialNB().fit(X_train_tfidf, y_train)\n",
    "\n",
    "X_test_counts = cwb_vectorizer.transform(X_test.Name)\n",
    "X_test_tfidf = tfidf_transformer.transform(X_test_counts)\n",
    "\n",
    "model_mnb.score(X_test_tfidf, y_test)"
   ]
  },
  {
   "cell_type": "code",
   "execution_count": 157,
   "metadata": {},
   "outputs": [
    {
     "data": {
      "text/plain": [
       "0.7984922051369978"
      ]
     },
     "execution_count": 157,
     "metadata": {},
     "output_type": "execute_result"
    }
   ],
   "source": [
    "cwb_vectorizer = CountVectorizer(analyzer='char', lowercase=False, ngram_range=(2, 2))\n",
    "X_train_counts = cwb_vectorizer.fit_transform(X_train.Name)\n",
    "\n",
    "tfidf_transformer = TfidfTransformer()\n",
    "X_train_tfidf = tfidf_transformer.fit_transform(X_train_counts)\n",
    "\n",
    "model_mnb = MultinomialNB().fit(X_train_tfidf, y_train)\n",
    "\n",
    "X_test_counts = cwb_vectorizer.transform(X_test.Name)\n",
    "X_test_tfidf = tfidf_transformer.transform(X_test_counts)\n",
    "\n",
    "model_mnb.score(X_test_tfidf, y_test)"
   ]
  },
  {
   "cell_type": "code",
   "execution_count": 65,
   "metadata": {},
   "outputs": [],
   "source": [
    "# c_vectorizer = CountVectorizer(analyzer='char', lowercase=False, ngram_range=(2, 2))\n",
    "# X_vect_c = c_vectorizer.fit_transform(X.Name)"
   ]
  },
  {
   "cell_type": "code",
   "execution_count": 114,
   "metadata": {},
   "outputs": [],
   "source": []
  },
  {
   "cell_type": "code",
   "execution_count": 115,
   "metadata": {},
   "outputs": [],
   "source": []
  },
  {
   "cell_type": "code",
   "execution_count": 120,
   "metadata": {},
   "outputs": [],
   "source": []
  },
  {
   "cell_type": "code",
   "execution_count": 121,
   "metadata": {},
   "outputs": [],
   "source": []
  },
  {
   "cell_type": "code",
   "execution_count": 122,
   "metadata": {},
   "outputs": [
    {
     "data": {
      "text/plain": [
       "0.6323931697204449"
      ]
     },
     "execution_count": 122,
     "metadata": {},
     "output_type": "execute_result"
    }
   ],
   "source": []
  },
  {
   "cell_type": "code",
   "execution_count": null,
   "metadata": {},
   "outputs": [],
   "source": []
  }
 ],
 "metadata": {
  "kernelspec": {
   "display_name": "Python 3",
   "language": "python",
   "name": "python3"
  },
  "language_info": {
   "codemirror_mode": {
    "name": "ipython",
    "version": 3
   },
   "file_extension": ".py",
   "mimetype": "text/x-python",
   "name": "python",
   "nbconvert_exporter": "python",
   "pygments_lexer": "ipython3",
   "version": "3.7.1"
  }
 },
 "nbformat": 4,
 "nbformat_minor": 2
}
